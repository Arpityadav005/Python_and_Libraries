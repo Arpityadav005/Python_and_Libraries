{
 "cells": [
  {
   "cell_type": "code",
   "execution_count": 1,
   "id": "77e29724-57e3-43e5-be69-05489fd21fe4",
   "metadata": {},
   "outputs": [],
   "source": [
    "#Agenda\n",
    "#Name Spaces\n",
    "#file handling\n",
    "#logging\n",
    "#exception handling\n",
    "#memory management"
   ]
  },
  {
   "cell_type": "code",
   "execution_count": 3,
   "id": "a93305d8-205e-4d7d-aafe-f11425dfc8e5",
   "metadata": {},
   "outputs": [
    {
     "data": {
      "text/plain": [
       "'A'"
      ]
     },
     "execution_count": 3,
     "metadata": {},
     "output_type": "execute_result"
    }
   ],
   "source": [
    "#namespace >> name + spaces\n",
    "#space that hold name(name is nothing but a identifier\n",
    "\n",
    "a = 'Ajay'\n",
    "a[0]"
   ]
  },
  {
   "cell_type": "code",
   "execution_count": 5,
   "id": "90337f93-7006-4b35-a7a7-8f9f13fbb7af",
   "metadata": {},
   "outputs": [
    {
     "name": "stdout",
     "output_type": "stream",
     "text": [
      "<class 'dict'>\n"
     ]
    }
   ],
   "source": [
    "d = {\"a\":\"Ajay\"}\n",
    "print(type(d))"
   ]
  },
  {
   "cell_type": "code",
   "execution_count": 7,
   "id": "96cca86f-a762-4846-930e-0de3b79214c9",
   "metadata": {},
   "outputs": [
    {
     "data": {
      "text/plain": [
       "'Ajay'"
      ]
     },
     "execution_count": 7,
     "metadata": {},
     "output_type": "execute_result"
    }
   ],
   "source": [
    "d['a']"
   ]
  },
  {
   "cell_type": "code",
   "execution_count": 9,
   "id": "ede7adfa-fe83-4d51-993b-f490b65e1288",
   "metadata": {},
   "outputs": [],
   "source": [
    "#Namespaces are stored in a dictionary formate with identifier as akey and theiw object as a value\n",
    "#Prove >> you can see above that the string is accessed in a similar way as a value is accessed using key"
   ]
  },
  {
   "cell_type": "code",
   "execution_count": 11,
   "id": "aeb505bb-9f17-4de2-a4e3-ab97ed5df4d5",
   "metadata": {},
   "outputs": [],
   "source": [
    "#there are 4 type of name spaces\n",
    "#Local Namespace\n",
    "#Enclosing Namespaces\n",
    "#Global namespace\n",
    "#builtin namespace\n",
    "\n",
    "#scope >> a scope is a region in a python program where name space us directly accessible\n",
    "#for example , if Rishab lives, he will be having access to his own room only,\n",
    "#if a varible is defined somewhere it will be only accessed by following some rule, that rule is called\n",
    "# LEGB rule\n",
    "#The LEGB rule states that Python interpreter will start looking inside out meaning it will look after\n",
    "# first local name space, then enclosed namespace the global and builtname space"
   ]
  },
  {
   "cell_type": "code",
   "execution_count": 13,
   "id": "74d547d8-bf65-4d5e-a4f9-b78c6ca47162",
   "metadata": {},
   "outputs": [
    {
     "data": {
      "text/plain": [
       "2"
      ]
     },
     "execution_count": 13,
     "metadata": {},
     "output_type": "execute_result"
    }
   ],
   "source": [
    "a=2\n",
    "a"
   ]
  },
  {
   "cell_type": "code",
   "execution_count": 15,
   "id": "a8ba153f-55a8-419b-8d6a-c44882f7e045",
   "metadata": {},
   "outputs": [
    {
     "data": {
      "text/plain": [
       "2"
      ]
     },
     "execution_count": 15,
     "metadata": {},
     "output_type": "execute_result"
    }
   ],
   "source": [
    "locals()['a']"
   ]
  },
  {
   "cell_type": "code",
   "execution_count": 17,
   "id": "52cb6db2-6902-45b4-9e06-2d32a5d37085",
   "metadata": {},
   "outputs": [
    {
     "name": "stdout",
     "output_type": "stream",
     "text": [
      "12\n",
      "10\n"
     ]
    }
   ],
   "source": [
    "#local and global\n",
    "a=10 #this a is global variable\n",
    "def func():\n",
    "    b=12  # b is local variable, local vairbale has its scope inside this fucntion\n",
    "    print(b)\n",
    "\n",
    "func()\n",
    "print(a)"
   ]
  },
  {
   "cell_type": "code",
   "execution_count": 19,
   "id": "a76bb7b7-598f-4874-9be2-603adcd8d448",
   "metadata": {},
   "outputs": [
    {
     "name": "stdout",
     "output_type": "stream",
     "text": [
      "10\n",
      "10\n"
     ]
    }
   ],
   "source": [
    "#the local vaiable can only be accessed inside the function..\n",
    "a=10 \n",
    "def func():\n",
    "    print(a)\n",
    "\n",
    "func()\n",
    "print(a)"
   ]
  },
  {
   "cell_type": "code",
   "execution_count": 21,
   "id": "ed9434b5-1362-4c3f-9372-38c29a8fb0dc",
   "metadata": {},
   "outputs": [],
   "source": [
    "#the global varibable can be accessed anywhere in the main program"
   ]
  },
  {
   "cell_type": "code",
   "execution_count": 23,
   "id": "b605c9e8-8c7e-4bde-92a2-26ace653f3d9",
   "metadata": {},
   "outputs": [
    {
     "name": "stdout",
     "output_type": "stream",
     "text": [
      "10\n",
      "11\n"
     ]
    }
   ],
   "source": [
    "#you can modify the globale variable outside teh function..\n",
    "a=10 \n",
    "def func():\n",
    "    print(a)\n",
    "\n",
    "func()\n",
    "a = a+1\n",
    "print(a)"
   ]
  },
  {
   "cell_type": "code",
   "execution_count": 25,
   "id": "45b41659-d5dd-458e-b7a7-05c0de478211",
   "metadata": {},
   "outputs": [
    {
     "ename": "UnboundLocalError",
     "evalue": "cannot access local variable 'a' where it is not associated with a value",
     "output_type": "error",
     "traceback": [
      "\u001b[0;31m---------------------------------------------------------------------------\u001b[0m",
      "\u001b[0;31mUnboundLocalError\u001b[0m                         Traceback (most recent call last)",
      "Cell \u001b[0;32mIn[25], line 9\u001b[0m\n\u001b[1;32m      6\u001b[0m     a \u001b[38;5;241m=\u001b[39m a\u001b[38;5;241m+\u001b[39m\u001b[38;5;241m1\u001b[39m\n\u001b[1;32m      7\u001b[0m     \u001b[38;5;28mprint\u001b[39m(a)\n\u001b[0;32m----> 9\u001b[0m func()\n\u001b[1;32m     10\u001b[0m \u001b[38;5;28mprint\u001b[39m(a)\n",
      "Cell \u001b[0;32mIn[25], line 6\u001b[0m, in \u001b[0;36mfunc\u001b[0;34m()\u001b[0m\n\u001b[1;32m      5\u001b[0m \u001b[38;5;28;01mdef\u001b[39;00m \u001b[38;5;21mfunc\u001b[39m():\n\u001b[0;32m----> 6\u001b[0m     a \u001b[38;5;241m=\u001b[39m a\u001b[38;5;241m+\u001b[39m\u001b[38;5;241m1\u001b[39m\n\u001b[1;32m      7\u001b[0m     \u001b[38;5;28mprint\u001b[39m(a)\n",
      "\u001b[0;31mUnboundLocalError\u001b[0m: cannot access local variable 'a' where it is not associated with a value"
     ]
    }
   ],
   "source": [
    "#editing global variable is not possible inside a local space\n",
    "#here it will throw you an error >>UnboundLocalError : Local variable 'a' referenced before assignment\n",
    "\n",
    "a=10 \n",
    "def func():\n",
    "    a = a+1\n",
    "    print(a)\n",
    "\n",
    "func()\n",
    "print(a)"
   ]
  },
  {
   "cell_type": "code",
   "execution_count": 27,
   "id": "aa8aa2c1-88fc-4952-8c83-bc509dd21fb6",
   "metadata": {},
   "outputs": [
    {
     "name": "stdout",
     "output_type": "stream",
     "text": [
      "11\n",
      "11\n"
     ]
    }
   ],
   "source": [
    "#Still you want to edit the global variable\n",
    "#global is created inside \n",
    "a=10 \n",
    "def func():\n",
    "    global a\n",
    "    a = a+1\n",
    "    print(a)\n",
    "\n",
    "func()\n",
    "print(a)"
   ]
  },
  {
   "cell_type": "code",
   "execution_count": 29,
   "id": "afaa7239-ef95-4dbf-9da1-06ef1f618546",
   "metadata": {},
   "outputs": [
    {
     "name": "stdout",
     "output_type": "stream",
     "text": [
      "10\n"
     ]
    },
    {
     "ename": "NameError",
     "evalue": "name 'p' is not defined",
     "output_type": "error",
     "traceback": [
      "\u001b[0;31m---------------------------------------------------------------------------\u001b[0m",
      "\u001b[0;31mNameError\u001b[0m                                 Traceback (most recent call last)",
      "Cell \u001b[0;32mIn[29], line 8\u001b[0m\n\u001b[1;32m      6\u001b[0m a\u001b[38;5;241m=\u001b[39m\u001b[38;5;241m10\u001b[39m\n\u001b[1;32m      7\u001b[0m func(a)\n\u001b[0;32m----> 8\u001b[0m \u001b[38;5;28mprint\u001b[39m(p)\n",
      "\u001b[0;31mNameError\u001b[0m: name 'p' is not defined"
     ]
    }
   ],
   "source": [
    "#function parameter is local\n",
    "a=10 \n",
    "def func(p):\n",
    "    print(p)\n",
    "\n",
    "a=10\n",
    "func(a)\n",
    "print(p)"
   ]
  },
  {
   "cell_type": "code",
   "execution_count": 31,
   "id": "67b9ac03-4a7a-4e7c-9ca8-070f570c71cc",
   "metadata": {},
   "outputs": [
    {
     "name": "stdout",
     "output_type": "stream",
     "text": [
      "Hello World\n"
     ]
    }
   ],
   "source": [
    "print(\"Hello World\")"
   ]
  },
  {
   "cell_type": "code",
   "execution_count": 33,
   "id": "a31391f3-0def-4718-94df-7e5f463a23b8",
   "metadata": {
    "scrolled": true
   },
   "outputs": [
    {
     "data": {
      "text/plain": [
       "['ArithmeticError',\n",
       " 'AssertionError',\n",
       " 'AttributeError',\n",
       " 'BaseException',\n",
       " 'BaseExceptionGroup',\n",
       " 'BlockingIOError',\n",
       " 'BrokenPipeError',\n",
       " 'BufferError',\n",
       " 'BytesWarning',\n",
       " 'ChildProcessError',\n",
       " 'ConnectionAbortedError',\n",
       " 'ConnectionError',\n",
       " 'ConnectionRefusedError',\n",
       " 'ConnectionResetError',\n",
       " 'DeprecationWarning',\n",
       " 'EOFError',\n",
       " 'Ellipsis',\n",
       " 'EncodingWarning',\n",
       " 'EnvironmentError',\n",
       " 'Exception',\n",
       " 'ExceptionGroup',\n",
       " 'False',\n",
       " 'FileExistsError',\n",
       " 'FileNotFoundError',\n",
       " 'FloatingPointError',\n",
       " 'FutureWarning',\n",
       " 'GeneratorExit',\n",
       " 'IOError',\n",
       " 'ImportError',\n",
       " 'ImportWarning',\n",
       " 'IndentationError',\n",
       " 'IndexError',\n",
       " 'InterruptedError',\n",
       " 'IsADirectoryError',\n",
       " 'KeyError',\n",
       " 'KeyboardInterrupt',\n",
       " 'LookupError',\n",
       " 'MemoryError',\n",
       " 'ModuleNotFoundError',\n",
       " 'NameError',\n",
       " 'None',\n",
       " 'NotADirectoryError',\n",
       " 'NotImplemented',\n",
       " 'NotImplementedError',\n",
       " 'OSError',\n",
       " 'OverflowError',\n",
       " 'PendingDeprecationWarning',\n",
       " 'PermissionError',\n",
       " 'ProcessLookupError',\n",
       " 'RecursionError',\n",
       " 'ReferenceError',\n",
       " 'ResourceWarning',\n",
       " 'RuntimeError',\n",
       " 'RuntimeWarning',\n",
       " 'StopAsyncIteration',\n",
       " 'StopIteration',\n",
       " 'SyntaxError',\n",
       " 'SyntaxWarning',\n",
       " 'SystemError',\n",
       " 'SystemExit',\n",
       " 'TabError',\n",
       " 'TimeoutError',\n",
       " 'True',\n",
       " 'TypeError',\n",
       " 'UnboundLocalError',\n",
       " 'UnicodeDecodeError',\n",
       " 'UnicodeEncodeError',\n",
       " 'UnicodeError',\n",
       " 'UnicodeTranslateError',\n",
       " 'UnicodeWarning',\n",
       " 'UserWarning',\n",
       " 'ValueError',\n",
       " 'Warning',\n",
       " 'ZeroDivisionError',\n",
       " '__IPYTHON__',\n",
       " '__build_class__',\n",
       " '__debug__',\n",
       " '__doc__',\n",
       " '__import__',\n",
       " '__loader__',\n",
       " '__name__',\n",
       " '__package__',\n",
       " '__spec__',\n",
       " 'abs',\n",
       " 'aiter',\n",
       " 'all',\n",
       " 'anext',\n",
       " 'any',\n",
       " 'ascii',\n",
       " 'bin',\n",
       " 'bool',\n",
       " 'breakpoint',\n",
       " 'bytearray',\n",
       " 'bytes',\n",
       " 'callable',\n",
       " 'chr',\n",
       " 'classmethod',\n",
       " 'compile',\n",
       " 'complex',\n",
       " 'copyright',\n",
       " 'credits',\n",
       " 'delattr',\n",
       " 'dict',\n",
       " 'dir',\n",
       " 'display',\n",
       " 'divmod',\n",
       " 'enumerate',\n",
       " 'eval',\n",
       " 'exec',\n",
       " 'execfile',\n",
       " 'filter',\n",
       " 'float',\n",
       " 'format',\n",
       " 'frozenset',\n",
       " 'get_ipython',\n",
       " 'getattr',\n",
       " 'globals',\n",
       " 'hasattr',\n",
       " 'hash',\n",
       " 'help',\n",
       " 'hex',\n",
       " 'id',\n",
       " 'input',\n",
       " 'int',\n",
       " 'isinstance',\n",
       " 'issubclass',\n",
       " 'iter',\n",
       " 'len',\n",
       " 'license',\n",
       " 'list',\n",
       " 'locals',\n",
       " 'map',\n",
       " 'max',\n",
       " 'memoryview',\n",
       " 'min',\n",
       " 'next',\n",
       " 'object',\n",
       " 'oct',\n",
       " 'open',\n",
       " 'ord',\n",
       " 'pow',\n",
       " 'print',\n",
       " 'property',\n",
       " 'range',\n",
       " 'repr',\n",
       " 'reversed',\n",
       " 'round',\n",
       " 'runfile',\n",
       " 'set',\n",
       " 'setattr',\n",
       " 'slice',\n",
       " 'sorted',\n",
       " 'staticmethod',\n",
       " 'str',\n",
       " 'sum',\n",
       " 'super',\n",
       " 'tuple',\n",
       " 'type',\n",
       " 'vars',\n",
       " 'zip']"
      ]
     },
     "execution_count": 33,
     "metadata": {},
     "output_type": "execute_result"
    }
   ],
   "source": [
    "#builtin scope\n",
    "import builtins\n",
    "dir(builtins)"
   ]
  },
  {
   "cell_type": "code",
   "execution_count": 35,
   "id": "8ece1342-7674-4000-809c-6b37a6a6956f",
   "metadata": {},
   "outputs": [
    {
     "data": {
      "text/plain": [
       "1"
      ]
     },
     "execution_count": 35,
     "metadata": {},
     "output_type": "execute_result"
    }
   ],
   "source": [
    "#never use builtins as you varibale name\n",
    "#python always folow LEGB rule\n",
    "L = [1,2,3,4,5]\n",
    "min(L)\n",
    "#python always folow LEGB rule, therefore in below example, the global min will be executed instead of builtin min as per LEGB rule\n"
   ]
  },
  {
   "cell_type": "code",
   "execution_count": 37,
   "id": "1669c4d0-85c5-4d35-b2ef-a82eae49ce3c",
   "metadata": {},
   "outputs": [
    {
     "ename": "TypeError",
     "evalue": "min() takes 0 positional arguments but 1 was given",
     "output_type": "error",
     "traceback": [
      "\u001b[0;31m---------------------------------------------------------------------------\u001b[0m",
      "\u001b[0;31mTypeError\u001b[0m                                 Traceback (most recent call last)",
      "Cell \u001b[0;32mIn[37], line 3\u001b[0m\n\u001b[1;32m      1\u001b[0m \u001b[38;5;28;01mdef\u001b[39;00m \u001b[38;5;21mmin\u001b[39m():\n\u001b[1;32m      2\u001b[0m     \u001b[38;5;28mprint\u001b[39m(\u001b[38;5;124m\"\u001b[39m\u001b[38;5;124mLife is better if monjolika loves me\u001b[39m\u001b[38;5;124m\"\u001b[39m)\n\u001b[0;32m----> 3\u001b[0m \u001b[38;5;28mprint\u001b[39m(\u001b[38;5;28mmin\u001b[39m(L))\n",
      "\u001b[0;31mTypeError\u001b[0m: min() takes 0 positional arguments but 1 was given"
     ]
    }
   ],
   "source": [
    "def min():\n",
    "    print(\"Life is better if monjolika loves me\")\n",
    "print(min(L))\n",
    "#LEGB rule is followed here.."
   ]
  },
  {
   "cell_type": "code",
   "execution_count": 39,
   "id": "346d2c61-4cb2-460c-a623-7fc0ab52039c",
   "metadata": {},
   "outputs": [
    {
     "name": "stdout",
     "output_type": "stream",
     "text": [
      "10\n",
      "Outer func\n",
      "This is main Program\n"
     ]
    }
   ],
   "source": [
    "#Enclosing space...\n",
    "#point1 >> inner_func is enclosed by outer_func\n",
    "#outer_func will have enclosing scope, enclosing scope is also known as non local scope\n",
    "\n",
    "a=10\n",
    "def outer_func():\n",
    "    def inner_func():\n",
    "        print(a)\n",
    "    inner_func()\n",
    "    print(\"Outer func\")\n",
    "outer_func()\n",
    "print(\"This is main Program\")\n",
    "\n",
    "#inner function becomes local here, main program becomes gloabl and outer function becomes\n",
    "#enclosing\n",
    "#LEGB rule >> local >> enclosing >> global scope gets executed\n",
    "#thats why in the result 10, outer func and thus is the main program"
   ]
  },
  {
   "cell_type": "code",
   "execution_count": 41,
   "id": "92a70f44-941d-4b0c-b999-61ac2514ba14",
   "metadata": {},
   "outputs": [
    {
     "ename": "UnboundLocalError",
     "evalue": "cannot access local variable 'a' where it is not associated with a value",
     "output_type": "error",
     "traceback": [
      "\u001b[0;31m---------------------------------------------------------------------------\u001b[0m",
      "\u001b[0;31mUnboundLocalError\u001b[0m                         Traceback (most recent call last)",
      "Cell \u001b[0;32mIn[41], line 11\u001b[0m\n\u001b[1;32m      9\u001b[0m     inner_func()\n\u001b[1;32m     10\u001b[0m     \u001b[38;5;28mprint\u001b[39m(\u001b[38;5;124m\"\u001b[39m\u001b[38;5;124mOuter func\u001b[39m\u001b[38;5;124m\"\u001b[39m)\n\u001b[0;32m---> 11\u001b[0m outer_func()\n\u001b[1;32m     12\u001b[0m \u001b[38;5;28mprint\u001b[39m(\u001b[38;5;124m\"\u001b[39m\u001b[38;5;124mThis is main Program\u001b[39m\u001b[38;5;124m\"\u001b[39m)\n",
      "Cell \u001b[0;32mIn[41], line 9\u001b[0m, in \u001b[0;36mouter_func\u001b[0;34m()\u001b[0m\n\u001b[1;32m      7\u001b[0m     a\u001b[38;5;241m=\u001b[39ma\u001b[38;5;241m+\u001b[39m\u001b[38;5;241m1\u001b[39m\n\u001b[1;32m      8\u001b[0m     \u001b[38;5;28mprint\u001b[39m(a)\n\u001b[0;32m----> 9\u001b[0m inner_func()\n\u001b[1;32m     10\u001b[0m \u001b[38;5;28mprint\u001b[39m(\u001b[38;5;124m\"\u001b[39m\u001b[38;5;124mOuter func\u001b[39m\u001b[38;5;124m\"\u001b[39m)\n",
      "Cell \u001b[0;32mIn[41], line 7\u001b[0m, in \u001b[0;36mouter_func.<locals>.inner_func\u001b[0;34m()\u001b[0m\n\u001b[1;32m      6\u001b[0m \u001b[38;5;28;01mdef\u001b[39;00m \u001b[38;5;21minner_func\u001b[39m():\n\u001b[0;32m----> 7\u001b[0m     a\u001b[38;5;241m=\u001b[39ma\u001b[38;5;241m+\u001b[39m\u001b[38;5;241m1\u001b[39m\n\u001b[1;32m      8\u001b[0m     \u001b[38;5;28mprint\u001b[39m(a)\n",
      "\u001b[0;31mUnboundLocalError\u001b[0m: cannot access local variable 'a' where it is not associated with a value"
     ]
    }
   ],
   "source": [
    "#editing enclosed scope variable\n",
    "#The following code will throw error, if you want to edit a then you can use another keyword\n",
    "#nonLocal\n",
    "def outer_func():\n",
    "    a=10\n",
    "    def inner_func():\n",
    "        a=a+1\n",
    "        print(a)\n",
    "    inner_func()\n",
    "    print(\"Outer func\")\n",
    "outer_func()\n",
    "print(\"This is main Program\")"
   ]
  },
  {
   "cell_type": "code",
   "execution_count": 43,
   "id": "686a6b11-a8b7-4eb7-8bba-16d4e3959b4b",
   "metadata": {},
   "outputs": [
    {
     "name": "stdout",
     "output_type": "stream",
     "text": [
      "11\n",
      "Outer func\n",
      "This is main Program\n"
     ]
    }
   ],
   "source": [
    "def outer_func():\n",
    "    a=10\n",
    "    def inner_func():\n",
    "        nonlocal a\n",
    "        a=a+1\n",
    "        print(a)\n",
    "    inner_func()\n",
    "    print(\"Outer func\")\n",
    "outer_func()\n",
    "print(\"This is main Program\")"
   ]
  },
  {
   "cell_type": "code",
   "execution_count": 45,
   "id": "0a455564-f7a4-4548-b0a0-3bf0d4a38bbc",
   "metadata": {},
   "outputs": [],
   "source": [
    "#points\n",
    "#loops >> main program\n",
    "#in case of multiple neseted functions\n",
    "#the inner most will be the local scope >> all the function will have enclosing\n",
    "#space and the outer function will be global namespace\n",
    "#whenever a parent function is executed all the variables related to the function\n",
    "#is lost or cleared/deleted by python but if there is parent function is executed still child\n",
    "#can access to the parent function variable \n"
   ]
  },
  {
   "cell_type": "code",
   "execution_count": 47,
   "id": "0ce45fe4-b730-4d10-a2df-dc6e41e5c2c7",
   "metadata": {},
   "outputs": [],
   "source": [
    "#file handling\n",
    "#why? >> obviously data is stored in the file\n",
    "#Types of data to be stored in a file:\n",
    "#text >> sequence of unicode character\n",
    "#binary >> sequency of bytes if its binary equivalent\n",
    "\n",
    "\n",
    "#You will also deal with two types of files\n",
    "#text file\n",
    "#binary file\n",
    "\n",
    "#operations on file >> one a file, read/write a file and close the file\n"
   ]
  },
  {
   "cell_type": "code",
   "execution_count": 49,
   "id": "aa717841-1161-440a-b263-fd9a7cda1ce5",
   "metadata": {},
   "outputs": [],
   "source": [
    "# r >> read mode\n",
    "# w >> write mode\n",
    "# a >> append mode\n",
    "# r+ >> both reading and writing together"
   ]
  },
  {
   "cell_type": "code",
   "execution_count": 51,
   "id": "a4af2536-f54b-485e-be9e-51cd7b3fa64a",
   "metadata": {},
   "outputs": [],
   "source": [
    "#if the file is not present\n",
    "file = open(\"file.txt\",\"w\") #w is write mode it create a new file, if it does't exist"
   ]
  },
  {
   "cell_type": "code",
   "execution_count": 53,
   "id": "5b9bdf25-a746-403c-89c9-efbf3c838298",
   "metadata": {},
   "outputs": [
    {
     "data": {
      "text/plain": [
       "33"
      ]
     },
     "execution_count": 53,
     "metadata": {},
     "output_type": "execute_result"
    }
   ],
   "source": [
    "file.write(\"This is my first line in the file\")\n",
    "#33 is no if bytes that you have written"
   ]
  },
  {
   "cell_type": "code",
   "execution_count": 55,
   "id": "6a69a1a0-2f17-4595-9b00-42a72f5801d5",
   "metadata": {},
   "outputs": [],
   "source": [
    "file.close() #always close the fle in order to save the changes"
   ]
  },
  {
   "cell_type": "code",
   "execution_count": 57,
   "id": "51a5e2e9-3e15-47fa-aede-3dee2bd7d604",
   "metadata": {},
   "outputs": [],
   "source": [
    "#How exactly open works?\n",
    "#All the files are stored in hard drive (ROM) when u use open with 'w' mode, python keep a copy \n",
    "#in RAM's buffer memory. Buffer memory is a memory where you read characters one by one form starting\n",
    "#then u do read and write, and the moment when file is closed, it is again send to hard drive\n",
    "#why file.close() >> Resource cleanup from RAM, to protect file\n",
    "#(from hacker, it does't become corrupt)\n"
   ]
  },
  {
   "cell_type": "code",
   "execution_count": 59,
   "id": "003d481e-efaa-457b-91fb-ab0adf88ed4a",
   "metadata": {},
   "outputs": [],
   "source": [
    "#attribute of file"
   ]
  },
  {
   "cell_type": "code",
   "execution_count": 61,
   "id": "aff237e2-2d3b-4be1-a92a-8fc36a06f1e6",
   "metadata": {},
   "outputs": [
    {
     "data": {
      "text/plain": [
       "True"
      ]
     },
     "execution_count": 61,
     "metadata": {},
     "output_type": "execute_result"
    }
   ],
   "source": [
    "file.closed"
   ]
  },
  {
   "cell_type": "code",
   "execution_count": 63,
   "id": "9f5db7d4-e800-414e-9fd1-8252042cd924",
   "metadata": {},
   "outputs": [
    {
     "data": {
      "text/plain": [
       "'file.txt'"
      ]
     },
     "execution_count": 63,
     "metadata": {},
     "output_type": "execute_result"
    }
   ],
   "source": [
    "file.name"
   ]
  },
  {
   "cell_type": "code",
   "execution_count": 65,
   "id": "fd0e3b97-e55f-4bdb-9ab2-86a9e38dfb08",
   "metadata": {},
   "outputs": [
    {
     "data": {
      "text/plain": [
       "'w'"
      ]
     },
     "execution_count": 65,
     "metadata": {},
     "output_type": "execute_result"
    }
   ],
   "source": [
    "file.mode"
   ]
  },
  {
   "cell_type": "code",
   "execution_count": 67,
   "id": "fdd54fa9-40c0-4b84-9979-b2338c6fcfa0",
   "metadata": {},
   "outputs": [
    {
     "ename": "ValueError",
     "evalue": "I/O operation on closed file.",
     "output_type": "error",
     "traceback": [
      "\u001b[0;31m---------------------------------------------------------------------------\u001b[0m",
      "\u001b[0;31mValueError\u001b[0m                                Traceback (most recent call last)",
      "Cell \u001b[0;32mIn[67], line 1\u001b[0m\n\u001b[0;32m----> 1\u001b[0m file\u001b[38;5;241m.\u001b[39mwrite(\u001b[38;5;124m\"\u001b[39m\u001b[38;5;124mThis is my second line\u001b[39m\u001b[38;5;124m\"\u001b[39m)\n",
      "\u001b[0;31mValueError\u001b[0m: I/O operation on closed file."
     ]
    }
   ],
   "source": [
    "file.write(\"This is my second line\")\n",
    "#this will throw an error\n",
    "#because file is closed"
   ]
  },
  {
   "cell_type": "code",
   "execution_count": 69,
   "id": "942841db-b2e0-4f2d-9dba-06bdbf92d47b",
   "metadata": {},
   "outputs": [
    {
     "data": {
      "text/plain": [
       "23"
      ]
     },
     "execution_count": 69,
     "metadata": {},
     "output_type": "execute_result"
    }
   ],
   "source": [
    "file = open(\"file.txt\",'w')\n",
    "file.write(\"this is my second line \\n\")\n",
    "file.write(\"this is my third line \\n\")\n",
    "file.write(\"this is my forth line \\n\")"
   ]
  },
  {
   "cell_type": "code",
   "execution_count": 71,
   "id": "02b14052-e1d3-4803-b0c3-598a6bb051bb",
   "metadata": {},
   "outputs": [],
   "source": [
    "file.close()"
   ]
  },
  {
   "cell_type": "code",
   "execution_count": 73,
   "id": "7cd8280e-c6c2-4797-adcc-2e21d3a33065",
   "metadata": {},
   "outputs": [],
   "source": [
    "#advantage of w mode >> it will always create a new file, thats why the last file was over\n",
    "#written , unable to see \"This is my first line\"\n",
    "\n",
    "#solution is append mode >> it add the strings in the last\n",
    "\n",
    "file = open(\"file.txt\",\"a\")\n",
    "file.write(\"this is my fifth line \\n\")\n",
    "file.close()"
   ]
  },
  {
   "cell_type": "code",
   "execution_count": 75,
   "id": "7f889e66-d0e5-4c13-9f4e-1cc2084f7ce1",
   "metadata": {},
   "outputs": [],
   "source": [
    "#write multiple lines in one go >> writelines\n",
    "l = [\"this is my first line \\n\",\"this is my second line \\n\",\"this is my third line \\n\",]\n",
    "file = open(\"file.txt\",\"w\")\n",
    "file.writelines(l)\n",
    "file.close()"
   ]
  },
  {
   "cell_type": "code",
   "execution_count": 77,
   "id": "3722bd47-1964-4a46-b3f1-b614e088b58e",
   "metadata": {},
   "outputs": [],
   "source": [
    "file = open(\"file.txt\",'r')"
   ]
  },
  {
   "cell_type": "code",
   "execution_count": 79,
   "id": "27835dda-0564-461f-9f9f-663c16a648c8",
   "metadata": {},
   "outputs": [
    {
     "ename": "UnsupportedOperation",
     "evalue": "not writable",
     "output_type": "error",
     "traceback": [
      "\u001b[0;31m---------------------------------------------------------------------------\u001b[0m",
      "\u001b[0;31mUnsupportedOperation\u001b[0m                      Traceback (most recent call last)",
      "Cell \u001b[0;32mIn[79], line 1\u001b[0m\n\u001b[0;32m----> 1\u001b[0m file\u001b[38;5;241m.\u001b[39mwrite(\u001b[38;5;124m\"\u001b[39m\u001b[38;5;124mthis is a new line\u001b[39m\u001b[38;5;124m\"\u001b[39m)\n",
      "\u001b[0;31mUnsupportedOperation\u001b[0m: not writable"
     ]
    }
   ],
   "source": [
    "file.write(\"this is a new line\") #this will throw an error as file is \n",
    "#as file is opened in read mode, you can't write\n"
   ]
  },
  {
   "cell_type": "code",
   "execution_count": 85,
   "id": "01a6bd77-3473-4d3b-b702-39212659b13d",
   "metadata": {},
   "outputs": [
    {
     "name": "stdout",
     "output_type": "stream",
     "text": [
      "this is my first line \n",
      "this is my second line \n",
      "this is my third line \n",
      "\n"
     ]
    }
   ],
   "source": [
    "#read the line\n",
    "file = open(\"file.txt\",'r')\n",
    "t = file.read()\n",
    "print(t)\n",
    "file.close()"
   ]
  },
  {
   "cell_type": "code",
   "execution_count": 87,
   "id": "d0411816-4182-4281-b3ff-3531b3bbeb19",
   "metadata": {},
   "outputs": [
    {
     "name": "stdout",
     "output_type": "stream",
     "text": [
      "this is my f\n"
     ]
    }
   ],
   "source": [
    "#other way to read the file\n",
    "file = open(\"file.txt\",'r') \n",
    "t = file.read(12)\n",
    "print(t)\n",
    "file.close()"
   ]
  },
  {
   "cell_type": "code",
   "execution_count": 95,
   "id": "f26f25f5-95dd-4f5d-b0b6-0893bfafcb71",
   "metadata": {},
   "outputs": [
    {
     "name": "stdout",
     "output_type": "stream",
     "text": [
      "this is my first line \n",
      "this is my second line \n",
      "this is my third line \n"
     ]
    }
   ],
   "source": [
    "#readline >> read the first line\n",
    "file = open(\"file.txt\",'r')\n",
    "print(file.readline(), end = \"\")\n",
    "print(file.readline(), end = \"\")\n",
    "print(file.readline(), end = \"\")\n",
    "print(file.readline(), end = \"\")"
   ]
  },
  {
   "cell_type": "code",
   "execution_count": 97,
   "id": "ecb91aa4-f2b5-46c0-bb1d-fb2a7e65d267",
   "metadata": {},
   "outputs": [],
   "source": [
    "#importance of readline >> you have a file more than your RAM, it will throw out of mwmory error\n",
    "#in that case readline comes very handy and you can use to read line wise line and do some computation\n",
    "#this way at a time only line will be in RAM"
   ]
  },
  {
   "cell_type": "code",
   "execution_count": 99,
   "id": "b38089b3-a222-4fbe-a5b1-4f1cdda34c4c",
   "metadata": {},
   "outputs": [
    {
     "name": "stdout",
     "output_type": "stream",
     "text": [
      "this is my first line \n",
      "this is my second line \n",
      "this is my third line \n"
     ]
    }
   ],
   "source": [
    "#reading entire file using readline\n",
    "file = open(\"file.txt\",'r')\n",
    "while True:\n",
    "    data  = file.readline()\n",
    "    if data == \"\":\n",
    "        break\n",
    "    else: \n",
    "        print(data, end = \"\")\n",
    "file.close()"
   ]
  },
  {
   "cell_type": "code",
   "execution_count": 101,
   "id": "0926fdef-d91c-41eb-8923-0597f1eba8a0",
   "metadata": {},
   "outputs": [
    {
     "name": "stdout",
     "output_type": "stream",
     "text": [
      "this is my first line \n",
      "this is my second line \n",
      "this is my third line \n",
      "\n"
     ]
    }
   ],
   "source": [
    "#seek and tell\n",
    "file = open(\"file.txt\",'r')\n",
    "print(file.read()) #here the cursor or pointer is at last position\n"
   ]
  },
  {
   "cell_type": "code",
   "execution_count": 105,
   "id": "7c3598f0-c2b6-4658-bd81-db1fda017010",
   "metadata": {},
   "outputs": [
    {
     "data": {
      "text/plain": [
       "70"
      ]
     },
     "execution_count": 105,
     "metadata": {},
     "output_type": "execute_result"
    }
   ],
   "source": [
    "file.tell() #it tells the current position of the cursor"
   ]
  },
  {
   "cell_type": "code",
   "execution_count": 109,
   "id": "5a9eef99-b5e7-49ae-bd78-6f180638ce81",
   "metadata": {},
   "outputs": [
    {
     "data": {
      "text/plain": [
       "''"
      ]
     },
     "execution_count": 109,
     "metadata": {},
     "output_type": "execute_result"
    }
   ],
   "source": [
    "file.read() # after all the text there is nothing thats why emepty string\n"
   ]
  },
  {
   "cell_type": "code",
   "execution_count": 117,
   "id": "1ac31bdb-2520-4f13-9d0f-c3bea1daee3c",
   "metadata": {},
   "outputs": [
    {
     "data": {
      "text/plain": [
       "0"
      ]
     },
     "execution_count": 117,
     "metadata": {},
     "output_type": "execute_result"
    }
   ],
   "source": [
    "file.seek(0) #seek set the cursor at whatever position you want\n"
   ]
  },
  {
   "cell_type": "code",
   "execution_count": 132,
   "id": "a6c10747-83de-4d3c-a2da-7b1db2877b55",
   "metadata": {},
   "outputs": [
    {
     "name": "stdout",
     "output_type": "stream",
     "text": [
      "this is my first line \n",
      "\n"
     ]
    }
   ],
   "source": [
    "file = open(\"file.txt\",'r')\n",
    "print(file.readline())\n",
    "file.close()"
   ]
  },
  {
   "cell_type": "code",
   "execution_count": 136,
   "id": "d2bdf363-208c-4e09-8e1b-04047b5e3e21",
   "metadata": {},
   "outputs": [
    {
     "name": "stdout",
     "output_type": "stream",
     "text": [
      "is my first line \n",
      "this is my second line \n",
      "this is my third line \n",
      "\n"
     ]
    }
   ],
   "source": [
    "file =open(\"file.txt\",'r')\n",
    "file.seek(5) #it is sitting up the cursor at 5th position\n",
    "print(file.read())\n",
    "file.close()"
   ]
  },
  {
   "cell_type": "code",
   "execution_count": 140,
   "id": "59235eef-e728-4cd9-85d0-b9e47be92fd1",
   "metadata": {},
   "outputs": [],
   "source": [
    "#seek and write\n",
    "file = open('file.txt','w')\n",
    "file.write('this is my first line')\n",
    "file.seek(0)\n",
    "file.write('India')\n",
    "file.close()\n",
    "\n",
    "#here in the result file, the text will be >> Inidais my first line\n",
    "#this is replaced"
   ]
  },
  {
   "cell_type": "code",
   "execution_count": 142,
   "id": "05e68d37-7492-4dfa-8314-5e90a7212370",
   "metadata": {},
   "outputs": [],
   "source": [
    "#using context manager(with)"
   ]
  },
  {
   "cell_type": "code",
   "execution_count": 148,
   "id": "43c1ed9e-5932-46a1-93b9-489c996b8c98",
   "metadata": {},
   "outputs": [],
   "source": [
    "with open('file.txt','w') as file:\n",
    "    file.write(\"I love monjolika\")"
   ]
  },
  {
   "cell_type": "code",
   "execution_count": 150,
   "id": "e038e64f-fd9e-468c-a078-903510efb286",
   "metadata": {},
   "outputs": [],
   "source": [
    "#pointers..\n",
    "#its always a good idea to close the file after opening it\n",
    "#if we dont close python collector will automatically close\n",
    "#with keyword closes the file as you are done with operation   \n",
    "\n"
   ]
  },
  {
   "cell_type": "code",
   "execution_count": 156,
   "id": "8c4ecaf8-8d1c-44a1-b01a-546ab1d94b38",
   "metadata": {},
   "outputs": [],
   "source": [
    "with open('file.txt','w') as file:\n",
    "    file.write(\"this is my first line \\n\")\n",
    "    file.write(\"this is my second line \\n\")\n",
    "    file.write(\"this is my third line \\n\")\n",
    "    file.write(\"this is my forth line \\n\")"
   ]
  },
  {
   "cell_type": "code",
   "execution_count": 167,
   "id": "4e5f476f-96f4-46ad-9e51-6db40e8c46f8",
   "metadata": {},
   "outputs": [
    {
     "name": "stdout",
     "output_type": "stream",
     "text": [
      "this is my\n",
      " first lin\n",
      "e \n",
      "this is\n",
      " my second\n"
     ]
    }
   ],
   "source": [
    "#open the file with context\n",
    "with open(\"file.txt\",'r') as file:\n",
    "    print(file.read(10))\n",
    "    print(file.read(10))\n",
    "    print(file.read(10))\n",
    "    print(file.read(10))"
   ]
  },
  {
   "cell_type": "code",
   "execution_count": 169,
   "id": "24801956-3611-43b7-8d34-29ead24a5050",
   "metadata": {},
   "outputs": [],
   "source": [
    "#to load a big file memory"
   ]
  },
  {
   "cell_type": "code",
   "execution_count": 171,
   "id": "5c7c0817-b9b9-47de-9931-5fd80fb25e27",
   "metadata": {},
   "outputs": [],
   "source": [
    "#Interview Question\n",
    "#what is namespace\n",
    "#what is LEGB scope\n",
    "#what is benifut of using open\n"
   ]
  },
  {
   "cell_type": "code",
   "execution_count": null,
   "id": "0d4474f0-ffd5-405f-bb0f-1be881afe9ab",
   "metadata": {},
   "outputs": [],
   "source": []
  },
  {
   "cell_type": "code",
   "execution_count": null,
   "id": "7ab2eb2d-f834-46d1-a46f-dcbb16af1b10",
   "metadata": {},
   "outputs": [],
   "source": []
  },
  {
   "cell_type": "code",
   "execution_count": null,
   "id": "e699487b-0d8a-408c-84fd-e5afafb9e0cd",
   "metadata": {},
   "outputs": [],
   "source": []
  },
  {
   "cell_type": "code",
   "execution_count": null,
   "id": "f952b1c8-c506-45e6-aaa0-80165eb84a78",
   "metadata": {},
   "outputs": [],
   "source": []
  },
  {
   "cell_type": "code",
   "execution_count": null,
   "id": "2b0ea280-bc10-4590-9aa6-f22c5f0bdc78",
   "metadata": {},
   "outputs": [],
   "source": []
  }
 ],
 "metadata": {
  "kernelspec": {
   "display_name": "Python 3 (ipykernel)",
   "language": "python",
   "name": "python3"
  },
  "language_info": {
   "codemirror_mode": {
    "name": "ipython",
    "version": 3
   },
   "file_extension": ".py",
   "mimetype": "text/x-python",
   "name": "python",
   "nbconvert_exporter": "python",
   "pygments_lexer": "ipython3",
   "version": "3.12.7"
  }
 },
 "nbformat": 4,
 "nbformat_minor": 5
}
