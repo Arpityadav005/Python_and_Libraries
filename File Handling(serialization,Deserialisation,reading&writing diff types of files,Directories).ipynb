{
 "cells": [
  {
   "cell_type": "code",
   "execution_count": 78,
   "id": "268ecdd5-22fb-4a63-9892-de2ae2e33925",
   "metadata": {},
   "outputs": [],
   "source": [
    "#Agenda\n",
    "#working with directories\n",
    "#serialization-deserialization\n",
    "#pickling\n",
    "#logging and Exception handling\n"
   ]
  },
  {
   "cell_type": "code",
   "execution_count": 80,
   "id": "c3efe118-31c7-43f3-b03b-271f8200189a",
   "metadata": {},
   "outputs": [],
   "source": [
    "#Earlier in the last class we worked with text files\n",
    "#the image reading is not possible in text mode\n",
    "#similary it is aslo not possible to read other data type int, float, list, tuples\n"
   ]
  },
  {
   "cell_type": "code",
   "execution_count": 82,
   "id": "27038b20-51d1-4501-9e0f-bb5a9fa937f4",
   "metadata": {},
   "outputs": [
    {
     "ename": "UnicodeDecodeError",
     "evalue": "'utf-8' codec can't decode byte 0x89 in position 0: invalid start byte",
     "output_type": "error",
     "traceback": [
      "\u001b[0;31m---------------------------------------------------------------------------\u001b[0m",
      "\u001b[0;31mUnicodeDecodeError\u001b[0m                        Traceback (most recent call last)",
      "Cell \u001b[0;32mIn[82], line 2\u001b[0m\n\u001b[1;32m      1\u001b[0m \u001b[38;5;28;01mwith\u001b[39;00m \u001b[38;5;28mopen\u001b[39m(\u001b[38;5;124m\"\u001b[39m\u001b[38;5;124mimage.png\u001b[39m\u001b[38;5;124m\"\u001b[39m,\u001b[38;5;124m'\u001b[39m\u001b[38;5;124mr\u001b[39m\u001b[38;5;124m'\u001b[39m) \u001b[38;5;28;01mas\u001b[39;00m file:\n\u001b[0;32m----> 2\u001b[0m     file\u001b[38;5;241m.\u001b[39mread()\n",
      "File \u001b[0;32m<frozen codecs>:322\u001b[0m, in \u001b[0;36mdecode\u001b[0;34m(self, input, final)\u001b[0m\n",
      "\u001b[0;31mUnicodeDecodeError\u001b[0m: 'utf-8' codec can't decode byte 0x89 in position 0: invalid start byte"
     ]
    }
   ],
   "source": [
    "with open(\"image.png\",'r') as file:\n",
    "    file.read()"
   ]
  },
  {
   "cell_type": "code",
   "execution_count": 84,
   "id": "b2390dd5-f38b-4b23-a49b-acd822f6fc91",
   "metadata": {},
   "outputs": [],
   "source": [
    "#the above command with throw an error >> r mode works with text data\n"
   ]
  },
  {
   "cell_type": "code",
   "execution_count": 86,
   "id": "57b803bf-47be-46fd-8d3f-16a6b5168ed5",
   "metadata": {},
   "outputs": [],
   "source": [
    "with open('file.txt','w') as file:\n",
    "    file.write('india is great')"
   ]
  },
  {
   "cell_type": "code",
   "execution_count": 88,
   "id": "c462f8d4-1db9-463e-8964-b0f4f86ce673",
   "metadata": {},
   "outputs": [
    {
     "ename": "TypeError",
     "evalue": "write() argument must be str, not int",
     "output_type": "error",
     "traceback": [
      "\u001b[0;31m---------------------------------------------------------------------------\u001b[0m",
      "\u001b[0;31mTypeError\u001b[0m                                 Traceback (most recent call last)",
      "Cell \u001b[0;32mIn[88], line 2\u001b[0m\n\u001b[1;32m      1\u001b[0m \u001b[38;5;28;01mwith\u001b[39;00m \u001b[38;5;28mopen\u001b[39m(\u001b[38;5;124m'\u001b[39m\u001b[38;5;124mfile.txt\u001b[39m\u001b[38;5;124m'\u001b[39m,\u001b[38;5;124m'\u001b[39m\u001b[38;5;124mw\u001b[39m\u001b[38;5;124m'\u001b[39m) \u001b[38;5;28;01mas\u001b[39;00m file:\n\u001b[0;32m----> 2\u001b[0m     file\u001b[38;5;241m.\u001b[39mwrite(\u001b[38;5;241m5\u001b[39m)\n",
      "\u001b[0;31mTypeError\u001b[0m: write() argument must be str, not int"
     ]
    }
   ],
   "source": [
    "with open('file.txt','w') as file:\n",
    "    file.write(5)\n",
    "\n",
    "#this will throw an error because it works with string data"
   ]
  },
  {
   "cell_type": "code",
   "execution_count": 90,
   "id": "a4534011-7224-4bca-b7ea-a08f751da728",
   "metadata": {},
   "outputs": [],
   "source": [
    "with open('file.txt','w') as file:\n",
    "    file.write('10')"
   ]
  },
  {
   "cell_type": "code",
   "execution_count": 92,
   "id": "0644a2ea-3c83-4af2-812e-271ae7968de3",
   "metadata": {},
   "outputs": [
    {
     "ename": "TypeError",
     "evalue": "can only concatenate str (not \"int\") to str",
     "output_type": "error",
     "traceback": [
      "\u001b[0;31m---------------------------------------------------------------------------\u001b[0m",
      "\u001b[0;31mTypeError\u001b[0m                                 Traceback (most recent call last)",
      "Cell \u001b[0;32mIn[92], line 2\u001b[0m\n\u001b[1;32m      1\u001b[0m \u001b[38;5;28;01mwith\u001b[39;00m \u001b[38;5;28mopen\u001b[39m(\u001b[38;5;124m'\u001b[39m\u001b[38;5;124mfile.txt\u001b[39m\u001b[38;5;124m'\u001b[39m,\u001b[38;5;124m'\u001b[39m\u001b[38;5;124mr\u001b[39m\u001b[38;5;124m'\u001b[39m) \u001b[38;5;28;01mas\u001b[39;00m file:\n\u001b[0;32m----> 2\u001b[0m     \u001b[38;5;28mprint\u001b[39m(file\u001b[38;5;241m.\u001b[39mread()\u001b[38;5;241m+\u001b[39m\u001b[38;5;241m10\u001b[39m)\n",
      "\u001b[0;31mTypeError\u001b[0m: can only concatenate str (not \"int\") to str"
     ]
    }
   ],
   "source": [
    "with open('file.txt','r') as file:\n",
    "    print(file.read()+10)\n",
    "\n",
    "#it means the value 10 inside the string is int"
   ]
  },
  {
   "cell_type": "code",
   "execution_count": 94,
   "id": "5fc116f7-7aa2-4b00-a835-0dee7de0ac25",
   "metadata": {},
   "outputs": [
    {
     "name": "stdout",
     "output_type": "stream",
     "text": [
      "30\n"
     ]
    }
   ],
   "source": [
    "with open('file.txt','r') as file:\n",
    "    print(int(file.read())+20)\n",
    "\n",
    "#it will not throw an error as you converted into integer and then adding int\n",
    "#but this will not work in every case"
   ]
  },
  {
   "cell_type": "code",
   "execution_count": 96,
   "id": "ecc0255f-7067-416b-8cc5-e53b76c20d76",
   "metadata": {},
   "outputs": [],
   "source": [
    "#solution either convert to string or use writeline\n",
    "student = {\n",
    "    \"name\": \"Rajkumar\",\n",
    "    'age' : 31,\n",
    "    'gender': 'Male'\n",
    "}\n",
    "\n",
    "with open('student.txt','w') as file:\n",
    "    file.write(str(student))"
   ]
  },
  {
   "cell_type": "code",
   "execution_count": 98,
   "id": "ecd16da1-6a94-41f9-907a-16bd33748479",
   "metadata": {},
   "outputs": [],
   "source": [
    "student = {\n",
    "    \"name\": \"Rajkumar\",\n",
    "    'age' : 32,\n",
    "    'gender': 'Male'\n",
    "}\n",
    "\n",
    "with open('student.txt','w') as file:\n",
    "    file.writelines(str(student))"
   ]
  },
  {
   "cell_type": "code",
   "execution_count": 100,
   "id": "c52e65fb-649a-4008-bebf-31c2006b5c1c",
   "metadata": {},
   "outputs": [],
   "source": [
    "# lines = [\"Name: Rajkumar\\n\", \"Age: 32\\n\", \"Gender: Male\\n\"]\n",
    "\n",
    "# with open(\"student.txt\", \"w\") as f:\n",
    "#     f.writelines(lines)   # Correct use of writelines\n"
   ]
  },
  {
   "cell_type": "code",
   "execution_count": 102,
   "id": "d1211126-b2f4-4e72-84b9-7e84a242175e",
   "metadata": {},
   "outputs": [],
   "source": [
    "#now read the same file >> it will return string, try convertingto dictionary it will throw an error\n",
    "with open('student.txt') as file:\n",
    "    s=file.read()"
   ]
  },
  {
   "cell_type": "code",
   "execution_count": 104,
   "id": "fa65cd97-b379-4605-9764-e4c2e213f51c",
   "metadata": {},
   "outputs": [
    {
     "data": {
      "text/plain": [
       "str"
      ]
     },
     "execution_count": 104,
     "metadata": {},
     "output_type": "execute_result"
    }
   ],
   "source": [
    "type(s)"
   ]
  },
  {
   "cell_type": "code",
   "execution_count": 106,
   "id": "524b45b6-f095-49da-ad79-0cbdf63b1e31",
   "metadata": {},
   "outputs": [
    {
     "ename": "ValueError",
     "evalue": "dictionary update sequence element #0 has length 1; 2 is required",
     "output_type": "error",
     "traceback": [
      "\u001b[0;31m---------------------------------------------------------------------------\u001b[0m",
      "\u001b[0;31mValueError\u001b[0m                                Traceback (most recent call last)",
      "Cell \u001b[0;32mIn[106], line 1\u001b[0m\n\u001b[0;32m----> 1\u001b[0m \u001b[38;5;28mdict\u001b[39m(s)\n",
      "\u001b[0;31mValueError\u001b[0m: dictionary update sequence element #0 has length 1; 2 is required"
     ]
    }
   ],
   "source": [
    "dict(s)"
   ]
  },
  {
   "cell_type": "code",
   "execution_count": 108,
   "id": "02ea847c-b09f-4a4a-9499-36a6c514dbff",
   "metadata": {},
   "outputs": [
    {
     "ename": "ValueError",
     "evalue": "dictionary update sequence element #0 has length 1; 2 is required",
     "output_type": "error",
     "traceback": [
      "\u001b[0;31m---------------------------------------------------------------------------\u001b[0m",
      "\u001b[0;31mValueError\u001b[0m                                Traceback (most recent call last)",
      "Cell \u001b[0;32mIn[108], line 2\u001b[0m\n\u001b[1;32m      1\u001b[0m \u001b[38;5;28;01mwith\u001b[39;00m \u001b[38;5;28mopen\u001b[39m(\u001b[38;5;124m'\u001b[39m\u001b[38;5;124mstudent.txt\u001b[39m\u001b[38;5;124m'\u001b[39m,\u001b[38;5;124m'\u001b[39m\u001b[38;5;124mr\u001b[39m\u001b[38;5;124m'\u001b[39m) \u001b[38;5;28;01mas\u001b[39;00m file:\n\u001b[0;32m----> 2\u001b[0m     \u001b[38;5;28mprint\u001b[39m(\u001b[38;5;28mdict\u001b[39m(file\u001b[38;5;241m.\u001b[39mread()))\n",
      "\u001b[0;31mValueError\u001b[0m: dictionary update sequence element #0 has length 1; 2 is required"
     ]
    }
   ],
   "source": [
    "with open('student.txt','r') as file:\n",
    "    print(dict(file.read()))"
   ]
  },
  {
   "cell_type": "code",
   "execution_count": 110,
   "id": "ea3ce0c3-6c88-476e-960e-87eb78c4b224",
   "metadata": {},
   "outputs": [],
   "source": [
    "#whenever you read/write a text file >> we work in RAM and store back in ROM\n",
    "#it expects string and we are providing a dictionary in string formate\n",
    "#when it write back to RAM, the dictionalry structure(key-value) is lost\n",
    "#so when you read again and try to convert to dictionary it throws an error"
   ]
  },
  {
   "cell_type": "code",
   "execution_count": 112,
   "id": "321ce0f0-e89b-45f4-80d5-8bde7185ee98",
   "metadata": {},
   "outputs": [],
   "source": [
    "#serialization and deserialisation (asked in fang)\n",
    "#JSON, or JavaScript Object Notation, is a file formate and data interchange format that uses human readable\n",
    "#text to store and transmit data\n",
    "#JASON look like dictionary\n",
    "\n",
    "\n",
    "#serialization >> process of converting any python data type into JSON format\n",
    "#In compution, serialization (or serialisation, also referred tto as pickling in python) is the process of\n",
    "#translating a data structure or object state into a format that can be stored (e.g. file in secondary\n",
    "#storage devices, data buffers in primary storage devices) or transmitted (e.g. data streams over computer\n",
    "# networks) and reconstructed later (pssibly in a different computer environment).\n",
    "\n",
    "\n",
    "#deserialisation >> process of converting json format to orginal python datatype\n"
   ]
  },
  {
   "attachments": {
    "5e758326-172f-4c43-b5d2-ed8c2a7fb0ce.png": {
     "image/png": "[encoded data removed]"
    }
   },
   "cell_type": "markdown",
   "id": "80f41d62-eebb-45f5-bb6e-cbbd4dff8f7c",
   "metadata": {},
   "source": [
    "![image.png](attachment:5e758326-172f-4c43-b5d2-ed8c2a7fb0ce.png)"
   ]
  },
  {
   "cell_type": "code",
   "execution_count": 115,
   "id": "046b90da-45ab-4b77-adf3-79298e830c99",
   "metadata": {},
   "outputs": [],
   "source": [
    "#stream of bytes means collection of bits means multiple 0's and 1's\n"
   ]
  },
  {
   "attachments": {
    "5cb59b01-eeb8-4c4a-a857-aa48080c7a58.png": {
     "image/png": "[encoded data removed]"
    }
   },
   "cell_type": "markdown",
   "id": "4d2c00ed-d1df-4a4a-9191-5980bca20978",
   "metadata": {},
   "source": [
    "Jason Structure\n",
    "![image.png](attachment:5cb59b01-eeb8-4c4a-a857-aa48080c7a58.png)"
   ]
  },
  {
   "cell_type": "code",
   "execution_count": 118,
   "id": "68cab2cd-2d8f-4dd1-b8b3-ea372bb5e2e0",
   "metadata": {},
   "outputs": [],
   "source": [
    "import json #json is a module using which u can store the data in dict format\n",
    "#json.dump\n",
    "#serialize `` obj `` as a json formated stream\n",
    "\n",
    "student = {\n",
    "    \"name\": \"Rajkumar\",\n",
    "    'age' : 32,\n",
    "    'gender': 'Male'\n",
    "}\n",
    "\n",
    "with open('student.json','w') as file:\n",
    "    json.dump(student,file)"
   ]
  },
  {
   "cell_type": "code",
   "execution_count": 120,
   "id": "73dddf9b-6d8a-4fff-822d-5a465fd65bef",
   "metadata": {},
   "outputs": [],
   "source": [
    "student = {\n",
    "    \"name\": \"Rajkumar\",\n",
    "    'age' : 32,\n",
    "    'gender': 'Male'\n",
    "}\n",
    "\n",
    "with open('student.json','w') as file:\n",
    "    json.dump(student,file,indent = 4) #indent to store dictionary in the orginal formate with indentation\n",
    "#4space is 1 tab"
   ]
  },
  {
   "cell_type": "code",
   "execution_count": 122,
   "id": "644b5a3c-a4b1-4f80-bf6c-59f1fc4a5930",
   "metadata": {},
   "outputs": [
    {
     "name": "stdout",
     "output_type": "stream",
     "text": [
      "{'name': 'Rajkumar', 'age': 32, 'gender': 'Male'}\n",
      "<class 'dict'>\n"
     ]
    }
   ],
   "source": [
    "#writing was never a problem\n",
    "#problem was writing in the orginal structure so that while reading ,the structure remains intact\n",
    "\n",
    "#deserialisation\n",
    "\n",
    "with open(\"student.json\",'r') as file:\n",
    "    d = json.load(file)\n",
    "    print(d)\n",
    "    print(type(d))"
   ]
  },
  {
   "cell_type": "markdown",
   "id": "50c75828-f795-4f27-8a86-900e9efb915e",
   "metadata": {},
   "source": [
    "# Industry Use Case\n",
    "- while working with file and database, you will be always using json format format for data structures other than\n",
    "- string"
   ]
  },
  {
   "cell_type": "code",
   "execution_count": 125,
   "id": "19517199-bbb3-49a6-9489-eba8462f7555",
   "metadata": {},
   "outputs": [],
   "source": [
    "raj = {\n",
    "    'Name' : 'RajKumar',\n",
    "    'age' : 23,\n",
    "    'domain': 'DataScience'\n",
    "}\n",
    "with open('raj.json','w') as file:\n",
    "    json.dump(raj,file)"
   ]
  },
  {
   "cell_type": "code",
   "execution_count": 127,
   "id": "231c3821-5917-4e50-acf5-50127adfd620",
   "metadata": {},
   "outputs": [
    {
     "name": "stdout",
     "output_type": "stream",
     "text": [
      "{'Name': 'RajKumar', 'age': 23, 'domain': 'DataScience'}\n",
      "<class 'dict'>\n"
     ]
    }
   ],
   "source": [
    "with open('raj.json','r') as file:\n",
    "    d = json.load(file)\n",
    "    print(d)\n",
    "    print(type(d))"
   ]
  },
  {
   "cell_type": "raw",
   "id": "1d5673cf-7e76-4d3d-8650-f035c05cd110",
   "metadata": {},
   "source": [
    "#How excel file or csv file is converted json\n",
    "{\n",
    "'gender' : ['m','m','f','f']\n",
    "'Name'\n",
    "}"
   ]
  },
  {
   "cell_type": "code",
   "execution_count": 129,
   "id": "d077ef5c-3b4d-4a69-92b5-94a120032812",
   "metadata": {},
   "outputs": [],
   "source": [
    "student = {\n",
    "    'name':'Rajkumar',\n",
    "    'course':['ML','DL','CV']\n",
    "}\n",
    "with open('student.json','w') as file:\n",
    "    json.dump(student,file)"
   ]
  },
  {
   "cell_type": "code",
   "execution_count": 131,
   "id": "b296d20c-f805-453a-854d-e3f9fa9434e7",
   "metadata": {},
   "outputs": [],
   "source": [
    "#Storing list, tuples\n",
    "student = ('Raj','Simran','Monjolika')\n",
    "with open('student1.json','w') as file:\n",
    "    json.dump(student,file)"
   ]
  },
  {
   "cell_type": "code",
   "execution_count": 133,
   "id": "b6a21411-f575-4150-bcc6-c48202524351",
   "metadata": {},
   "outputs": [],
   "source": [
    "student = ['Raj','Simran','Monjolika']\n",
    "with open('student1.json','w') as file:\n",
    "    json.dump(student,file)"
   ]
  },
  {
   "cell_type": "code",
   "execution_count": 135,
   "id": "fe5cd488-e15a-4065-bff6-1c7367849d22",
   "metadata": {},
   "outputs": [],
   "source": [
    "# serialisation and deserialisation of custom object"
   ]
  },
  {
   "cell_type": "code",
   "execution_count": 137,
   "id": "007effe1-90a8-4963-a15e-8c3c0d48f8d1",
   "metadata": {},
   "outputs": [],
   "source": [
    "class Student:\n",
    "\n",
    "    def __init__(self, name, age, gender):\n",
    "        self.name = name\n",
    "        self.gender = gender\n",
    "        self.age = age"
   ]
  },
  {
   "cell_type": "code",
   "execution_count": 139,
   "id": "0fc3eb42-b3ab-4023-85c9-89de90875254",
   "metadata": {},
   "outputs": [],
   "source": [
    "s = Student(\"Sada\",31,\"Male\")"
   ]
  },
  {
   "cell_type": "code",
   "execution_count": 141,
   "id": "50c9844d-2c1c-45db-a3e2-c95c7aa14f46",
   "metadata": {},
   "outputs": [],
   "source": [
    "#I want the object to be stored and shown in this format\n",
    "#name:sada, gender:male, age:31\n",
    "#each time you make an object the data is stored in the above format of the class student\n",
    "\n"
   ]
  },
  {
   "cell_type": "code",
   "execution_count": 143,
   "id": "4b37b4b1-9926-4796-935b-d8698f01d89b",
   "metadata": {},
   "outputs": [
    {
     "ename": "TypeError",
     "evalue": "Object of type Student is not JSON serializable",
     "output_type": "error",
     "traceback": [
      "\u001b[0;31m---------------------------------------------------------------------------\u001b[0m",
      "\u001b[0;31mTypeError\u001b[0m                                 Traceback (most recent call last)",
      "Cell \u001b[0;32mIn[143], line 7\u001b[0m\n\u001b[1;32m      1\u001b[0m \u001b[38;5;66;03m#The following will give you an error >> TypeError : Object of type Student is not JSON serializable\u001b[39;00m\n\u001b[1;32m      2\u001b[0m \u001b[38;5;66;03m#because json does't knoww how class Student look like\u001b[39;00m\n\u001b[1;32m      3\u001b[0m \u001b[38;5;66;03m#it does not know the class , the how ti will store object\u001b[39;00m\n\u001b[1;32m      6\u001b[0m \u001b[38;5;28;01mwith\u001b[39;00m \u001b[38;5;28mopen\u001b[39m(\u001b[38;5;124m\"\u001b[39m\u001b[38;5;124mstundet.json\u001b[39m\u001b[38;5;124m\"\u001b[39m,\u001b[38;5;124m'\u001b[39m\u001b[38;5;124mw\u001b[39m\u001b[38;5;124m'\u001b[39m) \u001b[38;5;28;01mas\u001b[39;00m file:\n\u001b[0;32m----> 7\u001b[0m     json\u001b[38;5;241m.\u001b[39mdump(s,file)\n",
      "File \u001b[0;32m/Applications/anaconda/anaconda3/lib/python3.12/json/__init__.py:179\u001b[0m, in \u001b[0;36mdump\u001b[0;34m(obj, fp, skipkeys, ensure_ascii, check_circular, allow_nan, cls, indent, separators, default, sort_keys, **kw)\u001b[0m\n\u001b[1;32m    173\u001b[0m     iterable \u001b[38;5;241m=\u001b[39m \u001b[38;5;28mcls\u001b[39m(skipkeys\u001b[38;5;241m=\u001b[39mskipkeys, ensure_ascii\u001b[38;5;241m=\u001b[39mensure_ascii,\n\u001b[1;32m    174\u001b[0m         check_circular\u001b[38;5;241m=\u001b[39mcheck_circular, allow_nan\u001b[38;5;241m=\u001b[39mallow_nan, indent\u001b[38;5;241m=\u001b[39mindent,\n\u001b[1;32m    175\u001b[0m         separators\u001b[38;5;241m=\u001b[39mseparators,\n\u001b[1;32m    176\u001b[0m         default\u001b[38;5;241m=\u001b[39mdefault, sort_keys\u001b[38;5;241m=\u001b[39msort_keys, \u001b[38;5;241m*\u001b[39m\u001b[38;5;241m*\u001b[39mkw)\u001b[38;5;241m.\u001b[39miterencode(obj)\n\u001b[1;32m    177\u001b[0m \u001b[38;5;66;03m# could accelerate with writelines in some versions of Python, at\u001b[39;00m\n\u001b[1;32m    178\u001b[0m \u001b[38;5;66;03m# a debuggability cost\u001b[39;00m\n\u001b[0;32m--> 179\u001b[0m \u001b[38;5;28;01mfor\u001b[39;00m chunk \u001b[38;5;129;01min\u001b[39;00m iterable:\n\u001b[1;32m    180\u001b[0m     fp\u001b[38;5;241m.\u001b[39mwrite(chunk)\n",
      "File \u001b[0;32m/Applications/anaconda/anaconda3/lib/python3.12/json/encoder.py:439\u001b[0m, in \u001b[0;36m_make_iterencode.<locals>._iterencode\u001b[0;34m(o, _current_indent_level)\u001b[0m\n\u001b[1;32m    437\u001b[0m         \u001b[38;5;28;01mraise\u001b[39;00m \u001b[38;5;167;01mValueError\u001b[39;00m(\u001b[38;5;124m\"\u001b[39m\u001b[38;5;124mCircular reference detected\u001b[39m\u001b[38;5;124m\"\u001b[39m)\n\u001b[1;32m    438\u001b[0m     markers[markerid] \u001b[38;5;241m=\u001b[39m o\n\u001b[0;32m--> 439\u001b[0m o \u001b[38;5;241m=\u001b[39m _default(o)\n\u001b[1;32m    440\u001b[0m \u001b[38;5;28;01myield from\u001b[39;00m _iterencode(o, _current_indent_level)\n\u001b[1;32m    441\u001b[0m \u001b[38;5;28;01mif\u001b[39;00m markers \u001b[38;5;129;01mis\u001b[39;00m \u001b[38;5;129;01mnot\u001b[39;00m \u001b[38;5;28;01mNone\u001b[39;00m:\n",
      "File \u001b[0;32m/Applications/anaconda/anaconda3/lib/python3.12/json/encoder.py:180\u001b[0m, in \u001b[0;36mJSONEncoder.default\u001b[0;34m(self, o)\u001b[0m\n\u001b[1;32m    161\u001b[0m \u001b[38;5;28;01mdef\u001b[39;00m \u001b[38;5;21mdefault\u001b[39m(\u001b[38;5;28mself\u001b[39m, o):\n\u001b[1;32m    162\u001b[0m \u001b[38;5;250m    \u001b[39m\u001b[38;5;124;03m\"\"\"Implement this method in a subclass such that it returns\u001b[39;00m\n\u001b[1;32m    163\u001b[0m \u001b[38;5;124;03m    a serializable object for ``o``, or calls the base implementation\u001b[39;00m\n\u001b[1;32m    164\u001b[0m \u001b[38;5;124;03m    (to raise a ``TypeError``).\u001b[39;00m\n\u001b[0;32m   (...)\u001b[0m\n\u001b[1;32m    178\u001b[0m \n\u001b[1;32m    179\u001b[0m \u001b[38;5;124;03m    \"\"\"\u001b[39;00m\n\u001b[0;32m--> 180\u001b[0m     \u001b[38;5;28;01mraise\u001b[39;00m \u001b[38;5;167;01mTypeError\u001b[39;00m(\u001b[38;5;124mf\u001b[39m\u001b[38;5;124m'\u001b[39m\u001b[38;5;124mObject of type \u001b[39m\u001b[38;5;132;01m{\u001b[39;00mo\u001b[38;5;241m.\u001b[39m\u001b[38;5;18m__class__\u001b[39m\u001b[38;5;241m.\u001b[39m\u001b[38;5;18m__name__\u001b[39m\u001b[38;5;132;01m}\u001b[39;00m\u001b[38;5;124m \u001b[39m\u001b[38;5;124m'\u001b[39m\n\u001b[1;32m    181\u001b[0m                     \u001b[38;5;124mf\u001b[39m\u001b[38;5;124m'\u001b[39m\u001b[38;5;124mis not JSON serializable\u001b[39m\u001b[38;5;124m'\u001b[39m)\n",
      "\u001b[0;31mTypeError\u001b[0m: Object of type Student is not JSON serializable"
     ]
    }
   ],
   "source": [
    "#The following will give you an error >> TypeError : Object of type Student is not JSON serializable\n",
    "#because json does't knoww how class Student look like\n",
    "#it does not know the class , the how ti will store object\n",
    "\n",
    "\n",
    "with open(\"stundet.json\",'w') as file:\n",
    "    json.dump(s,file)                  "
   ]
  },
  {
   "cell_type": "code",
   "execution_count": 145,
   "id": "0250118e-be8a-4108-aca5-9775a4842439",
   "metadata": {},
   "outputs": [],
   "source": [
    "#solution\n",
    "#I want the object to be stored and shown in this format\n",
    "#name:sada, gender:male, age:31\n",
    "#each time you make an object the data is stored in the above format of the class student\n",
    "\n",
    "\n",
    "# isinstance : Return whether an object is an instance of a class \n",
    "#or of a subclass.\n",
    "\n",
    "def stud_structure(student):\n",
    "    if isinstance(student,Student): # if student object is of class student\n",
    "        return{\"name\":student.name,\"gender\":student.gender,\"Age\":student.age}\n",
    "    \n",
    "\n",
    "with open('student.json','w') as file:\n",
    "    json.dump(s,file,default = stud_structure)"
   ]
  },
  {
   "cell_type": "code",
   "execution_count": 147,
   "id": "101dbe49-cad3-414b-a226-7a663eb53741",
   "metadata": {},
   "outputs": [
    {
     "name": "stdout",
     "output_type": "stream",
     "text": [
      "<class 'dict'>\n"
     ]
    },
    {
     "data": {
      "text/plain": [
       "True"
      ]
     },
     "execution_count": 147,
     "metadata": {},
     "output_type": "execute_result"
    }
   ],
   "source": [
    "d = {\"name\":\"Ajay\"}\n",
    "print(type(d))\n",
    "isinstance(d,dict)"
   ]
  },
  {
   "cell_type": "code",
   "execution_count": 149,
   "id": "2fe129ca-3b39-4007-81ae-59fcb9c1dd5f",
   "metadata": {},
   "outputs": [
    {
     "data": {
      "text/plain": [
       "False"
      ]
     },
     "execution_count": 149,
     "metadata": {},
     "output_type": "execute_result"
    }
   ],
   "source": [
    "a = 2\n",
    "isinstance(a,dict)"
   ]
  },
  {
   "cell_type": "code",
   "execution_count": 151,
   "id": "b2a67cf8-46c2-4f89-bcc8-7a7f8e2291c0",
   "metadata": {},
   "outputs": [],
   "source": [
    "# we have to provide stud_structure while dumping, so that json knows the structure\n",
    "def stud_structure(student):\n",
    "    if isinstance(student,Student): # if student object is of class student\n",
    "        return{\"name\":student.name,\"gender\":student.gender,\"Age\":student.age}\n",
    "    \n",
    "\n",
    "with open('student.json','w') as file:\n",
    "    json.dump(s,file,default = stud_structure)"
   ]
  },
  {
   "cell_type": "code",
   "execution_count": 153,
   "id": "789c2d88-2631-40df-830f-dc2b7b4c5e52",
   "metadata": {},
   "outputs": [],
   "source": [
    "#pickling (******vip****) >> conversion of python object into byte stream/ stores the state of object\n",
    "#and unpickling  means reverse\n"
   ]
  },
  {
   "cell_type": "code",
   "execution_count": 155,
   "id": "aa4550d6-5a41-41c0-9212-d94258058a0b",
   "metadata": {},
   "outputs": [],
   "source": [
    "class Student:\n",
    "\n",
    "    def __init__(self, name, age):\n",
    "        self.name = name\n",
    "        self.age = age\n",
    "\n",
    "    def info(self):\n",
    "        print(\"hello everyone, my name is \", self.name, \"and I am \",self.age,\" years old\")"
   ]
  },
  {
   "cell_type": "code",
   "execution_count": 157,
   "id": "d0a2b6ea-77d5-4aff-819b-9bb975473d53",
   "metadata": {},
   "outputs": [
    {
     "name": "stdout",
     "output_type": "stream",
     "text": [
      "hello everyone, my name is  Sada and I am  31  years old\n"
     ]
    }
   ],
   "source": [
    "s = Student('Sada',31)\n",
    "s.info()"
   ]
  },
  {
   "cell_type": "code",
   "execution_count": 159,
   "id": "69f21bd9-e945-452f-983f-8f0e9504242a",
   "metadata": {},
   "outputs": [],
   "source": [
    "import pickle\n",
    "with open(\"student.pkl\",'wb') as file:  # wb means write binary mode\n",
    "    pickle.dump(s,file)\n"
   ]
  },
  {
   "cell_type": "code",
   "execution_count": 161,
   "id": "72a7737c-9cfa-4b73-a25b-00fe3b4b781c",
   "metadata": {},
   "outputs": [
    {
     "name": "stdout",
     "output_type": "stream",
     "text": [
      "<class '__main__.Student'>\n",
      "hello everyone, my name is  Sada and I am  31  years old\n"
     ]
    }
   ],
   "source": [
    "#pickle load\n",
    "with open(\"student.pkl\",'rb') as file:\n",
    "    p = pickle.load(file)\n",
    "\n",
    "print(type(p))\n",
    "\n",
    "p.info()"
   ]
  },
  {
   "cell_type": "code",
   "execution_count": 163,
   "id": "90e2d67c-57b2-41ac-a772-5b6048033e1e",
   "metadata": {},
   "outputs": [],
   "source": [
    "#industry use case\n",
    "#let say you made a ML model and you have done hyperparameter tune\n",
    "#The pickle will store all the tuned hyperparameter\n",
    "\n",
    "#JSON lets user to store the data in human readable formate\n",
    "#pickle store the data in binary format\n",
    "\n",
    "#advantage of pickle\n",
    "#to ship ml models to be used by other users\n",
    "#state remains intact\n",
    "#security is not compromised >> as its encrypted to 1,0 format"
   ]
  },
  {
   "cell_type": "markdown",
   "id": "44e785fb-3a1b-4b9f-a6fc-09ab89c87f34",
   "metadata": {},
   "source": [
    "# Reading and Writing diff type of file"
   ]
  },
  {
   "cell_type": "code",
   "execution_count": 174,
   "id": "c95b355d-07e6-48b2-9ce1-b69432ba649e",
   "metadata": {},
   "outputs": [],
   "source": [
    "#text file\n",
    "text = \"\"\"\n",
    "I am a student\n",
    "I am studying in data science\n",
    "\"\"\""
   ]
  },
  {
   "cell_type": "code",
   "execution_count": 176,
   "id": "8f2b48a0-9642-4896-a347-ec3ea88a17da",
   "metadata": {},
   "outputs": [],
   "source": [
    "with open(\"exp.txt\",'w') as file:\n",
    "    file.write(text)"
   ]
  },
  {
   "cell_type": "code",
   "execution_count": 184,
   "id": "294e730a-cbf8-4562-8b26-1b62d0631d38",
   "metadata": {},
   "outputs": [
    {
     "name": "stdout",
     "output_type": "stream",
     "text": [
      "\n",
      "I am a student\n",
      "I am studying in data science\n",
      "\n"
     ]
    }
   ],
   "source": [
    "with open('exp.txt','r') as file:\n",
    "    data = file.read()\n",
    "print(data)"
   ]
  },
  {
   "cell_type": "code",
   "execution_count": 190,
   "id": "e447fa88-cf5f-469e-89a8-8dc7e2e310a8",
   "metadata": {},
   "outputs": [
    {
     "name": "stdout",
     "output_type": "stream",
     "text": [
      "['name', 'Course', 'Fee']\n",
      "['Monjolika', 'DS', '5000']\n",
      "['Ajay', 'SQL', '799']\n"
     ]
    }
   ],
   "source": [
    "# csv file (comma separated values file)\n",
    "data = [[\"name\",\"Course\",'Fee'],\n",
    "        [\"Monjolika\",'DS',\"5000\"],\n",
    "        ['Ajay','SQL','799']]\n",
    "for i in data:\n",
    "    print(i)"
   ]
  },
  {
   "cell_type": "code",
   "execution_count": 195,
   "id": "08a16b9e-60d6-49fa-94e5-e877131bae61",
   "metadata": {},
   "outputs": [],
   "source": [
    "import csv\n",
    "\n",
    "with open('exp_csv.csv','w') as file:\n",
    "    w = csv.writer(file)\n",
    "    for i in data:\n",
    "        w.writerow(i)"
   ]
  },
  {
   "cell_type": "code",
   "execution_count": 210,
   "id": "f0b78899-cee9-4250-aad8-61dad5ec01a0",
   "metadata": {},
   "outputs": [
    {
     "name": "stdout",
     "output_type": "stream",
     "text": [
      "['name', 'Course', 'Fee']\n",
      "['Monjolika', 'DS', '5000']\n",
      "['Ajay', 'SQL', '799']\n"
     ]
    }
   ],
   "source": [
    "\n",
    "with open(\"exp_csv.csv\", \"r\") as file:\n",
    "    r = csv.reader(file)\n",
    "    for i in r:\n",
    "        print(i)  "
   ]
  },
  {
   "cell_type": "code",
   "execution_count": 212,
   "id": "454ca5f6-3bbb-43ee-9412-12c31906d421",
   "metadata": {},
   "outputs": [],
   "source": [
    "\n",
    "#json >> javascript object orientation\n",
    "data = {\"name\":\"Ajay\",\n",
    "       \"sex\":'Male'}"
   ]
  },
  {
   "cell_type": "code",
   "execution_count": 228,
   "id": "e9b940e3-1b64-44a8-b019-c250e035de0c",
   "metadata": {},
   "outputs": [],
   "source": [
    "import json\n",
    "with open('exp_json.json','w') as file:\n",
    "    json.dump(data,file)"
   ]
  },
  {
   "cell_type": "code",
   "execution_count": 230,
   "id": "b6f6b955-f592-487e-8c0a-a72d579e4bc7",
   "metadata": {},
   "outputs": [
    {
     "name": "stdout",
     "output_type": "stream",
     "text": [
      "{'name': 'Ajay', 'sex': 'Male'}\n"
     ]
    }
   ],
   "source": [
    "with open(\"exp_json.json\",'r') as file:\n",
    "    data = json.load(file)\n",
    "print(data)"
   ]
  },
  {
   "cell_type": "code",
   "execution_count": 232,
   "id": "1a8740d4-1413-4935-99a4-2ad329a036bf",
   "metadata": {},
   "outputs": [],
   "source": [
    "#reading and writing binary files\n",
    "\n",
    "with open(\"exp4.bin\", \"wb\") as file:\n",
    "    file.write(b\"\\x48\\x65\\x6c\\x6c\\x6f\\x2c\\x20\\x57\\x6f\\x72\\x6c\\x64\\x21\")"
   ]
  },
  {
   "cell_type": "code",
   "execution_count": 234,
   "id": "619e8134-98e3-466d-b613-36b962193ac4",
   "metadata": {},
   "outputs": [
    {
     "name": "stdout",
     "output_type": "stream",
     "text": [
      "b'Hello, World!'\n"
     ]
    }
   ],
   "source": [
    "with open(\"exp4.bin\", \"rb\") as file:\n",
    "    print(file.read())"
   ]
  },
  {
   "cell_type": "code",
   "execution_count": 236,
   "id": "cf522a50-2a6f-4855-8288-924167fb41f5",
   "metadata": {},
   "outputs": [],
   "source": [
    "# writing and reading yaml files\n",
    "#yaml(Yet Another Markup Language)>> it is commonly used for configurational files and\n",
    "#in application wheres data is being stored or transmitted\n",
    "# commonaly in installation of any apps/softwares"
   ]
  },
  {
   "cell_type": "code",
   "execution_count": 256,
   "id": "aa8471ca-019b-4043-a0d6-d323b34f970a",
   "metadata": {},
   "outputs": [],
   "source": [
    "#writing yaml files\n",
    "import yaml\n",
    "data  = {'name':'Ajay','gender':'male'}\n",
    "with open('exp5.yaml','w') as file:\n",
    "    yaml.dump(data,file)\n"
   ]
  },
  {
   "cell_type": "code",
   "execution_count": 258,
   "id": "e1ac10f7-a6de-4298-8b04-93c1a31ee211",
   "metadata": {},
   "outputs": [
    {
     "name": "stdout",
     "output_type": "stream",
     "text": [
      "{'gender': 'male', 'name': 'Ajay'}\n"
     ]
    }
   ],
   "source": [
    "with open('exp5.yaml','r') as file:\n",
    "    data = yaml.safe_load(file)\n",
    "print(data)"
   ]
  },
  {
   "cell_type": "code",
   "execution_count": 260,
   "id": "ad76ea58-1102-4844-8785-8a7d29cbf054",
   "metadata": {},
   "outputs": [],
   "source": [
    "#use case >> devops and data engineering  >> installation files"
   ]
  },
  {
   "cell_type": "code",
   "execution_count": 262,
   "id": "3cabdfa7-e75c-4a54-8896-080c182d9f6f",
   "metadata": {},
   "outputs": [],
   "source": [
    "# reading and writing xml file (Extensible markup language)\n",
    "#XML files are files that use Extensible Markup Language (XML) to store,\n",
    "# transmit, and reconstruct data. XML is a markup language that defines rules for \n",
    "# encoding docu-ments so that they can be read by both humans and ma-chines. \n",
    "# XML files are plain text files that can be generated and stored by a standard web server."
   ]
  },
  {
   "cell_type": "code",
   "execution_count": null,
   "id": "f7c8cb9a-0746-4fe8-9b24-fe92bab89145",
   "metadata": {},
   "outputs": [],
   "source": []
  },
  {
   "cell_type": "code",
   "execution_count": 269,
   "id": "7163baaa-7223-434e-92f9-c5be49183d85",
   "metadata": {},
   "outputs": [
    {
     "data": {
      "text/html": [
       "<div>\n",
       "<style scoped>\n",
       "    .dataframe tbody tr th:only-of-type {\n",
       "        vertical-align: middle;\n",
       "    }\n",
       "\n",
       "    .dataframe tbody tr th {\n",
       "        vertical-align: top;\n",
       "    }\n",
       "\n",
       "    .dataframe thead th {\n",
       "        text-align: right;\n",
       "    }\n",
       "</style>\n",
       "<table border=\"1\" class=\"dataframe\">\n",
       "  <thead>\n",
       "    <tr style=\"text-align: right;\">\n",
       "      <th></th>\n",
       "      <th>Name</th>\n",
       "    </tr>\n",
       "  </thead>\n",
       "  <tbody>\n",
       "    <tr>\n",
       "      <th>0</th>\n",
       "      <td>Ajay</td>\n",
       "    </tr>\n",
       "    <tr>\n",
       "      <th>1</th>\n",
       "      <td>Bijay</td>\n",
       "    </tr>\n",
       "  </tbody>\n",
       "</table>\n",
       "</div>"
      ],
      "text/plain": [
       "    Name\n",
       "0   Ajay\n",
       "1  Bijay"
      ]
     },
     "execution_count": 269,
     "metadata": {},
     "output_type": "execute_result"
    }
   ],
   "source": [
    "#reading and writing parquet files\n",
    "#parquet files is a type of compressed\n",
    "#A Parquet file is a column-oriented data storage format that is open source and free\n",
    "\n",
    "import pandas as pd\n",
    "df = pd.DataFrame({\"Name\":['Ajay','Bijay']})\n",
    "df"
   ]
  },
  {
   "cell_type": "code",
   "execution_count": 271,
   "id": "1bdf7df9-4681-4709-b806-777723e3ee23",
   "metadata": {},
   "outputs": [],
   "source": [
    "df.to_parquet(\"exp6.parquet\")"
   ]
  },
  {
   "cell_type": "code",
   "execution_count": 275,
   "id": "c2328c47-eb39-4a1f-bbba-7a7a4608c3df",
   "metadata": {},
   "outputs": [
    {
     "data": {
      "text/html": [
       "<div>\n",
       "<style scoped>\n",
       "    .dataframe tbody tr th:only-of-type {\n",
       "        vertical-align: middle;\n",
       "    }\n",
       "\n",
       "    .dataframe tbody tr th {\n",
       "        vertical-align: top;\n",
       "    }\n",
       "\n",
       "    .dataframe thead th {\n",
       "        text-align: right;\n",
       "    }\n",
       "</style>\n",
       "<table border=\"1\" class=\"dataframe\">\n",
       "  <thead>\n",
       "    <tr style=\"text-align: right;\">\n",
       "      <th></th>\n",
       "      <th>Name</th>\n",
       "    </tr>\n",
       "  </thead>\n",
       "  <tbody>\n",
       "    <tr>\n",
       "      <th>0</th>\n",
       "      <td>Ajay</td>\n",
       "    </tr>\n",
       "    <tr>\n",
       "      <th>1</th>\n",
       "      <td>Bijay</td>\n",
       "    </tr>\n",
       "  </tbody>\n",
       "</table>\n",
       "</div>"
      ],
      "text/plain": [
       "    Name\n",
       "0   Ajay\n",
       "1  Bijay"
      ]
     },
     "execution_count": 275,
     "metadata": {},
     "output_type": "execute_result"
    }
   ],
   "source": [
    "df = pd.read_parquet(\"exp6.parquet\")\n",
    "df"
   ]
  },
  {
   "cell_type": "code",
   "execution_count": 277,
   "id": "bff6121b-0b17-4cad-b50c-3ecacafd14e6",
   "metadata": {},
   "outputs": [],
   "source": [
    "#parquet is alternative to csv and excel file\n",
    "#alternative to pandas to read/write a parquet file is Pyspark"
   ]
  },
  {
   "cell_type": "code",
   "execution_count": 283,
   "id": "28c2b1b0-d4db-4251-aec2-36c1384c581e",
   "metadata": {},
   "outputs": [
    {
     "name": "stdout",
     "output_type": "stream",
     "text": [
      "('Name', 'Age', 'City')\n",
      "('Alice', 25, 'New York')\n"
     ]
    }
   ],
   "source": [
    "#reading and writing excel file\n",
    "\n",
    "from openpyxl import Workbook, load_workbook\n",
    "\n",
    "#writing excel file\n",
    "wb = Workbook()\n",
    "ws=wb.active\n",
    "ws.append([\"Name\", \"Age\", \"City\"])\n",
    "ws.append([\"Alice\", 25, \"New York\"])\n",
    "wb.save(\"example_excel.xlsx\")\n",
    "\n",
    "\n",
    "#reading excel\n",
    "wb = load_workbook(\"example_excel.xlsx\")\n",
    "ws = wb.active\n",
    "for row in ws.iter_rows(values_only=True):\n",
    "    print(row)\n"
   ]
  },
  {
   "cell_type": "code",
   "execution_count": 287,
   "id": "252b37df-7558-4f4c-8570-520a685af5d7",
   "metadata": {},
   "outputs": [],
   "source": [
    "# if your file is more than your ram than you use readlines one by one\n",
    "# while reading/writing  files, file is loaded in buddered memory of ram\n",
    "#buffered reading >> it allows the program to read the data in chunks\n",
    "#buffered writinf >> it allows the program to write the data in chunks\n"
   ]
  },
  {
   "cell_type": "code",
   "execution_count": 317,
   "id": "ea03ebfc-07de-4914-89df-40927777d3b1",
   "metadata": {},
   "outputs": [],
   "source": [
    "import io\n",
    "with open('final_exp.txt','wb') as f:\n",
    "    file = io.BufferedWriter(f)\n",
    "    file.write(b\"Custom data types are allowed, but YAML natively encodes scalars (such as strings, integers, and floats), lists, and associative arrays (also known as maps, dictionaries or hashes). These data types are based on the Perl programming language, though all commonly used high-level programming languages share very similar concepts.[5][6][7] The colon-centered syntax, used for expressing key-value pairs, is inspired by electronic mail headers as defined in RFC 822, and the document separator --- is borrowed from MIME (RFC 2046). Escape sequences are reused from C, and whitespace wrapping for multi-line strings is inspired by HTML. \")\n",
    "    file.write(b\"hello world\")\n",
    "    file.write(b'CareerCraft classes')\n",
    "    file.flush() #optional >> flush () clean out your RAM buffer"
   ]
  },
  {
   "cell_type": "code",
   "execution_count": 319,
   "id": "455d8828-bf36-4460-8239-dd675923257a",
   "metadata": {},
   "outputs": [
    {
     "name": "stdout",
     "output_type": "stream",
     "text": [
      "b'Custom data types are allowed, but YAML natively encodes scalars (such as strings, integers, and floats), lists, and associative arrays (also known as'\n"
     ]
    }
   ],
   "source": [
    "with open('final_exp.txt','rb') as f:\n",
    "    file = io.BufferedReader(f)\n",
    "    data = file.read(150) # first 100 bytes\n",
    "print(data)"
   ]
  },
  {
   "cell_type": "code",
   "execution_count": 321,
   "id": "c4c0745a-b416-476c-b316-94541becf8a2",
   "metadata": {},
   "outputs": [],
   "source": [
    "#use case >> whenever huge data is there, you have to use this method\n"
   ]
  },
  {
   "cell_type": "code",
   "execution_count": 323,
   "id": "12ca5ccb-597c-47e8-834b-2305bbedba7b",
   "metadata": {},
   "outputs": [],
   "source": [
    "#Working With directories\n",
    "import os"
   ]
  },
  {
   "cell_type": "code",
   "execution_count": 325,
   "id": "ff3c6ad1-631f-4985-adea-b9a2a935c55f",
   "metadata": {},
   "outputs": [
    {
     "data": {
      "text/plain": [
       "'/Users/arpityadav/Desktop/python/NameSpace,Loging'"
      ]
     },
     "execution_count": 325,
     "metadata": {},
     "output_type": "execute_result"
    }
   ],
   "source": [
    "os.getcwd()"
   ]
  },
  {
   "cell_type": "code",
   "execution_count": 327,
   "id": "ecd513a2-eb47-4899-92e8-530199249aa0",
   "metadata": {},
   "outputs": [
    {
     "data": {
      "text/plain": [
       "'/Users/arpityadav/Desktop/python/NameSpace,Loging'"
      ]
     },
     "execution_count": 327,
     "metadata": {},
     "output_type": "execute_result"
    }
   ],
   "source": [
    "pwd"
   ]
  },
  {
   "cell_type": "code",
   "execution_count": 329,
   "id": "62f8543f-9294-4162-950c-233544712eb5",
   "metadata": {},
   "outputs": [
    {
     "name": "stdout",
     "output_type": "stream",
     "text": [
      "File Handling(serialization,Deserialisation,reading&writing diff types of files,Directories).ipynb\n",
      "final_exp.txt\n",
      "NameSpace,File Handling.ipynb\n"
     ]
    }
   ],
   "source": [
    "ls"
   ]
  },
  {
   "cell_type": "code",
   "execution_count": 332,
   "id": "9de46795-8ed3-488c-a178-19aa0fb6a87c",
   "metadata": {},
   "outputs": [
    {
     "data": {
      "text/plain": [
       "664"
      ]
     },
     "execution_count": 332,
     "metadata": {},
     "output_type": "execute_result"
    }
   ],
   "source": [
    "#to check the size of the file\n",
    "os.path.getsize(\"final_exp.txt\")"
   ]
  },
  {
   "cell_type": "code",
   "execution_count": 334,
   "id": "a23a6277-2666-4713-98a7-580a152ac410",
   "metadata": {},
   "outputs": [],
   "source": [
    "#to make another folder\n",
    "os.mkdir(\"test\")"
   ]
  },
  {
   "cell_type": "code",
   "execution_count": 339,
   "id": "a7e3dedd-6b5e-4ac5-81d2-e105e9c79769",
   "metadata": {},
   "outputs": [],
   "source": [
    "os.mkdir(\"test/test1\") #test should be present if u want to make test1 inside the test"
   ]
  },
  {
   "cell_type": "code",
   "execution_count": 345,
   "id": "18e1a4cc-e4f0-429e-98ce-4ea2792088d5",
   "metadata": {},
   "outputs": [],
   "source": [
    "os.makedirs(\"1/2/3/4\")# if parent folder is not present and we want multiple folder"
   ]
  },
  {
   "cell_type": "code",
   "execution_count": 349,
   "id": "a38772f0-0f90-45eb-b5b6-10a4b26edaeb",
   "metadata": {},
   "outputs": [
    {
     "data": {
      "text/plain": [
       "['final_exp.txt',\n",
       " 'NameSpace,File Handling.ipynb',\n",
       " 'test',\n",
       " '1',\n",
       " 'File Handling(serialization,Deserialisation,reading&writing diff types of files,Directories).ipynb',\n",
       " '.ipynb_checkpoints']"
      ]
     },
     "execution_count": 349,
     "metadata": {},
     "output_type": "execute_result"
    }
   ],
   "source": [
    "os.listdir()"
   ]
  },
  {
   "cell_type": "code",
   "execution_count": 351,
   "id": "f4ae8a43-aaa0-4d27-a912-653ea3dee94f",
   "metadata": {},
   "outputs": [],
   "source": [
    "os.mkdir('ajay')"
   ]
  },
  {
   "cell_type": "code",
   "execution_count": 353,
   "id": "15deefda-631e-495a-9668-677618e8bb43",
   "metadata": {},
   "outputs": [],
   "source": [
    "os.rmdir('ajay')"
   ]
  },
  {
   "cell_type": "code",
   "execution_count": 355,
   "id": "d2a1ce3c-4711-439d-a2ee-4fb2108975b2",
   "metadata": {},
   "outputs": [
    {
     "ename": "OSError",
     "evalue": "[Errno 66] Directory not empty: '1'",
     "output_type": "error",
     "traceback": [
      "\u001b[0;31m---------------------------------------------------------------------------\u001b[0m",
      "\u001b[0;31mOSError\u001b[0m                                   Traceback (most recent call last)",
      "Cell \u001b[0;32mIn[355], line 2\u001b[0m\n\u001b[1;32m      1\u001b[0m \u001b[38;5;66;03m#can you delete nested directories\u001b[39;00m\n\u001b[0;32m----> 2\u001b[0m os\u001b[38;5;241m.\u001b[39mrmdir(\u001b[38;5;124m\"\u001b[39m\u001b[38;5;124m1\u001b[39m\u001b[38;5;124m\"\u001b[39m)\n",
      "\u001b[0;31mOSError\u001b[0m: [Errno 66] Directory not empty: '1'"
     ]
    }
   ],
   "source": [
    "#can you delete nested directories\n",
    "os.rmdir(\"1\")"
   ]
  },
  {
   "cell_type": "code",
   "execution_count": 357,
   "id": "f4726679-040c-436c-9e56-cc2047c8128b",
   "metadata": {},
   "outputs": [],
   "source": [
    "import shutil\n",
    "shutil.rmtree(\"1\")"
   ]
  },
  {
   "cell_type": "code",
   "execution_count": 359,
   "id": "a266b785-cda1-401b-b140-df314192adbe",
   "metadata": {},
   "outputs": [
    {
     "data": {
      "text/plain": [
       "'/Users/arpityadav/Desktop/python/NameSpace,Loging'"
      ]
     },
     "execution_count": 359,
     "metadata": {},
     "output_type": "execute_result"
    }
   ],
   "source": [
    "os.getcwd()"
   ]
  },
  {
   "cell_type": "code",
   "execution_count": 361,
   "id": "48bb43e6-328a-48e8-9874-c098c91bb3a8",
   "metadata": {},
   "outputs": [],
   "source": [
    "f = open(r'/Users/arpityadav/Desktop/python/NameSpace,Loging/test/test1/file_test.txt','w')\n"
   ]
  },
  {
   "cell_type": "code",
   "execution_count": 363,
   "id": "fc67e37e-1e5e-4f4a-803c-80fe70bb1f42",
   "metadata": {},
   "outputs": [
    {
     "data": {
      "text/plain": [
       "'/Users/arpityadav/Desktop/python/NameSpace,Loging/file_test.txt'"
      ]
     },
     "execution_count": 363,
     "metadata": {},
     "output_type": "execute_result"
    }
   ],
   "source": [
    "shutil.copy('/Users/arpityadav/Desktop/python/NameSpace,Loging/test/test1/file_test.txt','/Users/arpityadav/Desktop/python/NameSpace,Loging'\n",
    ")"
   ]
  },
  {
   "cell_type": "code",
   "execution_count": 365,
   "id": "9f51dfe6-48ca-4488-945b-ca685d3a77c0",
   "metadata": {},
   "outputs": [],
   "source": [
    "#use case\n",
    "#say if you are training the model and while training you want to create a separate folder\n",
    "# for cleaned data , you can not create folder manually and hence you have to use od to make directories or delete it"
   ]
  },
  {
   "cell_type": "code",
   "execution_count": null,
   "id": "af69f326-2e75-4595-a493-cf417f98e66c",
   "metadata": {},
   "outputs": [],
   "source": [
    "#interview question\n",
    "#what is serialisation, deserialisation\n",
    "#diff ways of reading and writing files\n",
    "# what is buffered reading and writing\n",
    "#what is pickling and unpickling and how it is diff from json"
   ]
  }
 ],
 "metadata": {
  "kernelspec": {
   "display_name": "Python 3 (ipykernel)",
   "language": "python",
   "name": "python3"
  },
  "language_info": {
   "codemirror_mode": {
    "name": "ipython",
    "version": 3
   },
   "file_extension": ".py",
   "mimetype": "text/x-python",
   "name": "python",
   "nbconvert_exporter": "python",
   "pygments_lexer": "ipython3",
   "version": "3.12.7"
  }
 },
 "nbformat": 4,
 "nbformat_minor": 5
}
