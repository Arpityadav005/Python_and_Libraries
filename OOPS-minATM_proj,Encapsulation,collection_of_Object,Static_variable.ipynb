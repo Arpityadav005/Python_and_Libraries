{
 "cells": [
  {
   "cell_type": "code",
   "execution_count": 65,
   "id": "1c8d3c95-0901-4de4-9174-04a0a5f46bbd",
   "metadata": {},
   "outputs": [],
   "source": [
    "#Agenda\n",
    "#1 mini project\n",
    "#Encapsulation\n",
    "#Abstraction....."
   ]
  },
  {
   "cell_type": "code",
   "execution_count": 67,
   "id": "77717446-3025-4f36-a18c-32921de33a4d",
   "metadata": {},
   "outputs": [],
   "source": [
    "#Discussion ON ATM...(Execution plan)\n",
    "#methods\n",
    "#menu-create a new pin,check your balance,withdraw money\n",
    "#attribute -> pin,balance\n"
   ]
  },
  {
   "cell_type": "code",
   "execution_count": 87,
   "id": "d11efba3-8034-4a21-a533-1666ae6eb981",
   "metadata": {},
   "outputs": [
    {
     "name": "stdin",
     "output_type": "stream",
     "text": [
      "\n",
      "            Welcome to the ATM!!!\n",
      "            Please choose the below option..\n",
      "            1. Create a new pin\n",
      "            2. Change your existing pin\n",
      "            3. Check your account balance\n",
      "            4. Withdraw money\n",
      "            5. Exit \n",
      "             1\n",
      "Please enter 4 digit pin:  1234\n",
      "Enter the initial account balance:  1234\n"
     ]
    },
    {
     "name": "stdout",
     "output_type": "stream",
     "text": [
      "Pin Created Successfully and account balance updated.\n"
     ]
    },
    {
     "name": "stdin",
     "output_type": "stream",
     "text": [
      "\n",
      "            Welcome to the ATM!!!\n",
      "            Please choose the below option..\n",
      "            1. Create a new pin\n",
      "            2. Change your existing pin\n",
      "            3. Check your account balance\n",
      "            4. Withdraw money\n",
      "            5. Exit \n",
      "             5\n"
     ]
    },
    {
     "name": "stdout",
     "output_type": "stream",
     "text": [
      "Thank You for choosing ATM, Fir Milenge\n"
     ]
    }
   ],
   "source": [
    "class ATM:\n",
    "\n",
    "    def __init__(self):\n",
    "        self.user_pin = ''\n",
    "        self.account_balance = 0\n",
    "\n",
    "    # this is to display options to the users\n",
    "    def display_menu(self):\n",
    "        while True:  # this is for continuous interaction\n",
    "            user_choice = input(\"\"\"\n",
    "            Welcome to the ATM!!!\n",
    "            Please choose the below option..\n",
    "            1. Create a new pin\n",
    "            2. Change your existing pin\n",
    "            3. Check your account balance\n",
    "            4. Withdraw money\n",
    "            5. Exit \n",
    "            \"\"\")\n",
    "            if user_choice == '1':\n",
    "                self.create_new_pin()\n",
    "            elif user_choice == '2':\n",
    "                self.update_pin()\n",
    "            elif user_choice == '3':\n",
    "                self.view_balance()\n",
    "            elif user_choice == '4':\n",
    "                self.withdraw_money()\n",
    "            elif user_choice == '5':\n",
    "                print(\"Thank You for choosing ATM, Fir Milenge\")\n",
    "                break\n",
    "            else:\n",
    "                print(\"Invalid Choice, Try Again.\")\n",
    "\n",
    "    def create_new_pin(self):\n",
    "        while True:\n",
    "            new_pin = input(\"Please enter 4 digit pin: \")\n",
    "            if new_pin.isdigit() and len(new_pin) == 4:\n",
    "                self.user_pin = new_pin\n",
    "                break\n",
    "            else:\n",
    "                print(\"Invalid PIN, Try again.\")\n",
    "        self.account_balance = int(input(\"Enter the initial account balance: \"))\n",
    "        print(\"Pin Created Successfully and account balance updated.\")\n",
    "\n",
    "    def update_pin(self):\n",
    "        old_pin = input(\"Enter your current pin: \")\n",
    "        if old_pin == self.user_pin:\n",
    "            while True:\n",
    "                new_pin = input(\"Please enter 4 digit pin: \")\n",
    "                if new_pin.isdigit() and len(new_pin) == 4:\n",
    "                    self.user_pin = new_pin\n",
    "                    print(\"PIN updated successfully\")\n",
    "                    break\n",
    "                else:\n",
    "                    print(\"Invalid PIN, Please Enter a valid one.\")\n",
    "        else:\n",
    "            print(\"Invalid Pin, Transaction Denied.\")\n",
    "\n",
    "    def view_balance(self):\n",
    "        entered_pin = input(\"Enter your pin to view balance: \")\n",
    "        if entered_pin == self.user_pin:\n",
    "            print(f\"Your current balance is: ₹{self.account_balance}\")\n",
    "        else:\n",
    "            print(\"Invalid PIN, Access Denied.\")\n",
    "\n",
    "    def withdraw_money(self):\n",
    "        entered_pin = input(\"Enter your pin to withdraw money: \")\n",
    "        if entered_pin == self.user_pin:\n",
    "            amount = int(input(\"Enter the amount to withdraw: \"))\n",
    "            if amount <= self.account_balance:\n",
    "                self.account_balance -= amount\n",
    "                print(f\"Withdrawal successful! Remaining balance: ₹{self.account_balance}\")\n",
    "            else:\n",
    "                print(\"Insufficient balance.\")\n",
    "        else:\n",
    "            print(\"Invalid PIN, Transaction Denied.\")\n",
    "\n",
    "\n",
    "# Run ATM\n",
    "a = ATM()\n",
    "a.display_menu()\n"
   ]
  },
  {
   "cell_type": "code",
   "execution_count": null,
   "id": "91398229-4ea6-4721-b945-ea73cd30fa63",
   "metadata": {},
   "outputs": [],
   "source": [
    "#Encapsulation >> En + Capsule + tion\n",
    "#Encapsulation means hididng something\n",
    "#in other words boundling if data/attributes and methods\n",
    "#also called as access modifier\n",
    "#analogy >> similar to capsule, we dont care what is inside the class\n",
    "#as far as class give the expected output.."
   ]
  },
  {
   "cell_type": "code",
   "execution_count": 95,
   "id": "672a96ba-e78c-455f-9f66-f277fb49487e",
   "metadata": {},
   "outputs": [],
   "source": [
    "class ATM:\n",
    "    def __init__(self):\n",
    "        self.balance = 1000\n",
    "\n",
    "tusar = ATM()\n"
   ]
  },
  {
   "cell_type": "code",
   "execution_count": 97,
   "id": "56d7eb89-64fe-4ff7-aeae-bc1a811f113b",
   "metadata": {},
   "outputs": [
    {
     "data": {
      "text/plain": [
       "1000"
      ]
     },
     "execution_count": 97,
     "metadata": {},
     "output_type": "execute_result"
    }
   ],
   "source": [
    "tusar.balance"
   ]
  },
  {
   "cell_type": "code",
   "execution_count": 101,
   "id": "112ffdbe-80e1-4a67-aeb8-b82404998779",
   "metadata": {},
   "outputs": [],
   "source": [
    "tusar.balance = 2000"
   ]
  },
  {
   "cell_type": "code",
   "execution_count": 103,
   "id": "56d24dee-6f6c-4bed-b57a-7ba3f5d0e4ff",
   "metadata": {},
   "outputs": [
    {
     "data": {
      "text/plain": [
       "2000"
      ]
     },
     "execution_count": 103,
     "metadata": {},
     "output_type": "execute_result"
    }
   ],
   "source": [
    "tusar.balance"
   ]
  },
  {
   "cell_type": "code",
   "execution_count": 105,
   "id": "1fd57807-409d-46a1-9cca-468339b6d7e3",
   "metadata": {},
   "outputs": [],
   "source": [
    "class Student:\n",
    "    def __init__(self,name,degree):\n",
    "        self.name = name\n",
    "        self.degree = degree\n",
    "stud = Student(\"Shantanu\",\"MS\")"
   ]
  },
  {
   "cell_type": "code",
   "execution_count": 107,
   "id": "cc2a926f-e447-4d31-963a-d145d415ada6",
   "metadata": {},
   "outputs": [
    {
     "data": {
      "text/plain": [
       "'MS'"
      ]
     },
     "execution_count": 107,
     "metadata": {},
     "output_type": "execute_result"
    }
   ],
   "source": [
    "stud.degree"
   ]
  },
  {
   "cell_type": "code",
   "execution_count": 109,
   "id": "da364422-a30e-4cec-a997-11c28195cd33",
   "metadata": {},
   "outputs": [
    {
     "data": {
      "text/plain": [
       "'Shantanu'"
      ]
     },
     "execution_count": 109,
     "metadata": {},
     "output_type": "execute_result"
    }
   ],
   "source": [
    "stud.name"
   ]
  },
  {
   "cell_type": "code",
   "execution_count": 111,
   "id": "315ea404-c8f1-410a-9630-0d1f7991dbc9",
   "metadata": {},
   "outputs": [],
   "source": [
    "stud.degree = 'PHD'"
   ]
  },
  {
   "cell_type": "code",
   "execution_count": 113,
   "id": "67e9d6d8-2eca-4795-8168-da9e68a146ce",
   "metadata": {},
   "outputs": [
    {
     "data": {
      "text/plain": [
       "'PHD'"
      ]
     },
     "execution_count": 113,
     "metadata": {},
     "output_type": "execute_result"
    }
   ],
   "source": [
    "stud.degree"
   ]
  },
  {
   "cell_type": "code",
   "execution_count": 115,
   "id": "1e1eb8d8-c3e2-4c26-be47-587b2359de38",
   "metadata": {},
   "outputs": [],
   "source": [
    "#Comments\n",
    "#junior developer might modify the attributes/data from the outside the\n",
    "#class >> you might get fired\n",
    "#Access Modifir - > public,private and protected"
   ]
  },
  {
   "cell_type": "code",
   "execution_count": 121,
   "id": "79e4ec57-ce91-4a23-9e7f-976573b9b572",
   "metadata": {},
   "outputs": [
    {
     "data": {
      "text/plain": [
       "'Shantanu'"
      ]
     },
     "execution_count": 121,
     "metadata": {},
     "output_type": "execute_result"
    }
   ],
   "source": [
    "#public >> accessible from anywhere from outside/inside the class\n",
    "#public attribute/methods can be modified from the outside of the class\n",
    "\n",
    "class Student:\n",
    "    def __init__(self,name,degree):\n",
    "        self.name = name\n",
    "        self.degree = degree\n",
    "stud = Student(\"Shantanu\",\"MS\")\n",
    "stud.name"
   ]
  },
  {
   "cell_type": "code",
   "execution_count": 33,
   "id": "acf6edc2-748a-4a4c-a65f-37a310531d94",
   "metadata": {},
   "outputs": [],
   "source": [
    "#Private >> within the class only its accessible, use two(underscores) to make private\n",
    "#both attributes/methods can be private\n",
    "class Student:\n",
    "    def __init__(self,name,degree):\n",
    "        self.name = name\n",
    "        self.__degree = degree\n",
    "stud = Student(\"Shantanu\",\"MS\")"
   ]
  },
  {
   "cell_type": "code",
   "execution_count": 35,
   "id": "b59f6259-d1f0-42a8-9cf4-033425f412c3",
   "metadata": {},
   "outputs": [
    {
     "data": {
      "text/plain": [
       "'Shantanu'"
      ]
     },
     "execution_count": 35,
     "metadata": {},
     "output_type": "execute_result"
    }
   ],
   "source": [
    "stud.name"
   ]
  },
  {
   "cell_type": "code",
   "execution_count": 37,
   "id": "0235e487-865c-470d-b0e8-fe86087877d5",
   "metadata": {},
   "outputs": [
    {
     "ename": "AttributeError",
     "evalue": "'Student' object has no attribute 'degree'",
     "output_type": "error",
     "traceback": [
      "\u001b[0;31m---------------------------------------------------------------------------\u001b[0m",
      "\u001b[0;31mAttributeError\u001b[0m                            Traceback (most recent call last)",
      "Cell \u001b[0;32mIn[37], line 1\u001b[0m\n\u001b[0;32m----> 1\u001b[0m stud\u001b[38;5;241m.\u001b[39mdegree\n",
      "\u001b[0;31mAttributeError\u001b[0m: 'Student' object has no attribute 'degree'"
     ]
    }
   ],
   "source": [
    "stud.degree # degree is a private variable and cannot be accessed from outside the class"
   ]
  },
  {
   "cell_type": "code",
   "execution_count": null,
   "id": "833e6556-8b7c-4995-90d5-b9e625a1cc2a",
   "metadata": {},
   "outputs": [],
   "source": [
    "stud._Student__degree"
   ]
  },
  {
   "cell_type": "code",
   "execution_count": null,
   "id": "29c75612-c4be-4bcf-8d37-7e19ae3a9224",
   "metadata": {},
   "outputs": [],
   "source": [
    "stud.degree = \"PHD\"#The moment you made degree a private variable, the\n",
    "#variable in the memory is created with this name_Student_degree\n",
    "#stud.degree will actually create a new variable"
   ]
  },
  {
   "cell_type": "code",
   "execution_count": 41,
   "id": "b38ee21d-3789-443f-8332-288ac729b007",
   "metadata": {},
   "outputs": [
    {
     "data": {
      "text/plain": [
       "'MS'"
      ]
     },
     "execution_count": 41,
     "metadata": {},
     "output_type": "execute_result"
    }
   ],
   "source": [
    "stud._Student__degree #but u can access the variable using object and class name\n"
   ]
  },
  {
   "cell_type": "code",
   "execution_count": 43,
   "id": "fd5f5c62-e402-4a0a-aefa-9f6de8037b34",
   "metadata": {},
   "outputs": [],
   "source": [
    "#why python has given a way to make a variable/attribute private, then why it also gave a way to access it\n",
    "#but in java you can not access once made private\n",
    "#python is a programming language for adults, nothing truely private"
   ]
  },
  {
   "cell_type": "code",
   "execution_count": 45,
   "id": "182013b9-6c12-48af-a7fd-3e35f2354d05",
   "metadata": {},
   "outputs": [],
   "source": [
    "#now we have saved our attribute in getting modified, but you want the juniour developer\n",
    "#to know what is attribute\n",
    "#... getter and setter"
   ]
  },
  {
   "cell_type": "code",
   "execution_count": 98,
   "id": "bae4f904-51b6-49c7-8760-7c52ce3b7ed2",
   "metadata": {},
   "outputs": [
    {
     "data": {
      "text/plain": [
       "'MS'"
      ]
     },
     "execution_count": 98,
     "metadata": {},
     "output_type": "execute_result"
    }
   ],
   "source": [
    "class Student:\n",
    "    def __init__(self,name,degree):\n",
    "        self.name = name\n",
    "        self.__degree = degree\n",
    "    #getter method >> to expose the private variable to other developer\n",
    "    def get_degree(self):\n",
    "        return self.__degree #access a private varibale inside a class\n",
    "    #setter method >> to change the private attributes\n",
    "    def set_degree(self,new_value):\n",
    "        self.__degree = new_value\n",
    "\n",
    "    #some private methods\n",
    "    def __private_method(self):\n",
    "        pass\n",
    "\n",
    "\n",
    "stud = Student(\"Shantanu\",\"MS\")\n",
    "stud.get_degree()"
   ]
  },
  {
   "cell_type": "code",
   "execution_count": 100,
   "id": "3d9c04d8-a930-4cbf-b551-dae6f9e8d6bf",
   "metadata": {},
   "outputs": [],
   "source": [
    "stud.set_degree(\"Phd\")"
   ]
  },
  {
   "cell_type": "code",
   "execution_count": 102,
   "id": "e29511bb-b87f-4533-bd4d-606fd6d8332e",
   "metadata": {},
   "outputs": [
    {
     "data": {
      "text/plain": [
       "'Phd'"
      ]
     },
     "execution_count": 102,
     "metadata": {},
     "output_type": "execute_result"
    }
   ],
   "source": [
    "stud.get_degree()"
   ]
  },
  {
   "cell_type": "code",
   "execution_count": 104,
   "id": "b2a9f183-422c-4355-8668-ee722b6d9fb0",
   "metadata": {},
   "outputs": [],
   "source": [
    "#Another Example \n",
    "class ATM:\n",
    "    def __init__(self,pin,balance):\n",
    "        self.__balance = balance\n",
    "        self.pin = pin\n",
    "    #getter\n",
    "    def show_balance(self):\n",
    "        return self.__balance\n",
    "    #setter\n",
    "    def modify_balance(self,new_value):\n",
    "        if type(new_value) == int:\n",
    "            self.__balance = new_value\n",
    "        else:\n",
    "            print(\"Bro, Dont create trouble\")\n",
    "\n",
    "tusar = ATM('1234',\"1000\")"
   ]
  },
  {
   "cell_type": "code",
   "execution_count": 106,
   "id": "c9eea9ec-56dc-44b6-bdfa-f40d35b70485",
   "metadata": {},
   "outputs": [],
   "source": [
    "tusar.modify_balance(2000)"
   ]
  },
  {
   "cell_type": "code",
   "execution_count": 108,
   "id": "46dd9929-2a8a-402d-90ec-0c84676042f5",
   "metadata": {},
   "outputs": [
    {
     "data": {
      "text/plain": [
       "2000"
      ]
     },
     "execution_count": 108,
     "metadata": {},
     "output_type": "execute_result"
    }
   ],
   "source": [
    "tusar.show_balance()"
   ]
  },
  {
   "cell_type": "code",
   "execution_count": 110,
   "id": "baf91d06-d804-416b-85de-d87db943c6ea",
   "metadata": {},
   "outputs": [],
   "source": [
    "class Car:\n",
    "    def __init__(self, year, make, speed, model):\n",
    "        self.__year = year\n",
    "        self.__make = make\n",
    "        self.__speed = speed\n",
    "        self.__model = model\n",
    "        \n",
    "    def set_speed(self, speed):\n",
    "        self.__speed= 0 if speed < 0 else speed\n",
    "    def get_speed(self):\n",
    "        return self.__speed"
   ]
  },
  {
   "cell_type": "code",
   "execution_count": 112,
   "id": "fb87b2ae-c391-45d6-9e40-111222999463",
   "metadata": {},
   "outputs": [],
   "source": [
    "car = Car(\"1991\",\"Suzuki\",\"80\",\"Breeza\")"
   ]
  },
  {
   "cell_type": "code",
   "execution_count": 114,
   "id": "20354d97-2733-4212-b5c3-2178a0c81c2e",
   "metadata": {},
   "outputs": [
    {
     "data": {
      "text/plain": [
       "'80'"
      ]
     },
     "execution_count": 114,
     "metadata": {},
     "output_type": "execute_result"
    }
   ],
   "source": [
    "car.get_speed()"
   ]
  },
  {
   "cell_type": "code",
   "execution_count": 116,
   "id": "6919a7d8-7ec4-48e1-a43a-088678de01bf",
   "metadata": {},
   "outputs": [],
   "source": [
    "car.set_speed(-100)"
   ]
  },
  {
   "cell_type": "code",
   "execution_count": 118,
   "id": "fe6df06f-7fb3-4c42-aef7-9edd543c0af6",
   "metadata": {},
   "outputs": [
    {
     "data": {
      "text/plain": [
       "0"
      ]
     },
     "execution_count": 118,
     "metadata": {},
     "output_type": "execute_result"
    }
   ],
   "source": [
    "car.get_speed()"
   ]
  },
  {
   "cell_type": "code",
   "execution_count": 120,
   "id": "9f3e2900-8713-4cfb-b262-63ea479c001c",
   "metadata": {},
   "outputs": [],
   "source": [
    "#Protected Variable >> within the class and its subclass protected emember \n",
    "#can be access, created using one underscore\n",
    "\n",
    "class Vehicle:\n",
    "    def __init__(self):\n",
    "        self._model = \"Maruti\" #protected variable\n",
    "\n",
    "class Car(Vehicle): #this is inheritance >> we will see it later stage\n",
    "    def __init__(self,name):\n",
    "        self.name = name\n",
    "        Vehicle.__init__(self) #super().__init__()\n",
    "    def show(self):\n",
    "        print(\"name\",self.name,\"model\",self._model)"
   ]
  },
  {
   "cell_type": "code",
   "execution_count": 122,
   "id": "85d26f4d-4417-4a4f-b3fc-1d4c872187e4",
   "metadata": {},
   "outputs": [],
   "source": [
    "c=Car(\"Breeza\")"
   ]
  },
  {
   "cell_type": "code",
   "execution_count": 124,
   "id": "d7294748-eaba-4d0c-8e32-65dc5a378d14",
   "metadata": {},
   "outputs": [
    {
     "data": {
      "text/plain": [
       "'Breeza'"
      ]
     },
     "execution_count": 124,
     "metadata": {},
     "output_type": "execute_result"
    }
   ],
   "source": [
    "c.name"
   ]
  },
  {
   "cell_type": "code",
   "execution_count": 126,
   "id": "28661335-2122-455b-8ef3-77ab1852df96",
   "metadata": {},
   "outputs": [
    {
     "name": "stdout",
     "output_type": "stream",
     "text": [
      "name Breeza model Maruti\n"
     ]
    }
   ],
   "source": [
    "c.show()"
   ]
  },
  {
   "cell_type": "code",
   "execution_count": 128,
   "id": "75f1dc64-75e8-4ae2-82dc-d4437ee64441",
   "metadata": {},
   "outputs": [],
   "source": [
    "#Collection of objects....\n",
    "class Student:\n",
    "    def __init__(self,name,degree):\n",
    "        self.name = name\n",
    "        self.degree = degree\n",
    "    #getter method >> to expose the private variable to other developer\n",
    "    def get_degree(self):\n",
    "        return self.__degree #access a private varibale inside a class\n",
    "    #setter method >> to change teh\n",
    "    def set_degree(self,new_value):\n",
    "        self.__degree = new_value\n",
    "stud1 = Student(\"Shantanu\",\"MS\")\n",
    "stud2 = Student(\"Ramu\",\"PHD\")\n",
    "stud3 = Student(\"Raj\",\"MBA\")\n"
   ]
  },
  {
   "cell_type": "code",
   "execution_count": 130,
   "id": "93a98569-61bc-4c6c-90cc-ec731565c055",
   "metadata": {},
   "outputs": [
    {
     "name": "stdout",
     "output_type": "stream",
     "text": [
      "Shantanu MS\n",
      "Ramu PHD\n",
      "Raj MBA\n"
     ]
    }
   ],
   "source": [
    "students = [stud1,stud2,stud3]\n",
    "for stu in students:\n",
    "    print(stu.name,stu.degree)"
   ]
  },
  {
   "cell_type": "code",
   "execution_count": 132,
   "id": "cafbb6d2-a6b2-4e2a-8f57-a36508074634",
   "metadata": {},
   "outputs": [],
   "source": [
    "students_dict = {\"s1\":stud1,\"s2\":stud2,\"s3\":stud3}"
   ]
  },
  {
   "cell_type": "code",
   "execution_count": 134,
   "id": "8ea9d520-308f-4a39-8899-8167092b4609",
   "metadata": {},
   "outputs": [
    {
     "name": "stdout",
     "output_type": "stream",
     "text": [
      "Shantanu\n",
      "Ramu\n",
      "Raj\n"
     ]
    }
   ],
   "source": [
    "for i in students_dict:\n",
    "    print(students_dict[i].name)    "
   ]
  },
  {
   "cell_type": "code",
   "execution_count": 136,
   "id": "cc00df3a-b22f-4eb7-bdba-48baee42f49e",
   "metadata": {},
   "outputs": [],
   "source": [
    "#Static variable....\n",
    "\n",
    "#here below name and degree are instance variable/object variable\n",
    "#but now, say I want to know how many students are there\n",
    "#or in other words, how many times student object is created\n",
    "# or >> what is total no of student or for atm problem statement what is tptal no of transection\n",
    "#in other words, I want a varibale which increase each time the class object is created\n",
    "class Student:\n",
    "    def __init__(self,name,degree):\n",
    "        self.name = name\n",
    "        self.degree = degree\n",
    "  \n",
    "    def get_degree(self):\n",
    "        return self.degree\n",
    "        \n",
    "    def set_degree(self,new_value):\n",
    "        self.__degree = new_value\n",
    "        \n",
    "stud1 = Student(\"Shantanu\",\"MS\")\n",
    "stud2 = Student(\"Ramu\",\"PHD\")\n",
    "stud3 = Student(\"Raj\",\"MBA\")\n"
   ]
  },
  {
   "cell_type": "code",
   "execution_count": 138,
   "id": "b0421640-6d11-4e25-bcec-bcd97127446d",
   "metadata": {},
   "outputs": [],
   "source": [
    "class Student:\n",
    "    sid = 0\n",
    "    sid+=1 # this way we can not do because each time the new object is created, sid will be re-initalised\n",
    "    #or we can say sid is indpendent for each object\n",
    "    def __init__(self,name,degree):\n",
    "        self.name = name\n",
    "        self.degree = degree\n",
    "  \n",
    "    def get_degree(self):\n",
    "        return self.degree\n",
    "        \n",
    "    def set_degree(self,new_value):\n",
    "        self.__degree = new_value\n",
    "        \n",
    "stud1 = Student(\"Shantanu\",\"MS\")\n",
    "stud2 = Student(\"Ramu\",\"PHD\")\n",
    "stud3 = Student(\"Raj\",\"MBA\")\n"
   ]
  },
  {
   "cell_type": "code",
   "execution_count": 140,
   "id": "ae9e1fa1-e714-4b49-a7cf-a6bd52eb08f8",
   "metadata": {},
   "outputs": [
    {
     "data": {
      "text/plain": [
       "1"
      ]
     },
     "execution_count": 140,
     "metadata": {},
     "output_type": "execute_result"
    }
   ],
   "source": [
    "stud3.sid"
   ]
  },
  {
   "cell_type": "code",
   "execution_count": 142,
   "id": "b96cf5bd-f903-47f5-8050-e1f764df6791",
   "metadata": {},
   "outputs": [],
   "source": [
    "#what we need to do? We need a class varible that is incresed each time class is called\n",
    "\n",
    "class Student:\n",
    "    sid = 0 #class variable always will be defined outside the constructor\n",
    "    def __init__(self,name,degree):\n",
    "        self.name = name\n",
    "        self.degree = degree\n",
    "        self.sid = Student.sid\n",
    "        Student.sid = Student.sid+1\n",
    "  \n",
    "    def get_degree(self):\n",
    "        return self.degree\n",
    "        \n",
    "    def set_degree(self,new_value):\n",
    "        self.__degree = new_value\n",
    "        \n",
    "stud1 = Student(\"Shantanu\",\"MS\")\n",
    "stud2 = Student(\"Ramu\",\"PHD\")\n",
    "stud3 = Student(\"Raj\",\"MBA\")\n",
    "stud3 = Student(\"Raj\",\"MBA\")\n"
   ]
  },
  {
   "cell_type": "code",
   "execution_count": 144,
   "id": "4226f1a3-f8f0-4d6e-876a-a3df24fb9a69",
   "metadata": {},
   "outputs": [
    {
     "data": {
      "text/plain": [
       "4"
      ]
     },
     "execution_count": 144,
     "metadata": {},
     "output_type": "execute_result"
    }
   ],
   "source": [
    "Student.sid #class variable is accessed by classname.variable"
   ]
  },
  {
   "cell_type": "code",
   "execution_count": 154,
   "id": "99433e02-bb2e-46b1-bb02-903300289635",
   "metadata": {},
   "outputs": [],
   "source": [
    "#static variable can also be private and you can expose it using any static method\n",
    "\n",
    "class Student:\n",
    "    __sid = 0 \n",
    "    def __init__(self,name,degree):\n",
    "        self.name = name\n",
    "        self.degree = degree\n",
    "        self.sid = Student.__sid\n",
    "        Student.__sid = Student.__sid+1\n",
    "  \n",
    "    def get_degree(self):\n",
    "        return self.degree\n",
    "\n",
    "    #utility function for class method>> you dont need to create object to access this method\n",
    "    @staticmethod\n",
    "    def get_sid():\n",
    "        return Student.__sid\n",
    "\n",
    "    def set_degree(self,new_value):\n",
    "        self.__degree = new_value\n",
    "        \n",
    "stud1 = Student(\"Shantanu\",\"MS\")\n",
    "stud2 = Student(\"Ramu\",\"PHD\")\n",
    "stud3 = Student(\"Raj\",\"MBA\")\n",
    "stud3 = Student(\"Raj\",\"MBA\")\n"
   ]
  },
  {
   "cell_type": "code",
   "execution_count": 156,
   "id": "571520c7-e2fc-47bb-90cb-dfbbfb893da2",
   "metadata": {},
   "outputs": [
    {
     "data": {
      "text/plain": [
       "4"
      ]
     },
     "execution_count": 156,
     "metadata": {},
     "output_type": "execute_result"
    }
   ],
   "source": [
    "Student.get_sid()"
   ]
  },
  {
   "cell_type": "code",
   "execution_count": null,
   "id": "4b071896-4c8c-4b32-9577-2a870cf8e434",
   "metadata": {},
   "outputs": [],
   "source": [
    "#make a trasection amount sum in class ATM\n",
    "#Cab booking system,also calculate total no of passanger after each trip"
   ]
  },
  {
   "cell_type": "code",
   "execution_count": 160,
   "id": "670c49c0-8036-413f-a654-eece26215443",
   "metadata": {},
   "outputs": [
    {
     "name": "stdout",
     "output_type": "stream",
     "text": [
      " Total objects (accounts) created: 3\n"
     ]
    }
   ],
   "source": [
    "class ATM:\n",
    "    # 🔹 Static variable to count how many ATM accounts (objects) are created\n",
    "    transaction_count = 0  \n",
    "\n",
    "    def __init__(self):\n",
    "        self.user_pin = ''\n",
    "        self.account_balance = 0\n",
    "        # Every time an object is created, increase count\n",
    "        ATM.transaction_count += 1  \n",
    "\n",
    "    def display_menu(self):\n",
    "        while True:\n",
    "            user_choice = input(\"\"\"\n",
    "            Welcome to the ATM!!!\n",
    "            Please choose the below option..\n",
    "            1. Create a new pin\n",
    "            2. Change your existing pin\n",
    "            3. Check your account balance\n",
    "            4. Withdraw money\n",
    "            5. Show total ATM accounts created\n",
    "            6. Exit\n",
    "            \"\"\")\n",
    "            if user_choice == '1':\n",
    "                self.create_new_pin()\n",
    "            elif user_choice == '2':\n",
    "                self.update_pin()\n",
    "            elif user_choice == '3':\n",
    "                self.view_balance()\n",
    "            elif user_choice == '4':\n",
    "                self.withdraw_money()\n",
    "            elif user_choice == '5':\n",
    "                self.show_transaction_count()\n",
    "            elif user_choice == '6':\n",
    "                print(\"Thank You for choosing ATM, Fir Milenge\")\n",
    "                break\n",
    "            else:\n",
    "                print(\"Invalid Choice, Try Again.\")\n",
    "\n",
    "    def create_new_pin(self):\n",
    "        while True:\n",
    "            new_pin = input(\"Please enter 4 digit pin: \")\n",
    "            if new_pin.isdigit() and len(new_pin) == 4:\n",
    "                self.user_pin = new_pin\n",
    "                break\n",
    "            else:\n",
    "                print(\"Invalid PIN, Try again.\")\n",
    "        self.account_balance = int(input(\"Enter the initial account balance: \"))\n",
    "        print(\"Pin Created Successfully and account balance updated.\")\n",
    "\n",
    "    def update_pin(self):\n",
    "        old_pin = input(\"Enter your current pin: \")\n",
    "        if old_pin == self.user_pin:\n",
    "            while True:\n",
    "                new_pin = input(\"Please enter 4 digit pin: \")\n",
    "                if new_pin.isdigit() and len(new_pin) == 4:\n",
    "                    self.user_pin = new_pin\n",
    "                    print(\"PIN updated successfully\")\n",
    "                    break\n",
    "                else:\n",
    "                    print(\"Invalid PIN, Please Enter a valid one.\")\n",
    "        else:\n",
    "            print(\"Invalid Pin, Transaction Denied.\")\n",
    "\n",
    "    def view_balance(self):\n",
    "        entered_pin = input(\"Enter your pin to view balance: \")\n",
    "        if entered_pin == self.user_pin:\n",
    "            print(f\"Your current balance is: ₹{self.account_balance}\")\n",
    "        else:\n",
    "            print(\"Invalid PIN, Access Denied.\")\n",
    "\n",
    "    def withdraw_money(self):\n",
    "        entered_pin = input(\"Enter your pin to withdraw money: \")\n",
    "        if entered_pin == self.user_pin:\n",
    "            amount = int(input(\"Enter the amount to withdraw: \"))\n",
    "            if amount <= self.account_balance:\n",
    "                self.account_balance -= amount\n",
    "                print(f\"Withdrawal successful! Remaining balance: ₹{self.account_balance}\")\n",
    "            else:\n",
    "                print(\"Insufficient balance.\")\n",
    "        else:\n",
    "            print(\"Invalid PIN, Transaction Denied.\")\n",
    "\n",
    "    def show_transaction_count(self):\n",
    "        print(f\" Total ATM accounts created: {ATM.transaction_count}\")\n",
    "\n",
    "\n",
    "# Run ATM\n",
    "a1 = ATM()\n",
    "a2 = ATM()\n",
    "a3 = ATM()\n",
    "\n",
    "print(\" Total objects (accounts) created:\", ATM.transaction_count)\n"
   ]
  },
  {
   "cell_type": "code",
   "execution_count": null,
   "id": "00b454b9-3957-468a-839b-2941158665e2",
   "metadata": {},
   "outputs": [],
   "source": [
    "#Pointers-..\n",
    "#static varibales are at class level,accessed using class name and it is object independent\n",
    "#we can access static variable without creating any object\n",
    "#The value stored in static variable is shared across the instaces/object of the class"
   ]
  },
  {
   "cell_type": "code",
   "execution_count": null,
   "id": "90fcd076-8797-44e6-8ea2-172d023cb23f",
   "metadata": {},
   "outputs": [],
   "source": [
    "#Inteview Question >> \n",
    "#what is encapsulation, use of incapsulation\n",
    "#what is private/public attributes?\n",
    "#can we make collection of object?\n",
    "#can we modify the object?\n",
    "#what is static variable  and how to use it"
   ]
  },
  {
   "cell_type": "code",
   "execution_count": null,
   "id": "a188bdd2-6539-43a0-a23b-e83d2f911aac",
   "metadata": {},
   "outputs": [],
   "source": []
  },
  {
   "cell_type": "code",
   "execution_count": null,
   "id": "bb7ff4fb-dc68-4672-b85f-9fde278f781f",
   "metadata": {},
   "outputs": [],
   "source": []
  },
  {
   "cell_type": "code",
   "execution_count": null,
   "id": "098fae17-0a46-4576-be47-63027471f101",
   "metadata": {},
   "outputs": [],
   "source": []
  },
  {
   "cell_type": "code",
   "execution_count": null,
   "id": "deaefa07-12a6-4b4d-8585-357b977bfb2b",
   "metadata": {},
   "outputs": [],
   "source": []
  },
  {
   "cell_type": "code",
   "execution_count": null,
   "id": "929449f7-16b1-4929-9ae3-b091e39b2e3e",
   "metadata": {},
   "outputs": [],
   "source": []
  }
 ],
 "metadata": {
  "kernelspec": {
   "display_name": "Python 3 (ipykernel)",
   "language": "python",
   "name": "python3"
  },
  "language_info": {
   "codemirror_mode": {
    "name": "ipython",
    "version": 3
   },
   "file_extension": ".py",
   "mimetype": "text/x-python",
   "name": "python",
   "nbconvert_exporter": "python",
   "pygments_lexer": "ipython3",
   "version": "3.12.7"
  }
 },
 "nbformat": 4,
 "nbformat_minor": 5
}
