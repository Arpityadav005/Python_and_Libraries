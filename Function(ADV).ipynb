{
 "cells": [
  {
   "cell_type": "code",
   "execution_count": 2,
   "id": "cc0bdb30-3b3f-47ec-a6d0-e1fdfd818af0",
   "metadata": {},
   "outputs": [],
   "source": [
    "# interview question\n",
    "# What is deep copy and shallow copy?\n",
    "# what is the use of append?\n",
    "# what is the use of pop?\n",
    "# uniq things about - set tuple , dectionory\n",
    "#why fucntion is needed -> resueablity,modularity,readablity\n",
    "# diff between *args and **args\n",
    "#how function works"
   ]
  },
  {
   "cell_type": "code",
   "execution_count": 4,
   "id": "7de23680-cfc7-41ff-9881-01c8162575ef",
   "metadata": {},
   "outputs": [],
   "source": [
    "# Agenda -> Functions,iterator,genarator"
   ]
  },
  {
   "cell_type": "code",
   "execution_count": 6,
   "id": "bf2b1ff2-647d-4a91-aa49-5949e080fa87",
   "metadata": {},
   "outputs": [],
   "source": [
    "#inbuilt function -> print() type(), len(), count(),\n",
    "# inbuilt function allows you to have an optimised code"
   ]
  },
  {
   "cell_type": "code",
   "execution_count": 8,
   "id": "43387a8b-667e-4f4e-b455-07ace16b75a3",
   "metadata": {},
   "outputs": [
    {
     "name": "stdout",
     "output_type": "stream",
     "text": [
      "2\n"
     ]
    }
   ],
   "source": [
    "a = [1,2,3,4,5,1]\n",
    "count = 0\n",
    "for i in a:\n",
    "    if i == 1:\n",
    "        count = count+1\n",
    "print(count)"
   ]
  },
  {
   "cell_type": "code",
   "execution_count": 10,
   "id": "806ac8cb-011e-4364-b20c-4f8048a48893",
   "metadata": {},
   "outputs": [
    {
     "data": {
      "text/plain": [
       "5"
      ]
     },
     "execution_count": 10,
     "metadata": {},
     "output_type": "execute_result"
    }
   ],
   "source": [
    "b= [1,1,1,1,1,3,4,5]\n",
    "b.count(1)"
   ]
  },
  {
   "cell_type": "code",
   "execution_count": 12,
   "id": "f59b3fc9-ba60-4b55-a8e2-c76412baf1f7",
   "metadata": {},
   "outputs": [],
   "source": [
    "#Abstraction -> hiding the details // just use the interface/function name\n",
    "#Decomposition -> doing multiple things together to do the same task>> modularity (avoiding redundancy)\n"
   ]
  },
  {
   "cell_type": "code",
   "execution_count": 14,
   "id": "52fc12a5-2a3d-4b27-9223-aae5ed4eca5d",
   "metadata": {},
   "outputs": [],
   "source": [
    "#two type of function -> inbuilt , user_defined function\n",
    "#syntax for function\n",
    "# def funtion_name():\n",
    "#return"
   ]
  },
  {
   "cell_type": "code",
   "execution_count": null,
   "id": "9b8da8ec-1b73-4753-b3c2-c15643d523ea",
   "metadata": {},
   "outputs": [],
   "source": []
  },
  {
   "cell_type": "code",
   "execution_count": 17,
   "id": "17757175-acb4-4b5b-94f3-7921af84485e",
   "metadata": {},
   "outputs": [],
   "source": [
    "\n",
    "def greet(self):\n",
    "    print(f\"Welcome to class {self} \")\n",
    "\n",
    "# def greet(): // here greet() is accepting the argument so we need to tell here as well\n",
    "    # that we are sending something // u can write anything but i wrote self one word means one arg\n",
    "#     print(f\"Welcome to class {name} \")"
   ]
  },
  {
   "cell_type": "code",
   "execution_count": 19,
   "id": "d050cf6e-5197-4ba7-b644-697c6239dd41",
   "metadata": {},
   "outputs": [
    {
     "name": "stdout",
     "output_type": "stream",
     "text": [
      "Welcome to class Raj \n"
     ]
    }
   ],
   "source": [
    "\n",
    "greet(\"Raj\")"
   ]
  },
  {
   "cell_type": "code",
   "execution_count": 21,
   "id": "c1cafa8b-0757-466a-b8dc-e6a3c7731087",
   "metadata": {},
   "outputs": [
    {
     "data": {
      "text/plain": [
       "'Welcome to the class Tusar'"
      ]
     },
     "execution_count": 21,
     "metadata": {},
     "output_type": "execute_result"
    }
   ],
   "source": [
    "\"Welcome to the class\"+\" Tusar\""
   ]
  },
  {
   "cell_type": "code",
   "execution_count": 23,
   "id": "52581d3a-9a55-4e85-98f3-05e407388a9d",
   "metadata": {},
   "outputs": [
    {
     "name": "stdout",
     "output_type": "stream",
     "text": [
      "Welcome to class Tusar \n"
     ]
    },
    {
     "ename": "TypeError",
     "evalue": "unsupported operand type(s) for +: 'NoneType' and 'str'",
     "output_type": "error",
     "traceback": [
      "\u001b[0;31m---------------------------------------------------------------------------\u001b[0m",
      "\u001b[0;31mTypeError\u001b[0m                                 Traceback (most recent call last)",
      "Cell \u001b[0;32mIn[23], line 1\u001b[0m\n\u001b[0;32m----> 1\u001b[0m greet(\u001b[38;5;124m\"\u001b[39m\u001b[38;5;124mTusar\u001b[39m\u001b[38;5;124m\"\u001b[39m) \u001b[38;5;241m+\u001b[39m \u001b[38;5;124m\"\u001b[39m\u001b[38;5;124mof python\u001b[39m\u001b[38;5;124m\"\u001b[39m\n",
      "\u001b[0;31mTypeError\u001b[0m: unsupported operand type(s) for +: 'NoneType' and 'str'"
     ]
    }
   ],
   "source": [
    "greet(\"Tusar\") + \"of python\""
   ]
  },
  {
   "cell_type": "code",
   "execution_count": null,
   "id": "614317fa-0c08-49be-a8b4-10e3b0e61b44",
   "metadata": {},
   "outputs": [],
   "source": [
    "type(greet(name))"
   ]
  },
  {
   "cell_type": "code",
   "execution_count": null,
   "id": "ea52507e-c0b6-4893-b4f7-8358b1b1452a",
   "metadata": {},
   "outputs": [],
   "source": [
    "# 4 imp part of function\n",
    "# def keyword\n",
    "# a func name\n",
    "#argument\n",
    "#return statement "
   ]
  },
  {
   "cell_type": "code",
   "execution_count": 27,
   "id": "4b94f02f-f24f-42d7-9a10-3cf7d981804d",
   "metadata": {},
   "outputs": [],
   "source": [
    "def func():\n",
    "    return \"this is class\",2,4,3+5j,True"
   ]
  },
  {
   "cell_type": "code",
   "execution_count": 29,
   "id": "a91f98ee-eb68-4219-83ee-fe585d7a48b3",
   "metadata": {},
   "outputs": [
    {
     "data": {
      "text/plain": [
       "('this is class', 2, 4, (3+5j), True)"
      ]
     },
     "execution_count": 29,
     "metadata": {},
     "output_type": "execute_result"
    }
   ],
   "source": [
    "func()"
   ]
  },
  {
   "cell_type": "code",
   "execution_count": 31,
   "id": "84a9bfb7-6a0b-4082-a329-17cf8187c19c",
   "metadata": {},
   "outputs": [],
   "source": [
    "a=func() # one way to store"
   ]
  },
  {
   "cell_type": "code",
   "execution_count": 33,
   "id": "804b3508-f601-4065-b680-5e7372b4b401",
   "metadata": {},
   "outputs": [
    {
     "data": {
      "text/plain": [
       "('this is class', 2, 4, (3+5j), True)"
      ]
     },
     "execution_count": 33,
     "metadata": {},
     "output_type": "execute_result"
    }
   ],
   "source": [
    "a"
   ]
  },
  {
   "cell_type": "code",
   "execution_count": 35,
   "id": "2c6b6609-3c3b-41d3-858a-5a8e9484b5d4",
   "metadata": {},
   "outputs": [],
   "source": [
    "a,b,c,d,e = func() # second way to store"
   ]
  },
  {
   "cell_type": "code",
   "execution_count": 37,
   "id": "3cbcfe3e-c520-4f3e-9ce6-a777122acdd0",
   "metadata": {},
   "outputs": [
    {
     "data": {
      "text/plain": [
       "'this is class'"
      ]
     },
     "execution_count": 37,
     "metadata": {},
     "output_type": "execute_result"
    }
   ],
   "source": [
    "a"
   ]
  },
  {
   "cell_type": "code",
   "execution_count": 39,
   "id": "9433801a-51ed-4d5a-a39e-454addc73faa",
   "metadata": {},
   "outputs": [],
   "source": [
    "#third way to store the return value of a function using unpacking of \n",
    "#tuple\n",
    "a,b,*c = func() "
   ]
  },
  {
   "cell_type": "code",
   "execution_count": 41,
   "id": "fbc49bc4-a028-485a-9cb5-3d491aa6c6c0",
   "metadata": {},
   "outputs": [
    {
     "data": {
      "text/plain": [
       "'this is class'"
      ]
     },
     "execution_count": 41,
     "metadata": {},
     "output_type": "execute_result"
    }
   ],
   "source": [
    "a"
   ]
  },
  {
   "cell_type": "code",
   "execution_count": 43,
   "id": "74b30752-2b51-4de8-9600-07f91a6b00cf",
   "metadata": {},
   "outputs": [
    {
     "data": {
      "text/plain": [
       "2"
      ]
     },
     "execution_count": 43,
     "metadata": {},
     "output_type": "execute_result"
    }
   ],
   "source": [
    "b"
   ]
  },
  {
   "cell_type": "code",
   "execution_count": 45,
   "id": "07777a5d-30c0-4a55-b9a5-cc96938b89c8",
   "metadata": {},
   "outputs": [
    {
     "data": {
      "text/plain": [
       "[4, (3+5j), True]"
      ]
     },
     "execution_count": 45,
     "metadata": {},
     "output_type": "execute_result"
    }
   ],
   "source": [
    "c"
   ]
  },
  {
   "cell_type": "code",
   "execution_count": 47,
   "id": "a78196f9-8f61-479b-8e30-8c78e69833dd",
   "metadata": {},
   "outputs": [
    {
     "name": "stdout",
     "output_type": "stream",
     "text": [
      "Welcome to class Piyush \n"
     ]
    }
   ],
   "source": [
    "greet(\"Piyush\")"
   ]
  },
  {
   "cell_type": "code",
   "execution_count": 49,
   "id": "40e77075-f8d8-4259-ac6a-6dc885352dfe",
   "metadata": {},
   "outputs": [],
   "source": [
    "#argument is of three type\n",
    "#default argument\n",
    "#positional argument\n",
    "#variable length  >> *args,*kwargs\n",
    "#keyword argument"
   ]
  },
  {
   "cell_type": "code",
   "execution_count": 51,
   "id": "8c7bc052-6bd8-420c-8529-08397895d998",
   "metadata": {},
   "outputs": [],
   "source": [
    "\n",
    "# write a function to add two number\n"
   ]
  },
  {
   "cell_type": "code",
   "execution_count": null,
   "id": "72f2dd2e-14a1-45e9-b736-ad02291cae12",
   "metadata": {},
   "outputs": [],
   "source": []
  },
  {
   "cell_type": "code",
   "execution_count": null,
   "id": "e6a4a43b-1b49-4801-9139-ca287049d921",
   "metadata": {},
   "outputs": [],
   "source": []
  },
  {
   "cell_type": "code",
   "execution_count": 55,
   "id": "457e07da-ff49-4206-9c2b-40f257ac5809",
   "metadata": {},
   "outputs": [],
   "source": [
    "#positional argument\n",
    "# sum(2,4) #by default, first arg becomes first position that is a, and second becomes b"
   ]
  },
  {
   "cell_type": "code",
   "execution_count": 57,
   "id": "2f423e9e-7cd9-4cd8-a2eb-d7d641d3b3b4",
   "metadata": {},
   "outputs": [],
   "source": [
    "# sum(\"Career\",\"Craft\") #this proves the position of argument"
   ]
  },
  {
   "cell_type": "code",
   "execution_count": 59,
   "id": "fa48b760-a224-42f0-b297-c581d251c934",
   "metadata": {},
   "outputs": [],
   "source": [
    "# sum(b=\"carrier\",a=\"craft\") #this is keyword argumnt"
   ]
  },
  {
   "cell_type": "code",
   "execution_count": 61,
   "id": "e91abb00-0bd0-4dda-a56c-f7a97b88a916",
   "metadata": {},
   "outputs": [],
   "source": [
    "#dafault argument\n",
    "def addition(a,b,c=0):\n",
    "    return a+b+c"
   ]
  },
  {
   "cell_type": "code",
   "execution_count": 63,
   "id": "d2d34f8a-2a08-4376-8b6f-9688ceb8907a",
   "metadata": {},
   "outputs": [
    {
     "data": {
      "text/plain": [
       "20"
      ]
     },
     "execution_count": 63,
     "metadata": {},
     "output_type": "execute_result"
    }
   ],
   "source": [
    "addition(5,10,5)"
   ]
  },
  {
   "cell_type": "code",
   "execution_count": 65,
   "id": "8b0661a1-5a29-4754-a965-73ed0965783b",
   "metadata": {},
   "outputs": [
    {
     "data": {
      "text/plain": [
       "10"
      ]
     },
     "execution_count": 65,
     "metadata": {},
     "output_type": "execute_result"
    }
   ],
   "source": [
    "addition(5,5) # we are providing 2 args only // third one default"
   ]
  },
  {
   "cell_type": "code",
   "execution_count": 67,
   "id": "5d4ec844-6ce3-4dcf-b343-221502ca48b6",
   "metadata": {},
   "outputs": [],
   "source": [
    "def add_two_nos():\n",
    "    a = int(input(\"Enter the First no: \"))\n",
    "    b = int(input(\"Enter the Second no: \"))\n",
    "    return f\"The addition is {a+b}\""
   ]
  },
  {
   "cell_type": "code",
   "execution_count": 69,
   "id": "067bc715-dede-47a0-8ae0-5efedc256f36",
   "metadata": {},
   "outputs": [],
   "source": [
    "# add_two_nos()"
   ]
  },
  {
   "cell_type": "code",
   "execution_count": 71,
   "id": "432736f2-ad9e-4a40-9c59-a76d9243d505",
   "metadata": {},
   "outputs": [],
   "source": [
    "def check_even(num):\n",
    "    if type(num) == int:\n",
    "        if num%2==0:\n",
    "            return f\"{num} is a even digit\"\n",
    "        else: return f\"{num} is an odd digit\"\n",
    "    else:\n",
    "        return \"Its not integer\""
   ]
  },
  {
   "cell_type": "code",
   "execution_count": 73,
   "id": "0c0f8e21-d642-45b4-a2cc-17a7b5c68638",
   "metadata": {},
   "outputs": [
    {
     "data": {
      "text/plain": [
       "'100 is a even digit'"
      ]
     },
     "execution_count": 73,
     "metadata": {},
     "output_type": "execute_result"
    }
   ],
   "source": [
    "check_even(100)"
   ]
  },
  {
   "cell_type": "code",
   "execution_count": 75,
   "id": "aed94105-4560-42a5-a76e-54e2a58a31f9",
   "metadata": {},
   "outputs": [
    {
     "name": "stdout",
     "output_type": "stream",
     "text": [
      "1 is an odd digit\n",
      "2 is a even digit\n",
      "3 is an odd digit\n",
      "4 is a even digit\n",
      "5 is an odd digit\n",
      "6 is a even digit\n",
      "7 is an odd digit\n",
      "8 is a even digit\n",
      "9 is an odd digit\n",
      "10 is a even digit\n"
     ]
    }
   ],
   "source": [
    "#calling a function in a loop\n",
    "for i in range(1,11):\n",
    "    res = check_even(i)\n",
    "    print(res)"
   ]
  },
  {
   "cell_type": "code",
   "execution_count": 77,
   "id": "65dd5189-1107-47e9-9c2d-d6a84b903773",
   "metadata": {},
   "outputs": [
    {
     "name": "stdin",
     "output_type": "stream",
     "text": [
      "Enter comma-separated values:  1,3,4\n"
     ]
    },
    {
     "name": "stdout",
     "output_type": "stream",
     "text": [
      "1\n",
      "3\n",
      "4\n"
     ]
    }
   ],
   "source": [
    "#write a function that takes list as input and return all numeric values\n",
    "#input >> [1,2,3,4,5]\n",
    "def listfunc():\n",
    "    a = input(\"Enter comma-separated values: \").split(',')\n",
    "    for i in a:\n",
    "        i = i.strip()  # Remove spaces\n",
    "        if i.replace('.', '', 1).isdigit():  # Check if int or float\n",
    "            if '.' in i:\n",
    "                print(float(i))\n",
    "            else:\n",
    "                print(int(i))\n",
    "\n",
    "listfunc()\n"
   ]
  },
  {
   "cell_type": "code",
   "execution_count": 79,
   "id": "27a6200e-59b3-4285-8326-d0527e208256",
   "metadata": {},
   "outputs": [],
   "source": [
    "# [item.strip() for item in a]\n",
    "# This is called a list comprehension in Python. It's a shortcut for writing a for loop."
   ]
  },
  {
   "cell_type": "code",
   "execution_count": 81,
   "id": "382a9c84-6773-4397-a00f-676310857c22",
   "metadata": {},
   "outputs": [],
   "source": [
    "def addition(a,b): # only two arguments will be there > its fixed\n",
    "    return a+b"
   ]
  },
  {
   "cell_type": "code",
   "execution_count": 83,
   "id": "b10661f0-2636-4e84-ac04-4f8de3ba7da6",
   "metadata": {},
   "outputs": [
    {
     "data": {
      "text/plain": [
       "9"
      ]
     },
     "execution_count": 83,
     "metadata": {},
     "output_type": "execute_result"
    }
   ],
   "source": [
    "addition(5,4)"
   ]
  },
  {
   "cell_type": "code",
   "execution_count": 85,
   "id": "0694ddec-cce6-437f-ba0b-8857253f0d4d",
   "metadata": {},
   "outputs": [
    {
     "ename": "TypeError",
     "evalue": "addition() takes 2 positional arguments but 4 were given",
     "output_type": "error",
     "traceback": [
      "\u001b[0;31m---------------------------------------------------------------------------\u001b[0m",
      "\u001b[0;31mTypeError\u001b[0m                                 Traceback (most recent call last)",
      "Cell \u001b[0;32mIn[85], line 1\u001b[0m\n\u001b[0;32m----> 1\u001b[0m addition(\u001b[38;5;241m4\u001b[39m,\u001b[38;5;241m5\u001b[39m,\u001b[38;5;241m6\u001b[39m,\u001b[38;5;241m7\u001b[39m)\n",
      "\u001b[0;31mTypeError\u001b[0m: addition() takes 2 positional arguments but 4 were given"
     ]
    }
   ],
   "source": [
    "addition(4,5,6,7)"
   ]
  },
  {
   "cell_type": "code",
   "execution_count": 87,
   "id": "2b9bf1e2-1926-4c18-8af3-6fdffe379e5d",
   "metadata": {},
   "outputs": [],
   "source": [
    "# to pass as many no if argument you want\n",
    "def addition(*args):\n",
    "    return args"
   ]
  },
  {
   "cell_type": "code",
   "execution_count": 89,
   "id": "95af0558-86f6-40ab-9736-9ec950c8a380",
   "metadata": {},
   "outputs": [
    {
     "data": {
      "text/plain": [
       "(1, 2, 3, 4, 5, 6, True, 'Abra ka Dabra')"
      ]
     },
     "execution_count": 89,
     "metadata": {},
     "output_type": "execute_result"
    }
   ],
   "source": [
    "addition(1,2,3,4,5,6,True,\"Abra ka Dabra\")"
   ]
  },
  {
   "cell_type": "code",
   "execution_count": 91,
   "id": "3b9172ff-fbcb-429c-a391-d1ba06b8a0fb",
   "metadata": {},
   "outputs": [],
   "source": [
    "def addition(*args):\n",
    "    summ=0\n",
    "    for i in args:\n",
    "        summ = summ+i\n",
    "    return summ\n",
    "    "
   ]
  },
  {
   "cell_type": "code",
   "execution_count": 93,
   "id": "d3275a6b-9a05-41de-951c-ec3c3298c8c9",
   "metadata": {},
   "outputs": [
    {
     "data": {
      "text/plain": [
       "15"
      ]
     },
     "execution_count": 93,
     "metadata": {},
     "output_type": "execute_result"
    }
   ],
   "source": [
    "addition(1,2,3,4,5)"
   ]
  },
  {
   "cell_type": "code",
   "execution_count": 95,
   "id": "e49343c3-1eee-4d85-9179-aec03f392efb",
   "metadata": {},
   "outputs": [],
   "source": [
    "def addition(*args):\n",
    "    \n",
    "    return sum(args) # its working"
   ]
  },
  {
   "cell_type": "code",
   "execution_count": 97,
   "id": "8e4c63e4-b248-4e56-8655-5b01c606b55b",
   "metadata": {},
   "outputs": [
    {
     "name": "stdout",
     "output_type": "stream",
     "text": [
      "22\n"
     ]
    }
   ],
   "source": [
    "print(addition(1,2,3,3,4,4,5))"
   ]
  },
  {
   "cell_type": "code",
   "execution_count": 99,
   "id": "f755e7ad-055c-477e-ae37-801ca11a6e1e",
   "metadata": {},
   "outputs": [],
   "source": [
    "# args is not a pythonic keyword\n",
    "def addition(*arp):\n",
    "    \n",
    "    return sum(arp) # its working"
   ]
  },
  {
   "cell_type": "code",
   "execution_count": 101,
   "id": "d75d8e3c-1592-4a62-bebd-bf1404eca671",
   "metadata": {},
   "outputs": [
    {
     "data": {
      "text/plain": [
       "25"
      ]
     },
     "execution_count": 101,
     "metadata": {},
     "output_type": "execute_result"
    }
   ],
   "source": [
    "addition(4,5,6,3,3,4)"
   ]
  },
  {
   "cell_type": "code",
   "execution_count": 103,
   "id": "df14e336-b9c0-465d-b073-3da36fa41085",
   "metadata": {},
   "outputs": [],
   "source": [
    "# write a function which accepts any number of numbers and returns the\n",
    "#product\n",
    "\n",
    "def var_product(*args):\n",
    "    num = 1\n",
    "    for i in args:\n",
    "        num = num*i\n",
    "    return f\"The Product is {num}\""
   ]
  },
  {
   "cell_type": "code",
   "execution_count": 105,
   "id": "d626aa0a-fc6f-42d9-94d9-6c71a95332f6",
   "metadata": {},
   "outputs": [
    {
     "data": {
      "text/plain": [
       "'The Product is 256'"
      ]
     },
     "execution_count": 105,
     "metadata": {},
     "output_type": "execute_result"
    }
   ],
   "source": [
    "var_product(2,2,2,2,2,2,2,2)"
   ]
  },
  {
   "cell_type": "code",
   "execution_count": 107,
   "id": "136cab44-e592-4f6a-b00c-3729f5e5e67e",
   "metadata": {},
   "outputs": [],
   "source": [
    "## passing asgument in a maping in key-value pair\n",
    "\n",
    "# **kwargs >> key word argument\n",
    "# argument are treated as key value pair"
   ]
  },
  {
   "cell_type": "code",
   "execution_count": 109,
   "id": "ff35cbea-09e1-4ba7-bc19-33a6ef79db86",
   "metadata": {},
   "outputs": [],
   "source": [
    "def kwargs_func(**kwargs): # argument are treated as dictionary\n",
    "    return kwargs"
   ]
  },
  {
   "cell_type": "code",
   "execution_count": 111,
   "id": "c622c05b-1d41-4ea9-a4ea-1d74f3a4ce07",
   "metadata": {},
   "outputs": [
    {
     "data": {
      "text/plain": [
       "{'a': 2,\n",
       " 'b': 3,\n",
       " 'c': [1, 2, 3, 4, 5],\n",
       " 'd': ['arpit', 'raj', 124, True, (5+9j)]}"
      ]
     },
     "execution_count": 111,
     "metadata": {},
     "output_type": "execute_result"
    }
   ],
   "source": [
    "kwargs_func(a=2,b=3,c=[1,2,3,4,5],d=[\"arpit\",\"raj\",124,True,5+9j])"
   ]
  },
  {
   "cell_type": "code",
   "execution_count": 113,
   "id": "5cd3ab2a-e896-4ea5-b5cf-136f008e81ee",
   "metadata": {},
   "outputs": [
    {
     "name": "stdout",
     "output_type": "stream",
     "text": [
      "[1, 2, 3, 4, 5]\n",
      "['arpit', 'raj', 124, True, (5+9j)]\n"
     ]
    }
   ],
   "source": [
    "#write a function that takes variable key word and return only the \n",
    "#value which is a list\n",
    "# items() is a method of a dictionary.\n",
    "# It returns a list of (key, value) pairs.\n",
    "# isinstance(value, list)\n",
    "# This is used to check the type of a variable.\n",
    "\n",
    "def fig_list(**kwargs):\n",
    "    for key, value in kwargs.items():  # Loop through each key-value in the dict\n",
    "        if isinstance(value, list):    # Check if the value is a list\n",
    "            print(value)               # If yes, print it\n",
    "\n",
    "fig_list(a=2, b=3, c=[1, 2, 3, 4, 5], d=[\"arpit\", \"raj\", 124, True, 5+9j])\n"
   ]
  },
  {
   "cell_type": "code",
   "execution_count": 115,
   "id": "4a8e8ee0-f4a3-4d2f-a021-c011b08a22c9",
   "metadata": {},
   "outputs": [],
   "source": [
    "#Both args and keyword arguments together"
   ]
  },
  {
   "cell_type": "code",
   "execution_count": 117,
   "id": "fe7944b9-ac8a-4614-8397-5bb5288e1f01",
   "metadata": {},
   "outputs": [],
   "source": [
    "def func(*args,**kwargs):\n",
    "    return args, kwargs"
   ]
  },
  {
   "cell_type": "code",
   "execution_count": 119,
   "id": "351ba7f3-7160-4815-9b23-4e29080b9b4d",
   "metadata": {},
   "outputs": [],
   "source": [
    "# key point\n",
    "#order of args and kwargs matters\n",
    "#instead of args and kwargs you can use anything"
   ]
  },
  {
   "cell_type": "code",
   "execution_count": 121,
   "id": "25dd164f-ba5b-4d91-84c8-78fbb21d0c99",
   "metadata": {},
   "outputs": [
    {
     "data": {
      "text/plain": [
       "int"
      ]
     },
     "execution_count": 121,
     "metadata": {},
     "output_type": "execute_result"
    }
   ],
   "source": [
    "#How function are stored and executed in the memory??\n",
    "#First class citizen in programming >> basic datatype like int,float \n",
    "#is called first class\n",
    "#in other programing language only datatypes are first class citizen\n",
    "#but in python function are also stored as first class citizen\n",
    "# function is acting as a dataype\n",
    "a=3\n",
    "type(a)\n"
   ]
  },
  {
   "cell_type": "code",
   "execution_count": 123,
   "id": "b3f4b01f-8c84-45a5-b0a9-e961bdc02d6e",
   "metadata": {},
   "outputs": [
    {
     "data": {
      "text/plain": [
       "4374224720"
      ]
     },
     "execution_count": 123,
     "metadata": {},
     "output_type": "execute_result"
    }
   ],
   "source": [
    "id(a) # gives a memory block where it is stored"
   ]
  },
  {
   "cell_type": "code",
   "execution_count": 125,
   "id": "b8705f6d-d0d0-49a6-bcaa-1cd74064b022",
   "metadata": {},
   "outputs": [
    {
     "data": {
      "text/plain": [
       "function"
      ]
     },
     "execution_count": 125,
     "metadata": {},
     "output_type": "execute_result"
    }
   ],
   "source": [
    "type(func)"
   ]
  },
  {
   "cell_type": "code",
   "execution_count": 127,
   "id": "94e3b5ca-f5e6-4e29-be68-6b357296527d",
   "metadata": {},
   "outputs": [
    {
     "data": {
      "text/plain": [
       "5452428320"
      ]
     },
     "execution_count": 127,
     "metadata": {},
     "output_type": "execute_result"
    }
   ],
   "source": [
    "id(func)"
   ]
  },
  {
   "cell_type": "code",
   "execution_count": 129,
   "id": "65bffbc3-8e84-4299-9367-7d3d7155bcf4",
   "metadata": {},
   "outputs": [
    {
     "data": {
      "text/plain": [
       "function"
      ]
     },
     "execution_count": 129,
     "metadata": {},
     "output_type": "execute_result"
    }
   ],
   "source": [
    "a=func # we have re-assigned the memory block of func to a\n",
    "type(a)"
   ]
  },
  {
   "cell_type": "code",
   "execution_count": 131,
   "id": "4ad8b66f-0ae9-4447-bbd5-6af977720251",
   "metadata": {},
   "outputs": [],
   "source": [
    "#how function is executed...\n",
    "#>> function is stored is RAM and assume it has three parts >> call stack, \n",
    "#heap memory, execution context\n",
    "#when a function is defined,it is stored in the memory block>> verify using id(funtion name),\n",
    "#and fn name serves as refrence to a memory location\n",
    "\n",
    "#FUNCTION CALL WORKING  IN THE FOLLOWING WAY:\n",
    "#when a function is created, the object is created and once you execute the code\n",
    "# python sees def, the object is intialised and it directly goes to the line where function is called.\n",
    "#(visualise it using python tutor) after that it enters the function\n",
    "#do the computation and at last it returns the result.\n",
    "\n",
    "#HOW FUNCTION CALLING WORKING\n",
    "#when a function is called, a memory/resource is allocated for the execution >> it happens within the call stack\n",
    "#which manages function calls and their execution context\n",
    "# >> when a fucntion is invoked >> an execution context is created\n",
    "# execution context has three things >> variable and arguments, scope chain >> links the global varibale with local varibale\n",
    "# and instruction pointer which keeps tracks of the execution of next line of the function\n",
    "\n",
    "\n",
    "# the execution context is sent back to call stack with all the variable, and function is executed in LIFO \n",
    "#execution will happen\n",
    "\n",
    "#ROLE OF HEAP MEMORY >> is the function allocates the dynamic memory, then data is stored in the heap memory which is automatically\n",
    "#managed by garbage collection in python"
   ]
  },
  {
   "cell_type": "code",
   "execution_count": 133,
   "id": "7251649f-87ca-48a7-9712-ac32eeb21953",
   "metadata": {},
   "outputs": [],
   "source": [
    "#python namespace >> local variable and global varibale\n",
    "# A namespace is like a labelled box where names (like variable names, function names, etc.) are stored with their values.\n",
    "# Python uses namespaces to keep track of which name belongs to which object in memory."
   ]
  },
  {
   "cell_type": "code",
   "execution_count": 135,
   "id": "3bfe9615-a262-406a-befd-af746cd825b9",
   "metadata": {},
   "outputs": [],
   "source": [
    "def greet():\n",
    "    message = \"Hi, welcome\" #message is local variable here, can be accessed in side the function only\n",
    "    print(message)"
   ]
  },
  {
   "cell_type": "code",
   "execution_count": 137,
   "id": "bac685ce-1dee-45fa-a30e-1d7c315836c0",
   "metadata": {},
   "outputs": [
    {
     "name": "stdout",
     "output_type": "stream",
     "text": [
      "Hi, welcome\n"
     ]
    }
   ],
   "source": [
    "greet()"
   ]
  },
  {
   "cell_type": "code",
   "execution_count": 139,
   "id": "e01d55d4-35d2-477a-8154-8bfdfdf25cff",
   "metadata": {},
   "outputs": [
    {
     "ename": "NameError",
     "evalue": "name 'message' is not defined",
     "output_type": "error",
     "traceback": [
      "\u001b[0;31m---------------------------------------------------------------------------\u001b[0m",
      "\u001b[0;31mNameError\u001b[0m                                 Traceback (most recent call last)",
      "Cell \u001b[0;32mIn[139], line 1\u001b[0m\n\u001b[0;32m----> 1\u001b[0m message\n",
      "\u001b[0;31mNameError\u001b[0m: name 'message' is not defined"
     ]
    }
   ],
   "source": [
    "message #its local so showing error"
   ]
  },
  {
   "cell_type": "code",
   "execution_count": 141,
   "id": "98da2fa6-5e72-42a0-956a-06b2d502fcc0",
   "metadata": {},
   "outputs": [],
   "source": [
    "rest = \" to CC classes\"\n",
    "def greet():\n",
    "    message = \"Hi, welcome\" + rest\n",
    "     print(message)"
   ]
  },
  {
   "cell_type": "code",
   "execution_count": 143,
   "id": "e5e543e7-08c3-4808-98fd-e1fe2aad5c9f",
   "metadata": {},
   "outputs": [
    {
     "name": "stdout",
     "output_type": "stream",
     "text": [
      "Hi, welcome to CC classes\n"
     ]
    }
   ],
   "source": [
    "greet()"
   ]
  },
  {
   "cell_type": "code",
   "execution_count": 145,
   "id": "12856625-5cd6-44a6-9a61-cc36490e3351",
   "metadata": {},
   "outputs": [
    {
     "data": {
      "text/plain": [
       "' to CC classes'"
      ]
     },
     "execution_count": 145,
     "metadata": {},
     "output_type": "execute_result"
    }
   ],
   "source": [
    "dsdrest # its global can be accessed inside and outside both"
   ]
  },
  {
   "cell_type": "code",
   "execution_count": 147,
   "id": "3d18084f-c236-4ae4-9d5f-52e0dc37df53",
   "metadata": {},
   "outputs": [],
   "source": [
    "###**************** NESTED FUNCTION *********************"
   ]
  },
  {
   "cell_type": "code",
   "execution_count": 149,
   "id": "50b31659-6561-4e4a-8b20-f8b1adea5a74",
   "metadata": {},
   "outputs": [],
   "source": [
    "#nested function ->> function inside a function\n",
    "\n",
    "def marks_subjects(**kwargs):\n",
    "    marks = []\n",
    "    for sub,mark in kwargs.items():\n",
    "        marks.append(mark)\n",
    "    return marks"
   ]
  },
  {
   "cell_type": "code",
   "execution_count": 151,
   "id": "419b3a8a-5b85-4efb-b60a-d31ae29cf876",
   "metadata": {},
   "outputs": [
    {
     "data": {
      "text/plain": [
       "[48, 47, 98]"
      ]
     },
     "execution_count": 151,
     "metadata": {},
     "output_type": "execute_result"
    }
   ],
   "source": [
    "marks_subjects(a=48,b=47,c=98)"
   ]
  },
  {
   "cell_type": "code",
   "execution_count": 153,
   "id": "f6ac8c12-956a-4155-b3fa-531a9f4ff7da",
   "metadata": {},
   "outputs": [],
   "source": [
    "#to sum up the marks\n",
    "def marks_subjects(**kwargs):\n",
    "    def total(marks):\n",
    "        return sum(marks)\n",
    "    marks = []\n",
    "    for sub,mark in kwargs.items():\n",
    "        marks.append(mark)\n",
    "    return total(marks)"
   ]
  },
  {
   "cell_type": "code",
   "execution_count": 155,
   "id": "15e3ada1-45ae-4eaa-bed5-f0dcc94a849c",
   "metadata": {},
   "outputs": [
    {
     "data": {
      "text/plain": [
       "185"
      ]
     },
     "execution_count": 155,
     "metadata": {},
     "output_type": "execute_result"
    }
   ],
   "source": [
    "marks_subjects(a=40,b=47,c=98)"
   ]
  },
  {
   "cell_type": "code",
   "execution_count": 157,
   "id": "66accb8c-84e9-4d3d-a452-075ea2477ac3",
   "metadata": {},
   "outputs": [],
   "source": [
    "# best practice to keep the function outside\n",
    "def total(marks):\n",
    "        return sum(marks)\n",
    "\n",
    "def marks_subjects(**kwargs):\n",
    "    marks = []\n",
    "    for sub,mark in kwargs.items():\n",
    "        marks.append(mark)\n",
    "    return total(marks)"
   ]
  },
  {
   "cell_type": "raw",
   "id": "95690057-7b94-4e83-9670-e61a2e87a9f5",
   "metadata": {},
   "source": []
  },
  {
   "cell_type": "markdown",
   "id": "f9528134-f708-424b-ad0b-51b39b1e5c51",
   "metadata": {},
   "source": [
    "marks_subjects(a=40,b=47,c=98)"
   ]
  },
  {
   "cell_type": "code",
   "execution_count": 160,
   "id": "83870c3b-5e79-4596-b93a-ec328a61254e",
   "metadata": {},
   "outputs": [],
   "source": [
    "#function act like a datatype, you can delete as well using deln\n",
    "del func"
   ]
  },
  {
   "cell_type": "code",
   "execution_count": 162,
   "id": "fd4aff5c-6aff-44a0-8de9-0a5c1505a4ad",
   "metadata": {},
   "outputs": [],
   "source": [
    "#Returning of a function\n",
    "def f():\n",
    "    def g(a,b):\n",
    "        return a+b\n",
    "    return g"
   ]
  },
  {
   "cell_type": "code",
   "execution_count": 164,
   "id": "3d1088e4-0abc-4e1d-9fe0-2e9a61402be8",
   "metadata": {},
   "outputs": [
    {
     "data": {
      "text/plain": [
       "<function __main__.f.<locals>.g(a, b)>"
      ]
     },
     "execution_count": 164,
     "metadata": {},
     "output_type": "execute_result"
    }
   ],
   "source": [
    "f() # this is the main function, g is local function inside main funtion"
   ]
  },
  {
   "cell_type": "code",
   "execution_count": 166,
   "id": "83135d5c-2a54-495f-a1e6-45cc48eca07f",
   "metadata": {},
   "outputs": [
    {
     "data": {
      "text/plain": [
       "3"
      ]
     },
     "execution_count": 166,
     "metadata": {},
     "output_type": "execute_result"
    }
   ],
   "source": [
    " f()(1,2)"
   ]
  },
  {
   "cell_type": "code",
   "execution_count": 168,
   "id": "ce656dc0-f4e4-4fa8-a4a8-ea220c8691ef",
   "metadata": {},
   "outputs": [
    {
     "name": "stdout",
     "output_type": "stream",
     "text": [
      "Inside function g\n",
      "Inside function f\n",
      "None\n"
     ]
    }
   ],
   "source": [
    "#function as an argumnet\n",
    "def f():\n",
    "    print(\"Inside function f\")\n",
    "def g(a):\n",
    "    print(\"Inside function g\")\n",
    "    return a()\n",
    "print(g(f))"
   ]
  },
  {
   "cell_type": "code",
   "execution_count": 170,
   "id": "8a677072-0e3e-4b92-a25e-a973553ab99d",
   "metadata": {},
   "outputs": [],
   "source": [
    "# doc string\n",
    "def f_power(num,power):\n",
    "     \n",
    "    \"\"\" \n",
    "      this askndfqsd\n",
    "       asdflkasdnfs\n",
    "       sadfjksdnf\n",
    "    \"\"\"\n",
    "    return num**power"
   ]
  },
  {
   "cell_type": "code",
   "execution_count": 172,
   "id": "76aff3b8-6b4f-4636-8bce-0027c59c07ca",
   "metadata": {},
   "outputs": [
    {
     "name": "stdout",
     "output_type": "stream",
     "text": [
      "Help on function f_power in module __main__:\n",
      "\n",
      "f_power(num, power)\n",
      "    this askndfqsd\n",
      "     asdflkasdnfs\n",
      "     sadfjksdnf\n",
      "\n"
     ]
    }
   ],
   "source": [
    "help(f_power)"
   ]
  },
  {
   "cell_type": "code",
   "execution_count": 174,
   "id": "cde142df-6c18-4ee6-9cf5-9e805d93c6de",
   "metadata": {},
   "outputs": [
    {
     "name": "stdout",
     "output_type": "stream",
     "text": [
      " \n",
      "      this askndfqsd\n",
      "       asdflkasdnfs\n",
      "       sadfjksdnf\n",
      "    \n"
     ]
    }
   ],
   "source": [
    "print(f_power.__doc__)"
   ]
  },
  {
   "cell_type": "code",
   "execution_count": null,
   "id": "49544d46-d73f-4a40-bf0a-6296938854c6",
   "metadata": {},
   "outputs": [],
   "source": [
    "#Agenda\n",
    "#map,reduce,filter,lamda,zip,recursion,iterator,generator,>>OOPS"
   ]
  },
  {
   "cell_type": "code",
   "execution_count": 184,
   "id": "b1d7ae05-f8f0-42b8-9017-105708252071",
   "metadata": {},
   "outputs": [],
   "source": [
    "#1. Lambda Fucntion -> A lambda function in python is a consie way to create anonymous function\n"
   ]
  },
  {
   "cell_type": "code",
   "execution_count": 186,
   "id": "95cdbb6a-3030-4926-a8cc-5c3907a25273",
   "metadata": {},
   "outputs": [],
   "source": [
    "def square(x):\n",
    "    return x**2"
   ]
  },
  {
   "cell_type": "code",
   "execution_count": 188,
   "id": "322c8170-0f3e-45c3-8f3a-27a59f7da2e0",
   "metadata": {},
   "outputs": [
    {
     "data": {
      "text/plain": [
       "9"
      ]
     },
     "execution_count": 188,
     "metadata": {},
     "output_type": "execute_result"
    }
   ],
   "source": [
    "square(3)"
   ]
  },
  {
   "cell_type": "code",
   "execution_count": null,
   "id": "6e98d9ea-9144-41f6-9822-f173628d591f",
   "metadata": {},
   "outputs": [],
   "source": [
    "#lamba, anonymous, short-hand function\n",
    "#syntax\n",
    "#lambda argument : expression\n",
    "\n",
    "# a lambda fucntion can tale any no. of argument but can have only one expression \n"
   ]
  },
  {
   "cell_type": "code",
   "execution_count": null,
   "id": "22b980d2-540c-47a0-b913-2b7671517922",
   "metadata": {},
   "outputs": [],
   "source": [
    "#working of a lambda fucntion\n",
    "#write a lambda function with a lambda key word\n",
    "#whenever you create a lambda function >> a function object is created\n",
    "#this function is assigned to a vairable\n",
    "#whenever you call the variable with argumnets it get executed"
   ]
  },
  {
   "cell_type": "code",
   "execution_count": 198,
   "id": "898b647f-c6c1-4baf-86a8-a8f6f35f78d1",
   "metadata": {},
   "outputs": [],
   "source": [
    "sq_lambda = lambda x : x**2"
   ]
  },
  {
   "cell_type": "code",
   "execution_count": 200,
   "id": "67097510-eefe-4cd8-96af-2c30f841e4e3",
   "metadata": {},
   "outputs": [
    {
     "data": {
      "text/plain": [
       "100"
      ]
     },
     "execution_count": 200,
     "metadata": {},
     "output_type": "execute_result"
    }
   ],
   "source": [
    "sq_lambda(10)"
   ]
  },
  {
   "cell_type": "code",
   "execution_count": 206,
   "id": "a72bb3e6-d71f-41a3-902c-e78a7f8e8f87",
   "metadata": {},
   "outputs": [],
   "source": [
    "# default argument in lambda fucntion\n",
    "sq_lambda = lambda x=2 : x**2 "
   ]
  },
  {
   "cell_type": "code",
   "execution_count": 204,
   "id": "5f3b7ac5-8a13-42ac-9011-687f0b4581bc",
   "metadata": {},
   "outputs": [
    {
     "data": {
      "text/plain": [
       "4"
      ]
     },
     "execution_count": 204,
     "metadata": {},
     "output_type": "execute_result"
    }
   ],
   "source": [
    "sq_lambda()"
   ]
  },
  {
   "cell_type": "code",
   "execution_count": 208,
   "id": "4f608c2c-7cf8-4582-839b-7e129a61ba41",
   "metadata": {},
   "outputs": [],
   "source": [
    "#write a lambda fucntion to add to fucntion\n",
    "sum_lambda = lambda a,b : a+b"
   ]
  },
  {
   "cell_type": "code",
   "execution_count": 210,
   "id": "7ce56109-4269-4067-8e66-b75d656b0ac5",
   "metadata": {},
   "outputs": [
    {
     "data": {
      "text/plain": [
       "10"
      ]
     },
     "execution_count": 210,
     "metadata": {},
     "output_type": "execute_result"
    }
   ],
   "source": [
    "sum_lambda(3,7)"
   ]
  },
  {
   "cell_type": "code",
   "execution_count": 214,
   "id": "b23fc192-69f6-4b00-b40f-9ac8e2f3324f",
   "metadata": {},
   "outputs": [],
   "source": [
    "#write a lambda function to know a number is even or odd\n",
    "check = lambda a : \"Even\" if a%2 == 0 else 'Odd'"
   ]
  },
  {
   "cell_type": "code",
   "execution_count": 216,
   "id": "2577ac68-c918-421b-83b9-1d5005f8d2e3",
   "metadata": {},
   "outputs": [
    {
     "data": {
      "text/plain": [
       "'Odd'"
      ]
     },
     "execution_count": 216,
     "metadata": {},
     "output_type": "execute_result"
    }
   ],
   "source": [
    "check(19)"
   ]
  },
  {
   "cell_type": "code",
   "execution_count": 218,
   "id": "ac079d69-5f57-44bd-b59e-5177bc19b039",
   "metadata": {},
   "outputs": [],
   "source": [
    "is_even =  lambda a : a%2==0"
   ]
  },
  {
   "cell_type": "code",
   "execution_count": 222,
   "id": "4d8e4a8f-ead0-4317-ac96-a398c15592ff",
   "metadata": {},
   "outputs": [
    {
     "data": {
      "text/plain": [
       "False"
      ]
     },
     "execution_count": 222,
     "metadata": {},
     "output_type": "execute_result"
    }
   ],
   "source": [
    "is_even(3)"
   ]
  },
  {
   "cell_type": "code",
   "execution_count": 230,
   "id": "2c1e15ab-51cd-4897-a7f6-2fc2529816c3",
   "metadata": {},
   "outputs": [],
   "source": [
    "#you have to sort this using lambda function based on np of charector\n",
    "a = ['career','craft','ds','ajay','vijay','sanjay','pinjay']\n",
    "a.sort(key = lambda x : len(x))"
   ]
  },
  {
   "cell_type": "code",
   "execution_count": 232,
   "id": "aa183856-d391-46d5-ad5c-58eaec322141",
   "metadata": {},
   "outputs": [
    {
     "data": {
      "text/plain": [
       "['ds', 'ajay', 'craft', 'vijay', 'career', 'sanjay', 'pinjay']"
      ]
     },
     "execution_count": 232,
     "metadata": {},
     "output_type": "execute_result"
    }
   ],
   "source": [
    "a"
   ]
  },
  {
   "cell_type": "code",
   "execution_count": 236,
   "id": "a30acf10-7dcb-438b-8a1b-b0fc340e5c8e",
   "metadata": {},
   "outputs": [
    {
     "data": {
      "text/plain": [
       "['ds', 'ajay', 'craft', 'vijay', 'career', 'sanjay', 'pinjay']"
      ]
     },
     "execution_count": 236,
     "metadata": {},
     "output_type": "execute_result"
    }
   ],
   "source": [
    "sorted(a,key=lambda x : len(a))"
   ]
  },
  {
   "cell_type": "code",
   "execution_count": 238,
   "id": "7dadeafa-17a2-4ba7-a284-1239737b2e30",
   "metadata": {},
   "outputs": [],
   "source": [
    "# sorted() → returns new list.\n",
    "# .sort() → changes the original list in place."
   ]
  },
  {
   "cell_type": "code",
   "execution_count": 241,
   "id": "46bb4f8b-0afe-4c53-ab10-cd827cbcc9b8",
   "metadata": {},
   "outputs": [],
   "source": [
    "#Characterstic of a lambda function\n",
    "#No name\n",
    "#Lambda is a single line function\n",
    "#not resuable\n",
    "#no any return statement\n",
    "\n",
    "#then why to use lambda function..\n",
    "#sort hand function\n",
    "#>> lambda function helps in writing higher order fucntion"
   ]
  },
  {
   "cell_type": "code",
   "execution_count": 245,
   "id": "88e0d1ca-ec2e-440b-bdbf-2dd82953cc30",
   "metadata": {},
   "outputs": [
    {
     "data": {
      "text/plain": [
       "True"
      ]
     },
     "execution_count": 245,
     "metadata": {},
     "output_type": "execute_result"
    }
   ],
   "source": [
    "#check if a substring is present in a string or not\n",
    "s = 'careercraft'\n",
    "sub = lambda x: 're' in x\n",
    "sub(s)"
   ]
  },
  {
   "cell_type": "code",
   "execution_count": 251,
   "id": "1ed61bd3-b851-44e1-b505-5c4edf83ae9e",
   "metadata": {},
   "outputs": [
    {
     "data": {
      "text/plain": [
       "False"
      ]
     },
     "execution_count": 251,
     "metadata": {},
     "output_type": "execute_result"
    }
   ],
   "source": [
    "sub('DataScience')"
   ]
  },
  {
   "cell_type": "code",
   "execution_count": 257,
   "id": "92894d1e-0800-4b40-868a-1d7837d0e8ec",
   "metadata": {},
   "outputs": [],
   "source": [
    "#>> lambda function helps in writing higher order fucntion\n",
    "l = [1,2,3,4,5]\n"
   ]
  },
  {
   "cell_type": "code",
   "execution_count": 265,
   "id": "b6bc68a3-17b8-43d4-ab2e-bee2e5790e6c",
   "metadata": {},
   "outputs": [
    {
     "name": "stdout",
     "output_type": "stream",
     "text": [
      "[1, 8, 27, 64, 125]\n"
     ]
    }
   ],
   "source": [
    "def cube(fun,l):\n",
    "    out = []\n",
    "    for i in l:\n",
    "        out.append(fun(i))\n",
    "    print(out)\n",
    "cube(lambda x:x**3,l)\n",
    "\n",
    "#it would have been more easy using map function"
   ]
  },
  {
   "cell_type": "code",
   "execution_count": 267,
   "id": "66396152-3da7-44f3-826c-0c9883e60cc2",
   "metadata": {},
   "outputs": [],
   "source": [
    "#when to use lambda function\n",
    "#if the funtion is not going to be reused\n",
    "#if the function is a helping fucntion for a bigger function"
   ]
  },
  {
   "cell_type": "code",
   "execution_count": 273,
   "id": "e538ec26-b39b-47a9-961d-fb7c82727d31",
   "metadata": {},
   "outputs": [
    {
     "data": {
      "text/plain": [
       "[1, 8, 27, 64, 125]"
      ]
     },
     "execution_count": 273,
     "metadata": {},
     "output_type": "execute_result"
    }
   ],
   "source": [
    "#MAP >> executes a specified function for each item in an iterator\n",
    "#map(function,iterable)\n",
    "\n",
    "l = [1,2,3,4,5]\n",
    "fun = lambda x : x**3\n",
    "list(map(fun,l))\n"
   ]
  },
  {
   "cell_type": "code",
   "execution_count": 277,
   "id": "2addafe1-1f81-430b-819a-01d9ce647aa9",
   "metadata": {},
   "outputs": [
    {
     "data": {
      "text/plain": [
       "['Odd', 'Even', 'Odd', 'Even', 'Odd']"
      ]
     },
     "execution_count": 277,
     "metadata": {},
     "output_type": "execute_result"
    }
   ],
   "source": [
    "#make another list with label odd and even corresponding to each of the number\n",
    "\n",
    "l = [1,2,3,4,5]\n",
    "fun = lambda x : 'Even' if x%2==0 else 'Odd'\n",
    "list(map(fun,l))"
   ]
  },
  {
   "cell_type": "code",
   "execution_count": 282,
   "id": "30fc675a-120c-47f0-b681-21e120334bdb",
   "metadata": {},
   "outputs": [],
   "source": [
    "#grades = ['A','B','C','D'] using map and lambda function make gpa\n",
    "#out if grade, a>5,b>4,c>3,d>2\n",
    "#words = ['Python','ajay'] capitalise the first letter of each word\n",
    "#First_name = ['Tom','Adeline']\n",
    "#last_name = ['Jerry',Waboo]\n",
    "#combine firstname and last name\n"
   ]
  },
  {
   "cell_type": "code",
   "execution_count": 288,
   "id": "022d77e9-4171-47bc-8c13-b52543c9111e",
   "metadata": {},
   "outputs": [
    {
     "data": {
      "text/plain": [
       "[5, 4, 3, 2]"
      ]
     },
     "execution_count": 288,
     "metadata": {},
     "output_type": "execute_result"
    }
   ],
   "source": [
    "#grades = ['A','B','C','D'] using map and lambda function make gpa\n",
    "#out if grade, a>5,b>4,c>3,d>2\n",
    "grades = ['A','B','C','D']\n",
    "fun = lambda x : {'A':5,'B':4,'C':3,'D':2}[x]\n",
    "list(map(fun,grades))"
   ]
  },
  {
   "cell_type": "code",
   "execution_count": 304,
   "id": "7be5c2a0-965a-42e9-bc59-19555887ab37",
   "metadata": {},
   "outputs": [
    {
     "data": {
      "text/plain": [
       "[4, 3, 2]"
      ]
     },
     "execution_count": 304,
     "metadata": {},
     "output_type": "execute_result"
    }
   ],
   "source": [
    "grades = [\"A\", \"B\", \"C\"]\n",
    "list(map(lambda grade: 4 if grade == \"A\" else (3 if grade == \"B\" else 2), grades))"
   ]
  },
  {
   "cell_type": "code",
   "execution_count": 294,
   "id": "43879462-36a2-4419-a98c-1f3a6bb3c89c",
   "metadata": {},
   "outputs": [
    {
     "data": {
      "text/plain": [
       "['Python', 'Ajay']"
      ]
     },
     "execution_count": 294,
     "metadata": {},
     "output_type": "execute_result"
    }
   ],
   "source": [
    "#words = ['python','ajay'] capitalise the first letter of each word\n",
    "words = ['python','ajay']\n",
    "fun = lambda x: x.capitalize()\n",
    "list(map(fun,words))"
   ]
  },
  {
   "cell_type": "code",
   "execution_count": 300,
   "id": "42ce922d-1ba2-434b-9bcb-a850341537b5",
   "metadata": {},
   "outputs": [
    {
     "data": {
      "text/plain": [
       "['Tom Jerry', 'Adeline Waboo']"
      ]
     },
     "execution_count": 300,
     "metadata": {},
     "output_type": "execute_result"
    }
   ],
   "source": [
    "#first_name = ['Tom','Adeline']\n",
    "#last_name = ['Jerry',Waboo]\n",
    "#combine firstname and last name\n",
    "\n",
    "first_name = ['Tom','Adeline']\n",
    "last_name = ['Jerry','Waboo']\n",
    "lambda x,y : x.contcate(y)\n",
    "list(map(lambda x,y : x+\" \"+y,first_name,last_name ))"
   ]
  },
  {
   "cell_type": "code",
   "execution_count": 373,
   "id": "6af9f4b9-1968-4c29-a0de-ba85bb47ecb9",
   "metadata": {},
   "outputs": [
    {
     "data": {
      "text/plain": [
       "[21, 22, 23, 24, 65]"
      ]
     },
     "execution_count": 373,
     "metadata": {},
     "output_type": "execute_result"
    }
   ],
   "source": [
    "def add(x):\n",
    "    return x+20\n",
    "\n",
    "l =[1,2,3,4,45]\n",
    "list(map(add,l))"
   ]
  },
  {
   "cell_type": "code",
   "execution_count": 341,
   "id": "53fa6e5b-439d-4abe-802d-498a47b0de5d",
   "metadata": {},
   "outputs": [],
   "source": [
    "#Reduce function..>> folding/decreasing (vip function)\n",
    "# it is a process were you reduce a list of items to a single value(cumalative value)\n",
    "\n",
    "# Apply a function of two arguments cumulatively to the items of a sequence\n",
    "# or iterable, from left to right, so as to reduce the iterable to a single\n",
    "# value.\n",
    "\n",
    "#Reduce syntax\n",
    "#reduce(function,iterable)\n",
    "\n"
   ]
  },
  {
   "cell_type": "code",
   "execution_count": 343,
   "id": "abb05108-891a-4ff3-97ff-4541b28dbee2",
   "metadata": {},
   "outputs": [],
   "source": [
    "import functools"
   ]
  },
  {
   "cell_type": "code",
   "execution_count": 345,
   "id": "695e7264-ae70-4c22-85a2-799612635396",
   "metadata": {},
   "outputs": [
    {
     "data": {
      "text/plain": [
       "15"
      ]
     },
     "execution_count": 345,
     "metadata": {},
     "output_type": "execute_result"
    }
   ],
   "source": [
    "#((((1+2)+3)+4)+5)\n",
    "lis = [1,2,3,4,5]\n",
    "functools.reduce(lambda x,y : x+y,lis)"
   ]
  },
  {
   "cell_type": "code",
   "execution_count": 347,
   "id": "f85a6c35-12a6-4713-89d5-7b24c371d90f",
   "metadata": {},
   "outputs": [],
   "source": [
    "#reduce does not work with more than two argument >> becouse it goes out of range\n"
   ]
  },
  {
   "cell_type": "code",
   "execution_count": 349,
   "id": "d0c53389-9409-4cdc-b99c-4bf5750c886a",
   "metadata": {},
   "outputs": [
    {
     "data": {
      "text/plain": [
       "1"
      ]
     },
     "execution_count": 349,
     "metadata": {},
     "output_type": "execute_result"
    }
   ],
   "source": [
    "#reduce does not work with empty\n",
    "#yes it work with one value\n",
    "lis = [1,2,3,4,5]\n",
    "functools.reduce(lambda x,y : x+y,[1]) \n",
    "\n",
    "#assumption -> by default in addition the other element is 0 and multiplication 1\n"
   ]
  },
  {
   "cell_type": "code",
   "execution_count": 351,
   "id": "892896ea-610f-4a46-a25b-a455b1814904",
   "metadata": {},
   "outputs": [
    {
     "data": {
      "text/plain": [
       "3"
      ]
     },
     "execution_count": 351,
     "metadata": {},
     "output_type": "execute_result"
    }
   ],
   "source": [
    "lis = [1,2,3,4,5]\n",
    "functools.reduce(min,l) \n"
   ]
  },
  {
   "cell_type": "code",
   "execution_count": 355,
   "id": "e64b3bc1-ef9a-4c35-ac6f-554563b0bb07",
   "metadata": {},
   "outputs": [
    {
     "data": {
      "text/plain": [
       "'career craft DS'"
      ]
     },
     "execution_count": 355,
     "metadata": {},
     "output_type": "execute_result"
    }
   ],
   "source": [
    "words = ['career','craft','DS',]\n",
    "functools.reduce(lambda x,y : x+' '+y,words)"
   ]
  },
  {
   "cell_type": "code",
   "execution_count": 371,
   "id": "1ba02aae-14bd-46c5-a6cc-7d9bbf9847a7",
   "metadata": {},
   "outputs": [
    {
     "data": {
      "text/plain": [
       "10"
      ]
     },
     "execution_count": 371,
     "metadata": {},
     "output_type": "execute_result"
    }
   ],
   "source": [
    "def add(x,y):\n",
    "    return x+y\n",
    "\n",
    "l = [1,2,3,4]\n",
    "functools.reduce(add,l)"
   ]
  },
  {
   "cell_type": "code",
   "execution_count": 357,
   "id": "0fc9de35-64d0-40a9-834b-db6d8f653bd7",
   "metadata": {},
   "outputs": [],
   "source": [
    "#Filter >> it is used to filter elements from an iterable based on  some certain conditoin\n",
    "#syntax >> filter(function, iterable)"
   ]
  },
  {
   "cell_type": "code",
   "execution_count": 359,
   "id": "6f8db86c-f5fe-4818-82c9-cfe13547c707",
   "metadata": {},
   "outputs": [
    {
     "data": {
      "text/plain": [
       "[23, 39, 12, 3, 102, 11]"
      ]
     },
     "execution_count": 359,
     "metadata": {},
     "output_type": "execute_result"
    }
   ],
   "source": [
    "l"
   ]
  },
  {
   "cell_type": "code",
   "execution_count": 361,
   "id": "17650823-3add-48d4-82b3-7aab2a55786d",
   "metadata": {},
   "outputs": [
    {
     "data": {
      "text/plain": [
       "[12, 102]"
      ]
     },
     "execution_count": 361,
     "metadata": {},
     "output_type": "execute_result"
    }
   ],
   "source": [
    "list(filter(lambda x: x%2==0,l))"
   ]
  },
  {
   "cell_type": "code",
   "execution_count": 363,
   "id": "a00a21bc-5b6b-49fd-a574-cafdfcbab9e5",
   "metadata": {},
   "outputs": [
    {
     "data": {
      "text/plain": [
       "[23, 39, 3, 11]"
      ]
     },
     "execution_count": 363,
     "metadata": {},
     "output_type": "execute_result"
    }
   ],
   "source": [
    "list(filter(lambda x: x%2!=0,l))"
   ]
  },
  {
   "cell_type": "code",
   "execution_count": 365,
   "id": "8b17eed3-94dc-48eb-a21e-fd09b5fbbf8f",
   "metadata": {},
   "outputs": [
    {
     "data": {
      "text/plain": [
       "['Career', 'Craft', 'Machine Learning']"
      ]
     },
     "execution_count": 365,
     "metadata": {},
     "output_type": "execute_result"
    }
   ],
   "source": [
    "s = ['Career','Craft','DS','Machine Learning']\n",
    "list(filter(lambda x : len(x) >3,s))"
   ]
  },
  {
   "cell_type": "code",
   "execution_count": 367,
   "id": "73339fb7-f93a-486b-ba34-c01166d7d730",
   "metadata": {},
   "outputs": [],
   "source": [
    "def check_even(num):\n",
    "    if num%2==0:\n",
    "        return True\n",
    "    return False"
   ]
  },
  {
   "cell_type": "code",
   "execution_count": 369,
   "id": "677dc2fe-d770-4432-8d6d-96351118308f",
   "metadata": {},
   "outputs": [
    {
     "data": {
      "text/plain": [
       "[2, 4, 6]"
      ]
     },
     "execution_count": 369,
     "metadata": {},
     "output_type": "execute_result"
    }
   ],
   "source": [
    "num = [1,2,3,4,5,6,7]\n",
    "list(filter(check_even,num))"
   ]
  },
  {
   "cell_type": "code",
   "execution_count": 382,
   "id": "ef928115-3c59-447a-9015-609d765fe2f4",
   "metadata": {},
   "outputs": [],
   "source": [
    "##.... Recursive function --> one example is fibonacci series..\n",
    "#fibonacci puzzle was found in 12th century\n",
    "# In the West, the Fibonacci sequence first appears in the book Liber Abaci (1202) \n",
    "# by Leonardo of Pisa, known as Fibonacci. Fibonacci considers the growth of an \n",
    "# idealized (biologically unrealistic) rabbit population, assuming that:\n",
    "\n",
    "# a single newly born pair of rabbits (one male, one female) are put in a field;\n",
    "# rabbits are able to mate at the age of one month so that at the end of \n",
    "# its second month a female can produce another pair of rabbits;\n",
    "# rabbits never die and a mating pair always produces one new pair \n",
    "# (one male, one female) every month from the second month on.\n",
    "\n",
    "#The puzzle that Fibonacci posed was: how many pairs will there be in one year?\n"
   ]
  },
  {
   "cell_type": "code",
   "execution_count": 384,
   "id": "450d192d-5639-45a6-b0ee-bcd7f46a7c4f",
   "metadata": {},
   "outputs": [],
   "source": [
    "#fibonacci series >> 0,1,1,2,3,5 "
   ]
  },
  {
   "cell_type": "code",
   "execution_count": 386,
   "id": "5a50a831-39f9-40e3-8096-0d90c410eff5",
   "metadata": {},
   "outputs": [],
   "source": [
    "# a fucntion try to call itself again and again until it is exhausted\n",
    "#calling code again and again\n",
    "#recursive function is actually replacement of loops but in industry loop is still\n",
    "#preferred\n"
   ]
  },
  {
   "cell_type": "code",
   "execution_count": 398,
   "id": "fdcfa95c-4b15-4d24-9429-5de3e25c2bb4",
   "metadata": {},
   "outputs": [],
   "source": [
    "#write a program to calculate nth fibonacci number\n",
    "#using loop\n",
    "def fibonacci(n):\n",
    "    if n <= 0:\n",
    "        return 'invalid no'\n",
    "    elif n==1:\n",
    "        return 0 #first no is zero\n",
    "    elif n == 2: \n",
    "        return 1  #second no is 1\n",
    "\n",
    "    a,b=0,1\n",
    "\n",
    "    for i in range(2,n):\n",
    "        a,b = b,(a+b)\n",
    "    return b\n",
    "    "
   ]
  },
  {
   "cell_type": "code",
   "execution_count": 400,
   "id": "98fa08a3-938a-4bf9-a037-cde21e80d371",
   "metadata": {},
   "outputs": [
    {
     "data": {
      "text/plain": [
       "218922995834555169026"
      ]
     },
     "execution_count": 400,
     "metadata": {},
     "output_type": "execute_result"
    }
   ],
   "source": [
    "fibonacci(100)"
   ]
  },
  {
   "cell_type": "code",
   "execution_count": 408,
   "id": "29135b09-ed09-4e97-a3c0-ad7ffc15e573",
   "metadata": {},
   "outputs": [],
   "source": [
    "#nth fibonacci series using recursion\n",
    "def gen_fib(n):\n",
    "    if n <= 0:\n",
    "        return 'invalid no'\n",
    "    elif n==1:\n",
    "        return 0 #first no is zero\n",
    "    elif n == 2: \n",
    "        return 1  #second no is 1\n",
    "    return gen_fib(n-1)+gen_fib(n-2)\n"
   ]
  },
  {
   "cell_type": "code",
   "execution_count": 410,
   "id": "b55369f2-5d45-49a1-bd87-881f3f4520f5",
   "metadata": {},
   "outputs": [
    {
     "data": {
      "text/plain": [
       "3"
      ]
     },
     "execution_count": 410,
     "metadata": {},
     "output_type": "execute_result"
    }
   ],
   "source": [
    "gen_fib(5)"
   ]
  },
  {
   "cell_type": "code",
   "execution_count": 412,
   "id": "5d98ebb7-611b-445e-864f-bbd416641037",
   "metadata": {},
   "outputs": [
    {
     "data": {
      "text/plain": [
       "34"
      ]
     },
     "execution_count": 412,
     "metadata": {},
     "output_type": "execute_result"
    }
   ],
   "source": [
    "gen_fib(10)"
   ]
  },
  {
   "cell_type": "code",
   "execution_count": 424,
   "id": "8c25792b-ba71-451c-99bc-846f8f70a142",
   "metadata": {},
   "outputs": [
    {
     "data": {
      "text/plain": [
       "63245986"
      ]
     },
     "execution_count": 424,
     "metadata": {},
     "output_type": "execute_result"
    }
   ],
   "source": [
    "gen_fib(40)"
   ]
  },
  {
   "cell_type": "code",
   "execution_count": 426,
   "id": "228d2b43-100e-4b55-9b89-5b27169b8c10",
   "metadata": {},
   "outputs": [],
   "source": [
    "#in loops, the fibonacci calculation is 100th no is fast but as you used recurtion\n",
    "#it became very slow\n",
    "#because each time the fibonacci of one number is calculated multiple time\n",
    "\n",
    "#time-space tradeoff\n",
    "#memoization>> to reduce the time complexity we are ready for more space\n",
    "#memoization stores previously computed numbers to avoid redundant calculation to make it faster\n",
    "\n"
   ]
  },
  {
   "cell_type": "code",
   "execution_count": 430,
   "id": "49fc421a-db16-4b1e-8867-25c3f927de57",
   "metadata": {},
   "outputs": [],
   "source": [
    "def gen_fib(n,memo = {}):\n",
    "    if n <= 0:\n",
    "        return 'invalid no'\n",
    "    elif n==1:\n",
    "        return 0 #first no is zero\n",
    "    elif n == 2: \n",
    "        return 1  #second no is 1\n",
    "    if n not in memo:\n",
    "        memo[n] = gen_fib(n-1,memo)+gen_fib(n-2,memo)\n",
    "\n",
    "    return memo[n]\n"
   ]
  },
  {
   "cell_type": "code",
   "execution_count": 432,
   "id": "df7244e1-b9fc-480f-9106-8c2587421f9c",
   "metadata": {},
   "outputs": [
    {
     "data": {
      "text/plain": [
       "218922995834555169026"
      ]
     },
     "execution_count": 432,
     "metadata": {},
     "output_type": "execute_result"
    }
   ],
   "source": [
    "gen_fib(100)"
   ]
  },
  {
   "cell_type": "code",
   "execution_count": 436,
   "id": "08c86981-726a-468f-9fc4-c164c34389ab",
   "metadata": {},
   "outputs": [
    {
     "data": {
      "text/plain": [
       "[0, 1, 1, 2, 3, 5, 8, 13, 21, 34]"
      ]
     },
     "execution_count": 436,
     "metadata": {},
     "output_type": "execute_result"
    }
   ],
   "source": [
    "#using lambda fucntion you want to have fibonaccino\n",
    "fib  = lambda n:n if n<=1 else fib(n-1) + fib(n-2)\n",
    "\n",
    "[fib(i) for i in range(10)]"
   ]
  },
  {
   "cell_type": "code",
   "execution_count": 438,
   "id": "38ff7cce-f474-4f4e-abdb-9ee6affdc0d1",
   "metadata": {},
   "outputs": [],
   "source": [
    "#Factorial using recurssion\n",
    "#factorial of 0 is 1\n",
    "#fact of 1 is 1\n",
    "#fact 2 is 2*1\n",
    "#fact of 3 is 3*2*1"
   ]
  },
  {
   "cell_type": "code",
   "execution_count": 440,
   "id": "be3c59bf-268b-4da2-8fca-b7d53c6eaf45",
   "metadata": {},
   "outputs": [],
   "source": [
    "def facto(n):\n",
    "    if n<0 :\n",
    "        return \"Invalid\"\n",
    "    elif n==0:\n",
    "        return 1\n",
    "    else:\n",
    "        return n*facto(n-1)\n",
    "    "
   ]
  },
  {
   "cell_type": "code",
   "execution_count": 452,
   "id": "d53264b4-497b-4b9f-940c-e7eb060032e0",
   "metadata": {},
   "outputs": [
    {
     "data": {
      "text/plain": [
       "6227020800"
      ]
     },
     "execution_count": 452,
     "metadata": {},
     "output_type": "execute_result"
    }
   ],
   "source": [
    "facto(13)"
   ]
  },
  {
   "cell_type": "code",
   "execution_count": 460,
   "id": "7d93d034-08a0-44d7-83d2-5140f3808f63",
   "metadata": {},
   "outputs": [],
   "source": [
    "#factorial using lambda function\n",
    "fact_lam = lambda n : 0 if n<1 else n*facto(n-1)"
   ]
  },
  {
   "cell_type": "code",
   "execution_count": 462,
   "id": "fca4b2b5-ffb5-4776-92e4-e612d987d6c8",
   "metadata": {},
   "outputs": [
    {
     "data": {
      "text/plain": [
       "6227020800"
      ]
     },
     "execution_count": 462,
     "metadata": {},
     "output_type": "execute_result"
    }
   ],
   "source": [
    "fact_lam(13)"
   ]
  },
  {
   "cell_type": "code",
   "execution_count": 464,
   "id": "cf5b737c-e9c4-4cba-931c-eda1fe4fe813",
   "metadata": {},
   "outputs": [],
   "source": [
    "#Multiplication normal loop\n",
    "def multiply(a,b):\n",
    "    result = 0\n",
    "    for i in range(b):\n",
    "        result = result + a\n",
    "    print(result)"
   ]
  },
  {
   "cell_type": "code",
   "execution_count": 466,
   "id": "fbeb8cea-060f-4fed-83ae-ad45c85b0963",
   "metadata": {},
   "outputs": [
    {
     "name": "stdout",
     "output_type": "stream",
     "text": [
      "100\n"
     ]
    }
   ],
   "source": [
    "multiply(10,10)"
   ]
  },
  {
   "cell_type": "code",
   "execution_count": 471,
   "id": "07f2a734-0991-46bc-9e9f-675b5143a85b",
   "metadata": {},
   "outputs": [],
   "source": [
    "#above multiplication can be converted to recursion with base condition 1\n",
    "def multi(a,b):\n",
    "    if b==1:\n",
    "        return a\n",
    "    else:\n",
    "        return a+multi(a,b-1)"
   ]
  },
  {
   "cell_type": "code",
   "execution_count": 473,
   "id": "dc2976fc-7466-489b-971e-77150bc3b009",
   "metadata": {},
   "outputs": [
    {
     "data": {
      "text/plain": [
       "20"
      ]
     },
     "execution_count": 473,
     "metadata": {},
     "output_type": "execute_result"
    }
   ],
   "source": [
    "multi(10,2)"
   ]
  },
  {
   "cell_type": "code",
   "execution_count": 479,
   "id": "7e0c3e40-c1c6-4437-b4a3-6da31565bf0d",
   "metadata": {},
   "outputs": [],
   "source": [
    "#to find some till nth num\n",
    "def sum_till_nth(n):\n",
    "    if n==1:\n",
    "        return 1\n",
    "    else:\n",
    "        return n+sum_till_nth(n-1)"
   ]
  },
  {
   "cell_type": "code",
   "execution_count": 481,
   "id": "a4b30957-64c8-4abc-9348-bab62fbd8f22",
   "metadata": {},
   "outputs": [
    {
     "data": {
      "text/plain": [
       "55"
      ]
     },
     "execution_count": 481,
     "metadata": {},
     "output_type": "execute_result"
    }
   ],
   "source": [
    "sum_till_nth(10)"
   ]
  },
  {
   "cell_type": "code",
   "execution_count": 491,
   "id": "75bc2680-0da3-402b-94af-cdc049b48088",
   "metadata": {},
   "outputs": [],
   "source": [
    "#check if a string is palindorm using recusrion\n",
    "def check_pal(string):\n",
    "    if len(string) <= 1 :\n",
    "        print(\"Palindrome\")\n",
    "    else:\n",
    "        if string[0] == string[-1]:\n",
    "            check_pal(string[1:-1]) # it calls string excluding first and last elemnt\n",
    "        else:\n",
    "            print('Not a valid palindrom')\n",
    "    "
   ]
  },
  {
   "cell_type": "code",
   "execution_count": 493,
   "id": "c8b26e15-a151-4e07-918e-cb3293a41086",
   "metadata": {},
   "outputs": [
    {
     "name": "stdout",
     "output_type": "stream",
     "text": [
      "Palindrome\n"
     ]
    }
   ],
   "source": [
    "check_pal('tat')"
   ]
  },
  {
   "cell_type": "code",
   "execution_count": 501,
   "id": "f945ee01-2882-4155-89f6-0aecd1251dd5",
   "metadata": {},
   "outputs": [
    {
     "data": {
      "text/plain": [
       "[('Ram', 'stats'), ('Shayam', 'ML')]"
      ]
     },
     "execution_count": 501,
     "metadata": {},
     "output_type": "execute_result"
    }
   ],
   "source": [
    "#Zip function >> combines two elements of two iterator together untill ine exhausts\n",
    "#extra elemnt in any iterator will ignore\n",
    "a=[\"Ram\",'Shayam','Mohan']\n",
    "b = [\"stats\",\"ML\"]\n",
    "list(zip(a,b))"
   ]
  },
  {
   "cell_type": "code",
   "execution_count": 506,
   "id": "895b9d47-0a7d-4c9c-a6f8-ab0cf86bdd52",
   "metadata": {},
   "outputs": [
    {
     "name": "stdout",
     "output_type": "stream",
     "text": [
      "0 Ram stats\n",
      "1 Shayam ML\n"
     ]
    }
   ],
   "source": [
    "#Enumerate function -> similar to zip but also gives index\n",
    "for index,(name,sub) in enumerate(zip(a,b)):\n",
    "    print(index,name,sub)"
   ]
  },
  {
   "cell_type": "code",
   "execution_count": 508,
   "id": "27c95670-54e8-4f9d-91d1-f1570ba546c6",
   "metadata": {},
   "outputs": [
    {
     "data": {
      "text/plain": [
       "[(0, 'Ram'), (1, 'Shayam'), (2, 'Mohan')]"
      ]
     },
     "execution_count": 508,
     "metadata": {},
     "output_type": "execute_result"
    }
   ],
   "source": [
    "l=[\"Ram\",'Shayam','Mohan']\n",
    "list(enumerate(l))\n"
   ]
  },
  {
   "cell_type": "code",
   "execution_count": null,
   "id": "d9889bb6-617a-4bc9-922d-2f0839f10e7a",
   "metadata": {},
   "outputs": [],
   "source": [
    "#Interview Question\n",
    "#what is use of map,lambda,reduce,filter,zip,enumerate\n",
    "#what is recursion\n",
    "#What is fibonacci series?"
   ]
  }
 ],
 "metadata": {
  "kernelspec": {
   "display_name": "Python 3 (ipykernel)",
   "language": "python",
   "name": "python3"
  },
  "language_info": {
   "codemirror_mode": {
    "name": "ipython",
    "version": 3
   },
   "file_extension": ".py",
   "mimetype": "text/x-python",
   "name": "python",
   "nbconvert_exporter": "python",
   "pygments_lexer": "ipython3",
   "version": "3.12.7"
  }
 },
 "nbformat": 4,
 "nbformat_minor": 5
}
