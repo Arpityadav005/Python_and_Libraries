{
 "cells": [
  {
   "cell_type": "markdown",
   "id": "24f2c4ac-53ee-4bcc-85c6-19e796f74688",
   "metadata": {},
   "source": [
    "# Abstraction"
   ]
  },
  {
   "cell_type": "code",
   "execution_count": null,
   "id": "193b4013-152f-4c6d-825f-171dafd7d150",
   "metadata": {},
   "outputs": [],
   "source": [
    "#Abstraction means >> hidden\n",
    "#abstraction is the concept of hiding complex implementation\n",
    "#ATM class >> you are using ATM screen\n",
    "#what you are not worried about >> which database your information is stored, other informations(bak details)\n"
   ]
  },
  {
   "cell_type": "code",
   "execution_count": 97,
   "id": "9f3d488f-5fee-444b-b43e-0f4b34504c14",
   "metadata": {},
   "outputs": [],
   "source": [
    "from abc import ABC, abstractmethod\n",
    "#abc is abstract base class\n",
    "#in one abstract class there should be atleast one abstract method\n",
    "#this ABC is used to make a abstract class\n",
    "\n",
    "\n",
    "\n",
    "class CareerCraftApp(ABC):\n",
    "    def databaseinfo(self):\n",
    "        print(\"Connect to Database\")\n",
    "        \n",
    "    @abstractmethod\n",
    "    def security_app(self):\n",
    "        pass\n",
    "\n",
    "class CareerCraftMobile(CareerCraftApp):\n",
    "    def moblogin(self):\n",
    "        print(\"Login to portal\")\n",
    "        \n",
    "        "
   ]
  },
  {
   "cell_type": "code",
   "execution_count": 99,
   "id": "0d47034e-9054-479f-a612-17786dc9f1ac",
   "metadata": {},
   "outputs": [
    {
     "ename": "TypeError",
     "evalue": "Can't instantiate abstract class CareerCraftMobile without an implementation for abstract method 'security_app'",
     "output_type": "error",
     "traceback": [
      "\u001b[0;31m---------------------------------------------------------------------------\u001b[0m",
      "\u001b[0;31mTypeError\u001b[0m                                 Traceback (most recent call last)",
      "Cell \u001b[0;32mIn[99], line 1\u001b[0m\n\u001b[0;32m----> 1\u001b[0m CareerCraftMobile()\n",
      "\u001b[0;31mTypeError\u001b[0m: Can't instantiate abstract class CareerCraftMobile without an implementation for abstract method 'security_app'"
     ]
    }
   ],
   "source": [
    "CareerCraftMobile()\n",
    "#this will give a error\n",
    "#use case of abstraction\n",
    "#hid complex implementation\n",
    "#it act like a reminder that certain child class should have some specific methods\n",
    "#in this case the child class mobile app does't have security method\n",
    "#one more use case >> it acts as a guided template for other child class"
   ]
  },
  {
   "cell_type": "code",
   "execution_count": 101,
   "id": "07d3821b-b954-40aa-8dbc-ee01b2a6c32c",
   "metadata": {},
   "outputs": [],
   "source": [
    "from abc import ABC, abstractmethod\n",
    "\n",
    "\n",
    "class CareerCraftApp(ABC):\n",
    "    def databaseinfo(self):\n",
    "        print(\"Connect to Database\")\n",
    "        \n",
    "    @abstractmethod\n",
    "    def security_app(self):\n",
    "        pass\n",
    "class CareerCraftMobile(CareerCraftApp):\n",
    "    def moblogin(self):\n",
    "        print(\"Login to portal\")\n",
    "    def security_app(self):\n",
    "        print(\"The mobile app as also the security\")\n",
    "        \n",
    "        "
   ]
  },
  {
   "cell_type": "code",
   "execution_count": 103,
   "id": "f6805300-2607-4c2b-bd11-519c631b01f1",
   "metadata": {},
   "outputs": [],
   "source": [
    "app1 = CareerCraftMobile()"
   ]
  },
  {
   "cell_type": "code",
   "execution_count": 105,
   "id": "0f09003d-4c14-461a-992c-28c0c240ce88",
   "metadata": {},
   "outputs": [
    {
     "name": "stdout",
     "output_type": "stream",
     "text": [
      "The mobile app as also the security\n"
     ]
    }
   ],
   "source": [
    "app1.security_app()"
   ]
  },
  {
   "cell_type": "code",
   "execution_count": 139,
   "id": "151f30e3-df59-4163-955a-3167872fd3c7",
   "metadata": {},
   "outputs": [],
   "source": [
    "#another example\n",
    "#in abstract method u don't write logic\n",
    "#here careercraft has abstract method but careercraft class itself is not a bastract class \n",
    "class CareerCraft:\n",
    "    @abstractmethod\n",
    "    def student_details(self):\n",
    "        pass\n",
    "        \n",
    "    @abstractmethod\n",
    "    def teacher_details(self):\n",
    "        pass\n",
    "        \n",
    "    @abstractmethod\n",
    "    def student_marks(self):\n",
    "        pass\n",
    "    "
   ]
  },
  {
   "cell_type": "code",
   "execution_count": 141,
   "id": "8a90f471-f9b6-4020-8263-3c17681935d1",
   "metadata": {},
   "outputs": [],
   "source": [
    "class DataScience(CareerCraft):\n",
    "    def student_details(self):\n",
    "        print(\"The student details  of Ds course\")\n",
    "\n",
    "    def student_marks(self):\n",
    "        print(\"The student's Marks for of DS course\")"
   ]
  },
  {
   "cell_type": "code",
   "execution_count": 143,
   "id": "2863ba77-35cd-4ed3-bb4d-c96571a79b75",
   "metadata": {},
   "outputs": [],
   "source": [
    "class WebDev(CareerCraft):\n",
    "    def teacher_details(self):\n",
    "        print(\"The Teacher' details  of Ds course\")\n",
    "    def student_marks(self):\n",
    "        print(\"The student's Marks for of DS course\")"
   ]
  },
  {
   "cell_type": "code",
   "execution_count": 145,
   "id": "8b42e80c-ea26-4bed-ac53-5c7059ee3be6",
   "metadata": {},
   "outputs": [
    {
     "name": "stdout",
     "output_type": "stream",
     "text": [
      "The student details  of Ds course\n"
     ]
    }
   ],
   "source": [
    "s1= DataScience()\n",
    "s1.student_details()"
   ]
  },
  {
   "cell_type": "code",
   "execution_count": 147,
   "id": "f05ce21b-b435-4285-be83-418bffcaae60",
   "metadata": {},
   "outputs": [],
   "source": [
    "s1.teacher_details()"
   ]
  },
  {
   "cell_type": "code",
   "execution_count": 149,
   "id": "704e18d8-99a0-4e6a-a6c7-c3ff93f64b90",
   "metadata": {},
   "outputs": [
    {
     "name": "stdout",
     "output_type": "stream",
     "text": [
      "The student's Marks for of DS course\n"
     ]
    }
   ],
   "source": [
    "w1 = WebDev()\n",
    "w1.student_marks()"
   ]
  },
  {
   "cell_type": "code",
   "execution_count": 151,
   "id": "f9cf6a0d-d13e-4fd2-9109-b0bcc1bfce0b",
   "metadata": {},
   "outputs": [
    {
     "name": "stdout",
     "output_type": "stream",
     "text": [
      "The Teacher' details  of Ds course\n"
     ]
    }
   ],
   "source": [
    "w1.teacher_details()"
   ]
  },
  {
   "cell_type": "code",
   "execution_count": 153,
   "id": "2f99053f-24fa-4f7a-b619-c85be03d3bbc",
   "metadata": {},
   "outputs": [],
   "source": [
    "w1.student_details()"
   ]
  },
  {
   "cell_type": "code",
   "execution_count": 155,
   "id": "92c3d29b-4a3f-43f2-8114-df4c2dc4adc2",
   "metadata": {},
   "outputs": [],
   "source": [
    "#Analogy\n",
    "# With ABC → strict rule: “All kids must follow this template”.\n",
    "\n",
    "# Without ABC → just a note: “Kids should follow this template, but no one will punish them if they don’t”.\n",
    "\n",
    "# ✅ Final Answer:\n",
    "\n",
    "# Writing @abstractmethod alone does not make the class abstract in Python.\n",
    "\n",
    "# Only when you inherit from ABC, it becomes a true abstract class that Python enforces."
   ]
  },
  {
   "cell_type": "code",
   "execution_count": 170,
   "id": "f2d4c576-ef8a-43eb-ac90-67987c36d82e",
   "metadata": {},
   "outputs": [],
   "source": [
    "class Shape:\n",
    "    @abstractmethod\n",
    "    def calculate_area(self):\n",
    "        pass\n",
    "\n",
    "class Rectangle(Shape):\n",
    "    def calculate_area(self):\n",
    "        return \"Area of reactangle is lenght*breadth\"\n",
    "\n",
    "class Circle(Shape):\n",
    "    def calculate_area(self):\n",
    "        return \"Area of circle is 3.14*R*R\""
   ]
  },
  {
   "cell_type": "code",
   "execution_count": 174,
   "id": "0fd5a029-cc90-4ddf-b1e3-8fe2e4fa781f",
   "metadata": {},
   "outputs": [
    {
     "data": {
      "text/plain": [
       "'Area of reactangle is lenght*breadth'"
      ]
     },
     "execution_count": 174,
     "metadata": {},
     "output_type": "execute_result"
    }
   ],
   "source": [
    "r1 = Rectangle()\n",
    "r1.calculate_area()"
   ]
  },
  {
   "cell_type": "markdown",
   "id": "97abfcee-2214-422d-85b0-07e79f377e8c",
   "metadata": {},
   "source": [
    "# Decorators"
   ]
  },
  {
   "cell_type": "code",
   "execution_count": 178,
   "id": "8bce7a88-26a3-4bab-863f-ffe19f22f6fc",
   "metadata": {},
   "outputs": [],
   "source": [
    "#Decorators...\n",
    "#A decorator in python is a function that extend the existing behaviour of a function or\n",
    "#class without modifying it\n",
    "#add some functionality..\n",
    "#decorators are only possible > because function is also a first class citizen\n",
    "#built in decorators >> @static method, @abstractmethod, @classmethod @property etc\n",
    "#user defined decorators"
   ]
  },
  {
   "cell_type": "code",
   "execution_count": 180,
   "id": "cf378b76-2e5c-4f27-9171-442b1e2c2f3a",
   "metadata": {},
   "outputs": [],
   "source": [
    "def my_deco_func():\n",
    "    print(\"The line executed before the main logic\")\n",
    "    print(\"this is my main logic\",11+1)\n",
    "    print(\"The line executed after the main logic\")\n",
    "    "
   ]
  },
  {
   "cell_type": "code",
   "execution_count": 182,
   "id": "0a86acf4-c916-4a68-95a7-2d3897eae804",
   "metadata": {},
   "outputs": [
    {
     "name": "stdout",
     "output_type": "stream",
     "text": [
      "The line executed before the main logic\n",
      "this is my main logic 12\n",
      "The line executed after the main logic\n"
     ]
    }
   ],
   "source": [
    "my_deco_func()"
   ]
  },
  {
   "cell_type": "code",
   "execution_count": 186,
   "id": "c17fb4d4-08a2-4945-8f47-a1b0e0c9439a",
   "metadata": {},
   "outputs": [],
   "source": [
    "#each time the logic changes or you write another function\n",
    "#you have to write print statement again and again\n",
    "#can I have generic function.."
   ]
  },
  {
   "cell_type": "code",
   "execution_count": 198,
   "id": "5ac9948a-dfae-4d55-8d54-d4111bb9b658",
   "metadata": {},
   "outputs": [],
   "source": [
    "def my_decorator(func):\n",
    "    def wrapper():\n",
    "        print(\"The line executed before the main logic\")\n",
    "        func()\n",
    "        print(\"The line executed after the main logic\")\n",
    "\n",
    "    return wrapper\n",
    "        "
   ]
  },
  {
   "cell_type": "code",
   "execution_count": 202,
   "id": "7ed0001a-d2f8-4b2e-9ed3-c5f7d711e1cc",
   "metadata": {},
   "outputs": [],
   "source": [
    "@my_decorator\n",
    "def say_hello():\n",
    "    print(\"hello\")\n",
    "\n",
    "#when say hello is called, it is actually calling wrapper(), \n",
    "#in return which call say hello"
   ]
  },
  {
   "cell_type": "code",
   "execution_count": 204,
   "id": "36ea62da-7daf-49f6-9131-997e569b90f5",
   "metadata": {},
   "outputs": [
    {
     "name": "stdout",
     "output_type": "stream",
     "text": [
      "The line executed before the main logic\n",
      "hello\n",
      "The line executed after the main logic\n"
     ]
    }
   ],
   "source": [
    " say_hello()"
   ]
  },
  {
   "cell_type": "code",
   "execution_count": 206,
   "id": "a196fd9f-54c8-41e2-b9cd-2190f7e01e70",
   "metadata": {},
   "outputs": [],
   "source": [
    "#use case of decorators \n",
    "# to know the execution time\n",
    "#sanity check >> basic data type check"
   ]
  },
  {
   "cell_type": "code",
   "execution_count": 216,
   "id": "24726c3c-1f91-43cb-9f67-295595cf14f1",
   "metadata": {},
   "outputs": [],
   "source": [
    "#This module provides various time-related functions. For related functionality, \n",
    "#see also the datetime and calendar modules\n",
    "import time\n",
    "def time_decorator(func):\n",
    "    def timer():\n",
    "        start = time.time()\n",
    "        func()\n",
    "        end = time.time()\n",
    "        print(\"The execution time is \",end-start)\n",
    "    return timer\n",
    "        "
   ]
  },
  {
   "cell_type": "code",
   "execution_count": 255,
   "id": "fe38ad19-0e2c-4b51-9e93-58dbf5aff66f",
   "metadata": {},
   "outputs": [],
   "source": [
    "@time_decorator\n",
    "def func_test():\n",
    "    print(2**100)\n",
    "    time.sleep(2) #sleep pause the program"
   ]
  },
  {
   "cell_type": "code",
   "execution_count": 257,
   "id": "acf20f07-5fc7-437d-af56-b1e7b741f149",
   "metadata": {},
   "outputs": [
    {
     "name": "stdout",
     "output_type": "stream",
     "text": [
      "1267650600228229401496703205376\n",
      "The execution time is  2.0050411224365234\n"
     ]
    }
   ],
   "source": [
    "func_test()"
   ]
  },
  {
   "cell_type": "code",
   "execution_count": 259,
   "id": "c7b141a0-38b5-482b-a03a-6a4ac43ac04f",
   "metadata": {},
   "outputs": [],
   "source": [
    "#till here we saw function decorator\n",
    "#we can have a python class as decorator"
   ]
  },
  {
   "cell_type": "code",
   "execution_count": 309,
   "id": "4c5a48d4-6c19-4c2d-a0f0-18e12366aade",
   "metadata": {},
   "outputs": [],
   "source": [
    "class MyDecorator:\n",
    "    def __init__(self,func):\n",
    "        self.func = func\n",
    "    def __call__(self):\n",
    "        print(\"Print something before the function\")\n",
    "        self.func()\n",
    "        print(\"Print something after the function\")"
   ]
  },
  {
   "cell_type": "code",
   "execution_count": 315,
   "id": "da503707-cf0f-4205-88cf-10f91dc1ab09",
   "metadata": {},
   "outputs": [],
   "source": [
    "@MyDecorator #__call__ is a special method which is invoked when you call a decorator class instance\n",
    "def say_hello():\n",
    "    print(\"Hello\")"
   ]
  },
  {
   "cell_type": "code",
   "execution_count": 317,
   "id": "2bf32b2f-0e31-4b52-8c16-eb3a804734de",
   "metadata": {},
   "outputs": [
    {
     "name": "stdout",
     "output_type": "stream",
     "text": [
      "Print something before the function\n",
      "Hello\n",
      "Print something after the function\n"
     ]
    }
   ],
   "source": [
    "say_hello()"
   ]
  },
  {
   "cell_type": "code",
   "execution_count": 319,
   "id": "b2640ee4-fc99-4536-b9b9-3e439d20cfbf",
   "metadata": {},
   "outputs": [],
   "source": [
    "#built in decorator >> class method, static method, property\n",
    "#static method >> which can be called without creating an instance of the class\n"
   ]
  },
  {
   "cell_type": "markdown",
   "id": "7efc65d1-8ec2-441b-9ed0-5de1ec89131d",
   "metadata": {},
   "source": [
    "# static method"
   ]
  },
  {
   "cell_type": "code",
   "execution_count": 321,
   "id": "b520bc5c-cfc0-4a8d-9a50-fa3181d1ed0f",
   "metadata": {},
   "outputs": [],
   "source": [
    "class Math:\n",
    "    def add(self,x,y):\n",
    "        return x+y"
   ]
  },
  {
   "cell_type": "code",
   "execution_count": 325,
   "id": "a7862973-fb16-4b6f-95d3-c25d66a1c0e7",
   "metadata": {},
   "outputs": [
    {
     "data": {
      "text/plain": [
       "<__main__.Math at 0x138a23a70>"
      ]
     },
     "execution_count": 325,
     "metadata": {},
     "output_type": "execute_result"
    }
   ],
   "source": [
    "c1 = Math() # make object/instance\n",
    "c1"
   ]
  },
  {
   "cell_type": "code",
   "execution_count": 327,
   "id": "c761baec-4021-4956-9398-a425126595c4",
   "metadata": {},
   "outputs": [
    {
     "data": {
      "text/plain": [
       "9"
      ]
     },
     "execution_count": 327,
     "metadata": {},
     "output_type": "execute_result"
    }
   ],
   "source": [
    "c1.add(3,6)"
   ]
  },
  {
   "cell_type": "code",
   "execution_count": 329,
   "id": "f28388eb-f237-41b9-a5ad-7232fd366d03",
   "metadata": {},
   "outputs": [],
   "source": [
    "class Math:\n",
    "    @staticmethod\n",
    "    def add(x,y):\n",
    "        return x+y"
   ]
  },
  {
   "cell_type": "code",
   "execution_count": 335,
   "id": "c3a66ab8-84df-429a-83a3-096353e28f13",
   "metadata": {},
   "outputs": [
    {
     "data": {
      "text/plain": [
       "8"
      ]
     },
     "execution_count": 335,
     "metadata": {},
     "output_type": "execute_result"
    }
   ],
   "source": [
    "Math.add(3,5) #add is accessed directly with the class name ,you dint need to create an object, \n",
    "#no need to use self\n"
   ]
  },
  {
   "cell_type": "code",
   "execution_count": 388,
   "id": "67fad738-3f88-40d3-8ee6-24773d2edb4a",
   "metadata": {},
   "outputs": [],
   "source": [
    "#feature of static method:\n",
    "#it eliminates the use of self\n",
    "# it reduxes the memory usage >> because python is not creating any instance\n",
    "#it improves the code readability\n",
    "#it allows for method overriding, if any method defined outside the class, \n",
    "#still you are going to use the class method\n",
    "#static variable -> discuseed, which was used to count total values across instance of the class"
   ]
  },
  {
   "cell_type": "code",
   "execution_count": 390,
   "id": "00d25f18-910d-4adf-983f-64336e01ceaf",
   "metadata": {},
   "outputs": [
    {
     "data": {
      "text/plain": [
       "5"
      ]
     },
     "execution_count": 390,
     "metadata": {},
     "output_type": "execute_result"
    }
   ],
   "source": [
    "def add(x,y):\n",
    "    return x+y\n",
    "add(2,3)"
   ]
  },
  {
   "cell_type": "code",
   "execution_count": 392,
   "id": "c2cbfcf9-570c-45c9-909b-589e040564c7",
   "metadata": {},
   "outputs": [],
   "source": [
    "class List_Ops:\n",
    "    @staticmethod\n",
    "    def add(x,y):\n",
    "        return x+y"
   ]
  },
  {
   "cell_type": "code",
   "execution_count": 394,
   "id": "ac034460-84db-4e80-a062-aadbd9ecdf10",
   "metadata": {},
   "outputs": [
    {
     "data": {
      "text/plain": [
       "[2, 3, 4, 5, 6, 7]"
      ]
     },
     "execution_count": 394,
     "metadata": {},
     "output_type": "execute_result"
    }
   ],
   "source": [
    "List_Ops.add([2,3,4],[5,6,7])"
   ]
  },
  {
   "cell_type": "code",
   "execution_count": 396,
   "id": "558755fa-4603-4e69-8b6b-064b004df51a",
   "metadata": {},
   "outputs": [],
   "source": [
    "#add, say two real no. but lets say you want to add two complex no\n",
    "#in complex no addition logic will change\n",
    "#lets say if you wan to put the addition method with same name\n",
    "#then recent add will override. In this case you can make another class\n",
    "#and put the add method there and that will be specific to that class\n"
   ]
  },
  {
   "cell_type": "code",
   "execution_count": 353,
   "id": "0b023c28-e6d0-474c-a571-dcbf2bcc0ad6",
   "metadata": {},
   "outputs": [],
   "source": [
    "#disadvantage >> since static method does't have any access to attribute/data of the \n",
    "#class because you are not using self, its not used frequently\n"
   ]
  },
  {
   "cell_type": "markdown",
   "id": "548a5e9e-586a-4a87-ba2b-a60eb31de83e",
   "metadata": {},
   "source": [
    "# Property Decorator"
   ]
  },
  {
   "cell_type": "code",
   "execution_count": 371,
   "id": "aca809a0-3403-4b1e-8785-9bf9c2661567",
   "metadata": {},
   "outputs": [],
   "source": [
    "#Property decorators..> it allows methods to be accessed as attribute\n",
    "\n",
    "class Circle:\n",
    "    def __init__(self,radius):\n",
    "        self.radius = radius\n",
    "\n",
    "    def area(self):\n",
    "        radius = self.radius\n",
    "        return 3.14*radius*radius"
   ]
  },
  {
   "cell_type": "code",
   "execution_count": 373,
   "id": "1b5af955-9174-4a39-9d68-4cb0bb612dca",
   "metadata": {},
   "outputs": [],
   "source": [
    "c1 = Circle(5)"
   ]
  },
  {
   "cell_type": "code",
   "execution_count": 375,
   "id": "cc4bbef1-9820-4dd8-91b9-ca0d82ca74c1",
   "metadata": {},
   "outputs": [
    {
     "data": {
      "text/plain": [
       "78.5"
      ]
     },
     "execution_count": 375,
     "metadata": {},
     "output_type": "execute_result"
    }
   ],
   "source": [
    "c1.area() #this is normal object"
   ]
  },
  {
   "cell_type": "code",
   "execution_count": 377,
   "id": "561b8dba-cbec-4640-ace4-41e3042ca6aa",
   "metadata": {},
   "outputs": [
    {
     "data": {
      "text/plain": [
       "5"
      ]
     },
     "execution_count": 377,
     "metadata": {},
     "output_type": "execute_result"
    }
   ],
   "source": [
    "c1.radius"
   ]
  },
  {
   "cell_type": "code",
   "execution_count": 379,
   "id": "f8eea57a-22d7-4c91-89c8-701b6b8db035",
   "metadata": {},
   "outputs": [],
   "source": [
    "#using property\n",
    "class Circle:\n",
    "    def __init__(self,radius):\n",
    "        self.radius = radius\n",
    "\n",
    "    @property\n",
    "    def area(self):\n",
    "        radius = self.radius\n",
    "        return 3.14*radius*radius"
   ]
  },
  {
   "cell_type": "code",
   "execution_count": 382,
   "id": "9ea8c039-0f57-4e61-a6d3-aadd55f4e8d3",
   "metadata": {},
   "outputs": [],
   "source": [
    "c1 = Circle(5)"
   ]
  },
  {
   "cell_type": "code",
   "execution_count": 386,
   "id": "104f050d-3264-4d69-8271-b8b75c34a986",
   "metadata": {},
   "outputs": [
    {
     "data": {
      "text/plain": [
       "78.5"
      ]
     },
     "execution_count": 386,
     "metadata": {},
     "output_type": "execute_result"
    }
   ],
   "source": [
    "c1.area\n",
    "#use case >> whenver any method is consuming any data from init, then you can make the method\n",
    "#as attribute for the class"
   ]
  },
  {
   "cell_type": "markdown",
   "id": "96e0e2a6-a566-4164-8b1a-9edfa9cb05ed",
   "metadata": {},
   "source": [
    "# Class Method"
   ]
  },
  {
   "cell_type": "code",
   "execution_count": 405,
   "id": "c1b2cb99-be1a-478f-ae62-965315666260",
   "metadata": {},
   "outputs": [],
   "source": [
    "class Student:\n",
    "    def __init__(self,name): #method of an instance\n",
    "        self.name = name"
   ]
  },
  {
   "cell_type": "code",
   "execution_count": 409,
   "id": "d2534dfb-a271-4564-ac53-3bd4c7fb84a7",
   "metadata": {},
   "outputs": [
    {
     "data": {
      "text/plain": [
       "'Ajay'"
      ]
     },
     "execution_count": 409,
     "metadata": {},
     "output_type": "execute_result"
    }
   ],
   "source": [
    "s1 = Student(\"Ajay\")\n",
    "s1.name"
   ]
  },
  {
   "cell_type": "code",
   "execution_count": 476,
   "id": "92af06d0-cb76-462d-bf2f-537be0da7727",
   "metadata": {},
   "outputs": [],
   "source": [
    "class Student:\n",
    "    def __init__(self,name):\n",
    "        self.name = name\n",
    "        \n",
    "    @classmethod # bound to class\n",
    "    def student_details(cls,name): # cls is refering to the class, meaning this is the class method\n",
    "        return cls(name)"
   ]
  },
  {
   "cell_type": "code",
   "execution_count": 478,
   "id": "b492cee2-b3f6-4c42-a135-65508660f829",
   "metadata": {},
   "outputs": [],
   "source": [
    "obj1 = Student.student_details('Ajay')"
   ]
  },
  {
   "cell_type": "code",
   "execution_count": 480,
   "id": "9a31791e-7b61-4bbe-ba28-c03c90e4ba6f",
   "metadata": {},
   "outputs": [
    {
     "data": {
      "text/plain": [
       "'Ajay'"
      ]
     },
     "execution_count": 480,
     "metadata": {},
     "output_type": "execute_result"
    }
   ],
   "source": [
    "obj1.name"
   ]
  },
  {
   "cell_type": "code",
   "execution_count": 482,
   "id": "6818d003-e74d-49f2-a6db-dbaa8eea5019",
   "metadata": {},
   "outputs": [],
   "source": [
    "class Student:\n",
    "    def __init__(self,name):\n",
    "        self.name = name\n",
    "        \n",
    "    @classmethod # bound to class\n",
    "    def student_details(cls,name1):\n",
    "        return cls(name1)"
   ]
  },
  {
   "cell_type": "code",
   "execution_count": 484,
   "id": "f2261e74-321c-40c0-acd5-2bd30c6f127f",
   "metadata": {},
   "outputs": [],
   "source": [
    "obj2 = Student.student_details('Bijay')"
   ]
  },
  {
   "cell_type": "code",
   "execution_count": 486,
   "id": "285eb086-c58d-462c-a348-29213e4c6383",
   "metadata": {},
   "outputs": [
    {
     "data": {
      "text/plain": [
       "'Bijay'"
      ]
     },
     "execution_count": 486,
     "metadata": {},
     "output_type": "execute_result"
    }
   ],
   "source": [
    "obj2.name #here you will not get name1 as attribute because the student_details is the class method"
   ]
  },
  {
   "cell_type": "code",
   "execution_count": 488,
   "id": "30433573-93bf-41df-9d4d-30653a9fcd54",
   "metadata": {},
   "outputs": [],
   "source": [
    "#if u want to calculate total students\n",
    "class Student:\n",
    "    total_students = 0\n",
    "    def __init__(self,name):\n",
    "        self.name = name\n",
    "        Student.total_students = Student.total_students+1\n",
    "    @classmethod\n",
    "    def get_total_students(cls):\n",
    "        return clc.total_students\n",
    "        "
   ]
  },
  {
   "cell_type": "code",
   "execution_count": 490,
   "id": "3a455138-8289-4e72-bf56-a8fcdf65b849",
   "metadata": {},
   "outputs": [
    {
     "data": {
      "text/plain": [
       "0"
      ]
     },
     "execution_count": 490,
     "metadata": {},
     "output_type": "execute_result"
    }
   ],
   "source": [
    "Student.total_students"
   ]
  },
  {
   "cell_type": "code",
   "execution_count": 492,
   "id": "1d5e7ae6-7253-4e2a-b8b9-2bc48b368d76",
   "metadata": {},
   "outputs": [],
   "source": [
    "s1 = Student(\"Ajay\")"
   ]
  },
  {
   "cell_type": "code",
   "execution_count": 494,
   "id": "0b776d65-8c06-450f-a575-6586e419f11f",
   "metadata": {},
   "outputs": [
    {
     "data": {
      "text/plain": [
       "1"
      ]
     },
     "execution_count": 494,
     "metadata": {},
     "output_type": "execute_result"
    }
   ],
   "source": [
    "Student.total_students"
   ]
  },
  {
   "cell_type": "code",
   "execution_count": null,
   "id": "41bd30ce-7a33-4d83-a862-dc7655a7892d",
   "metadata": {},
   "outputs": [],
   "source": []
  },
  {
   "cell_type": "code",
   "execution_count": 497,
   "id": "a0e034ed-04e2-4c5e-9e1c-84b8e3017754",
   "metadata": {},
   "outputs": [],
   "source": [
    "class Student:\n",
    "    total_students = 0\n",
    "    def __init__(self,name):\n",
    "        self.name = name\n",
    "        Student.total_students = Student.total_students+1\n",
    "        \n",
    "    @classmethod\n",
    "    def get_total_students(cls):\n",
    "        return clc.total_students\n",
    "        "
   ]
  },
  {
   "cell_type": "code",
   "execution_count": 499,
   "id": "4c21404b-e223-4e4c-baf6-d89287a63477",
   "metadata": {},
   "outputs": [],
   "source": [
    "def course_details(cls,coursename):\n",
    "    print(\"The details of the course is\",coursename)"
   ]
  },
  {
   "cell_type": "markdown",
   "id": "12ff58b4-7bda-428e-9788-36d25ce18fac",
   "metadata": {},
   "source": [
    "Student.course_details = classmethod(course_details)\n",
    "#adding the external function as class method"
   ]
  },
  {
   "cell_type": "code",
   "execution_count": 503,
   "id": "505c5d05-6508-44e6-9b3f-89fac54cde09",
   "metadata": {},
   "outputs": [
    {
     "name": "stdout",
     "output_type": "stream",
     "text": [
      "The details of the course is Data Science\n"
     ]
    }
   ],
   "source": [
    "Student.course_details(\"Data Science\")"
   ]
  },
  {
   "cell_type": "code",
   "execution_count": 505,
   "id": "4b0980c8-489a-4ec2-a53e-67d82ea6fc10",
   "metadata": {},
   "outputs": [],
   "source": [
    "#delete the class name\n",
    "del Student.course_details"
   ]
  },
  {
   "cell_type": "code",
   "execution_count": 516,
   "id": "4a0af936-a709-4910-9a22-aa3d8e00f074",
   "metadata": {},
   "outputs": [],
   "source": [
    "delattr(Student,\"get_total_students\")"
   ]
  },
  {
   "cell_type": "markdown",
   "id": "ca3099d3-dc5d-4d00-9680-879a5a2aec6d",
   "metadata": {},
   "source": [
    "# Magic Methods"
   ]
  },
  {
   "cell_type": "code",
   "execution_count": 519,
   "id": "2df44657-baa7-4270-b756-cfab946f1128",
   "metadata": {},
   "outputs": [],
   "source": [
    "#dunder/magic/special method.."
   ]
  },
  {
   "cell_type": "code",
   "execution_count": 521,
   "id": "95e1619c-37bf-476c-8938-b612757ec6c4",
   "metadata": {},
   "outputs": [
    {
     "data": {
      "text/plain": [
       "7"
      ]
     },
     "execution_count": 521,
     "metadata": {},
     "output_type": "execute_result"
    }
   ],
   "source": [
    "4+3"
   ]
  },
  {
   "cell_type": "code",
   "execution_count": 525,
   "id": "0a3450a1-2f87-4130-8159-044c0cb316e2",
   "metadata": {},
   "outputs": [
    {
     "data": {
      "text/plain": [
       "'career craft'"
      ]
     },
     "execution_count": 525,
     "metadata": {},
     "output_type": "execute_result"
    }
   ],
   "source": [
    "\"career \"+\"craft\""
   ]
  },
  {
   "cell_type": "code",
   "execution_count": 527,
   "id": "861d07c1-43b2-47e4-997b-ffc25cde3739",
   "metadata": {},
   "outputs": [
    {
     "data": {
      "text/plain": [
       "5"
      ]
     },
     "execution_count": 527,
     "metadata": {},
     "output_type": "execute_result"
    }
   ],
   "source": [
    "a=2\n",
    "b=3\n",
    "a+b"
   ]
  },
  {
   "cell_type": "code",
   "execution_count": 529,
   "id": "4b7a33fa-35e0-466d-830b-c5ec147d252a",
   "metadata": {},
   "outputs": [
    {
     "data": {
      "text/plain": [
       "5"
      ]
     },
     "execution_count": 529,
     "metadata": {},
     "output_type": "execute_result"
    }
   ],
   "source": [
    "a.__add__(b)"
   ]
  },
  {
   "cell_type": "code",
   "execution_count": 531,
   "id": "497954a4-bf43-4cfe-b5f7-da17f3a20ce3",
   "metadata": {},
   "outputs": [
    {
     "data": {
      "text/plain": [
       "['__abs__',\n",
       " '__add__',\n",
       " '__and__',\n",
       " '__bool__',\n",
       " '__ceil__',\n",
       " '__class__',\n",
       " '__delattr__',\n",
       " '__dir__',\n",
       " '__divmod__',\n",
       " '__doc__',\n",
       " '__eq__',\n",
       " '__float__',\n",
       " '__floor__',\n",
       " '__floordiv__',\n",
       " '__format__',\n",
       " '__ge__',\n",
       " '__getattribute__',\n",
       " '__getnewargs__',\n",
       " '__getstate__',\n",
       " '__gt__',\n",
       " '__hash__',\n",
       " '__index__',\n",
       " '__init__',\n",
       " '__init_subclass__',\n",
       " '__int__',\n",
       " '__invert__',\n",
       " '__le__',\n",
       " '__lshift__',\n",
       " '__lt__',\n",
       " '__mod__',\n",
       " '__mul__',\n",
       " '__ne__',\n",
       " '__neg__',\n",
       " '__new__',\n",
       " '__or__',\n",
       " '__pos__',\n",
       " '__pow__',\n",
       " '__radd__',\n",
       " '__rand__',\n",
       " '__rdivmod__',\n",
       " '__reduce__',\n",
       " '__reduce_ex__',\n",
       " '__repr__',\n",
       " '__rfloordiv__',\n",
       " '__rlshift__',\n",
       " '__rmod__',\n",
       " '__rmul__',\n",
       " '__ror__',\n",
       " '__round__',\n",
       " '__rpow__',\n",
       " '__rrshift__',\n",
       " '__rshift__',\n",
       " '__rsub__',\n",
       " '__rtruediv__',\n",
       " '__rxor__',\n",
       " '__setattr__',\n",
       " '__sizeof__',\n",
       " '__str__',\n",
       " '__sub__',\n",
       " '__subclasshook__',\n",
       " '__truediv__',\n",
       " '__trunc__',\n",
       " '__xor__',\n",
       " 'as_integer_ratio',\n",
       " 'bit_count',\n",
       " 'bit_length',\n",
       " 'conjugate',\n",
       " 'denominator',\n",
       " 'from_bytes',\n",
       " 'imag',\n",
       " 'is_integer',\n",
       " 'numerator',\n",
       " 'real',\n",
       " 'to_bytes']"
      ]
     },
     "execution_count": 531,
     "metadata": {},
     "output_type": "execute_result"
    }
   ],
   "source": [
    "dir(int)"
   ]
  },
  {
   "cell_type": "code",
   "execution_count": 533,
   "id": "5dd5c79d-3a5d-46d9-89e6-d6af7c716c05",
   "metadata": {},
   "outputs": [
    {
     "data": {
      "text/plain": [
       "['__add__',\n",
       " '__class__',\n",
       " '__contains__',\n",
       " '__delattr__',\n",
       " '__dir__',\n",
       " '__doc__',\n",
       " '__eq__',\n",
       " '__format__',\n",
       " '__ge__',\n",
       " '__getattribute__',\n",
       " '__getitem__',\n",
       " '__getnewargs__',\n",
       " '__getstate__',\n",
       " '__gt__',\n",
       " '__hash__',\n",
       " '__init__',\n",
       " '__init_subclass__',\n",
       " '__iter__',\n",
       " '__le__',\n",
       " '__len__',\n",
       " '__lt__',\n",
       " '__mod__',\n",
       " '__mul__',\n",
       " '__ne__',\n",
       " '__new__',\n",
       " '__reduce__',\n",
       " '__reduce_ex__',\n",
       " '__repr__',\n",
       " '__rmod__',\n",
       " '__rmul__',\n",
       " '__setattr__',\n",
       " '__sizeof__',\n",
       " '__str__',\n",
       " '__subclasshook__',\n",
       " 'capitalize',\n",
       " 'casefold',\n",
       " 'center',\n",
       " 'count',\n",
       " 'encode',\n",
       " 'endswith',\n",
       " 'expandtabs',\n",
       " 'find',\n",
       " 'format',\n",
       " 'format_map',\n",
       " 'index',\n",
       " 'isalnum',\n",
       " 'isalpha',\n",
       " 'isascii',\n",
       " 'isdecimal',\n",
       " 'isdigit',\n",
       " 'isidentifier',\n",
       " 'islower',\n",
       " 'isnumeric',\n",
       " 'isprintable',\n",
       " 'isspace',\n",
       " 'istitle',\n",
       " 'isupper',\n",
       " 'join',\n",
       " 'ljust',\n",
       " 'lower',\n",
       " 'lstrip',\n",
       " 'maketrans',\n",
       " 'partition',\n",
       " 'removeprefix',\n",
       " 'removesuffix',\n",
       " 'replace',\n",
       " 'rfind',\n",
       " 'rindex',\n",
       " 'rjust',\n",
       " 'rpartition',\n",
       " 'rsplit',\n",
       " 'rstrip',\n",
       " 'split',\n",
       " 'splitlines',\n",
       " 'startswith',\n",
       " 'strip',\n",
       " 'swapcase',\n",
       " 'title',\n",
       " 'translate',\n",
       " 'upper',\n",
       " 'zfill']"
      ]
     },
     "execution_count": 533,
     "metadata": {},
     "output_type": "execute_result"
    }
   ],
   "source": [
    "dir(str)"
   ]
  },
  {
   "cell_type": "code",
   "execution_count": 535,
   "id": "478bcda4-5713-46b8-9aad-e2a8206e839a",
   "metadata": {},
   "outputs": [],
   "source": [
    "#__methodname__ is dunder method/special method/magic method\n",
    "# double underscore >> dunder method(d means double and under means underscore)\n",
    "#magic/special >> predefined"
   ]
  },
  {
   "cell_type": "code",
   "execution_count": 537,
   "id": "fe8797fd-e0fb-4e90-9eb7-00db14d0a5f5",
   "metadata": {},
   "outputs": [],
   "source": [
    "class Student:\n",
    "    def __init__(self):\n",
    "        print(\"This is the first thing that will be executed once you make instance/object of the class\")"
   ]
  },
  {
   "cell_type": "code",
   "execution_count": 539,
   "id": "ee209002-da64-427d-b7a3-098715149b5a",
   "metadata": {},
   "outputs": [
    {
     "name": "stdout",
     "output_type": "stream",
     "text": [
      "This is the first thing that will be executed once you make instance/object of the class\n"
     ]
    },
    {
     "data": {
      "text/plain": [
       "<__main__.Student at 0x138514e60>"
      ]
     },
     "execution_count": 539,
     "metadata": {},
     "output_type": "execute_result"
    }
   ],
   "source": [
    "Student()"
   ]
  },
  {
   "cell_type": "code",
   "execution_count": 541,
   "id": "a251e159-9e15-404b-9cb7-4b1f95034f04",
   "metadata": {},
   "outputs": [],
   "source": [
    "class Student:\n",
    "    def __new__(self):\n",
    "        print(\"this is executed even before init\")\n",
    "    def __init__(self):\n",
    "        print(\"This is the first thing that will be executed once you make instance/object of the class\")"
   ]
  },
  {
   "cell_type": "code",
   "execution_count": 543,
   "id": "437fcb94-55ba-4c17-96ab-5de82af4751e",
   "metadata": {},
   "outputs": [
    {
     "name": "stdout",
     "output_type": "stream",
     "text": [
      "this is executed even before init\n"
     ]
    }
   ],
   "source": [
    "Student()"
   ]
  },
  {
   "cell_type": "code",
   "execution_count": 549,
   "id": "c2a46670-b8a5-423f-a913-f99b827fac15",
   "metadata": {},
   "outputs": [],
   "source": [
    "class Student:\n",
    "    def __init__(self):\n",
    "        print(\"This is the first thing that will be executed once you make instance/object of the class\")\n",
    "    def __str__(self):\n",
    "        print(\"This method override the print statement of object\")\n",
    "        "
   ]
  },
  {
   "cell_type": "code",
   "execution_count": 551,
   "id": "7d116016-a2b5-423a-8f61-1d358d34c884",
   "metadata": {},
   "outputs": [
    {
     "name": "stdout",
     "output_type": "stream",
     "text": [
      "This is the first thing that will be executed once you make instance/object of the class\n"
     ]
    },
    {
     "data": {
      "text/plain": [
       "<__main__.Student at 0x1618da600>"
      ]
     },
     "execution_count": 551,
     "metadata": {},
     "output_type": "execute_result"
    }
   ],
   "source": [
    "Student()"
   ]
  },
  {
   "cell_type": "code",
   "execution_count": null,
   "id": "13706a2b-3d32-4399-a521-23ce8d9e4cf7",
   "metadata": {},
   "outputs": [],
   "source": []
  },
  {
   "cell_type": "code",
   "execution_count": 568,
   "id": "1421d603-4e46-451a-9a05-a6625d7575e4",
   "metadata": {},
   "outputs": [],
   "source": [
    "#repr..\n",
    "class MyClass:\n",
    "    def __init__(self,x):\n",
    "        self.x = x\n",
    "    def __repr__(self):\n",
    "        return f\"MyClass({self.x})\""
   ]
  },
  {
   "cell_type": "code",
   "execution_count": 570,
   "id": "0bd9b477-2b3d-4c34-97c9-83acbc890820",
   "metadata": {},
   "outputs": [],
   "source": [
    "obj = MyClass(2)"
   ]
  },
  {
   "cell_type": "code",
   "execution_count": 577,
   "id": "46d02cae-238e-493a-b221-d17b50cf6b3b",
   "metadata": {},
   "outputs": [
    {
     "name": "stdout",
     "output_type": "stream",
     "text": [
      "MyClass(2)\n"
     ]
    }
   ],
   "source": [
    "print(repr(obj)) #return the string prepresentation of the object..\n"
   ]
  },
  {
   "cell_type": "code",
   "execution_count": null,
   "id": "59a5b4e6-0ecf-4043-b3a9-57e119839dbd",
   "metadata": {},
   "outputs": [],
   "source": [
    "#interview Question\n",
    "#what is practicle use of abstraction\n",
    "#what is decorator\n",
    "#what is class method,static method\n",
    "#what is dunder method\n",
    "#can I delete or make a method as class method from outsude the class\n",
    "x"
   ]
  },
  {
   "cell_type": "code",
   "execution_count": null,
   "id": "72f11007-38f7-474d-b49c-ea71f92c4c06",
   "metadata": {},
   "outputs": [],
   "source": []
  },
  {
   "cell_type": "code",
   "execution_count": null,
   "id": "01dbd07b-e2ec-4fd5-8027-248a1f7fe3fd",
   "metadata": {},
   "outputs": [],
   "source": []
  },
  {
   "cell_type": "code",
   "execution_count": null,
   "id": "7776b728-dac4-423c-a77e-ff92906d48da",
   "metadata": {},
   "outputs": [],
   "source": []
  }
 ],
 "metadata": {
  "kernelspec": {
   "display_name": "Python 3 (ipykernel)",
   "language": "python",
   "name": "python3"
  },
  "language_info": {
   "codemirror_mode": {
    "name": "ipython",
    "version": 3
   },
   "file_extension": ".py",
   "mimetype": "text/x-python",
   "name": "python",
   "nbconvert_exporter": "python",
   "pygments_lexer": "ipython3",
   "version": "3.12.7"
  }
 },
 "nbformat": 4,
 "nbformat_minor": 5
}
