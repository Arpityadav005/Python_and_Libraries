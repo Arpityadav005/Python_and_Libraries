{
 "cells": [
  {
   "cell_type": "code",
   "execution_count": 45,
   "id": "d5f8f7f1-8ff0-4c1d-aece-80578e790998",
   "metadata": {},
   "outputs": [],
   "source": [
    "# Till now\n",
    "#basics of python\n",
    "#operators\n",
    "#Data structure\n",
    "#conditionals\n",
    "#loops\n",
    "#functions..\n",
    "#oops...\n",
    "#file handling.."
   ]
  },
  {
   "cell_type": "code",
   "execution_count": 47,
   "id": "a425021b-1b51-42b6-95d6-370f8e0dcd5d",
   "metadata": {},
   "outputs": [],
   "source": [
    "#Todays Agends..\n",
    "#exception handling\n",
    "#logging\n",
    "#module and packages\n",
    "#memory management"
   ]
  },
  {
   "cell_type": "markdown",
   "id": "6f5e3733-8ac0-43c7-b934-4f1fdb1757db",
   "metadata": {},
   "source": [
    "# Logging and Debugging"
   ]
  },
  {
   "cell_type": "code",
   "execution_count": 50,
   "id": "cbb498c6-48b5-40bd-9d1b-7ca8a9c1de02",
   "metadata": {},
   "outputs": [],
   "source": [
    "#similar to we updating our parents every hour via phone in order to make sure we are safe\n",
    "# similarly program is like a child for his/her developer, in order to make sure that program is\n",
    "#running successfully at each critical step we do logging\n",
    "\n",
    "# Logging >> Helps to understand the flow of code execution and identify issues by\n",
    "# recording events and data at various stage of program\n",
    "\n",
    "#Debugging >> helps to idenetify and fix bugs by tracking code execution, examining variable and testing\n",
    "#assumptions by seeing the log file"
   ]
  },
  {
   "cell_type": "code",
   "execution_count": 52,
   "id": "20dc0ac2-e873-41fc-9e36-8bd19db39ce1",
   "metadata": {},
   "outputs": [
    {
     "name": "stdout",
     "output_type": "stream",
     "text": [
      "1.3333333333333333\n",
      "1.5\n",
      "1.1428571428571428\n",
      "1.2857142857142858\n",
      "1.0\n",
      "1.125\n",
      "0.8888888888888888\n",
      "1.0\n"
     ]
    }
   ],
   "source": [
    "# debugging examples\n",
    "for i in range(6,10):\n",
    "    for j in range(8,10):\n",
    "        print(j/i)\n"
   ]
  },
  {
   "cell_type": "code",
   "execution_count": 54,
   "id": "93bd7941-7c6f-426c-9351-a2a5338dd7bc",
   "metadata": {},
   "outputs": [
    {
     "name": "stdout",
     "output_type": "stream",
     "text": [
      "-0.8\n",
      "-0.9\n",
      "-0.8888888888888888\n",
      "-1.0\n",
      "-1.0\n",
      "-1.125\n",
      "-1.1428571428571428\n",
      "-1.2857142857142858\n",
      "-1.3333333333333333\n",
      "-1.5\n",
      "-1.6\n",
      "-1.8\n",
      "-2.0\n",
      "-2.25\n",
      "-2.6666666666666665\n",
      "-3.0\n",
      "-4.0\n",
      "-4.5\n",
      "-8.0\n",
      "-9.0\n"
     ]
    },
    {
     "ename": "ZeroDivisionError",
     "evalue": "division by zero",
     "output_type": "error",
     "traceback": [
      "\u001b[0;31m---------------------------------------------------------------------------\u001b[0m",
      "\u001b[0;31mZeroDivisionError\u001b[0m                         Traceback (most recent call last)",
      "Cell \u001b[0;32mIn[54], line 4\u001b[0m\n\u001b[1;32m      2\u001b[0m \u001b[38;5;28;01mfor\u001b[39;00m i \u001b[38;5;129;01min\u001b[39;00m \u001b[38;5;28mrange\u001b[39m(\u001b[38;5;241m-\u001b[39m\u001b[38;5;241m10\u001b[39m,\u001b[38;5;241m10\u001b[39m):\n\u001b[1;32m      3\u001b[0m     \u001b[38;5;28;01mfor\u001b[39;00m j \u001b[38;5;129;01min\u001b[39;00m \u001b[38;5;28mrange\u001b[39m(\u001b[38;5;241m8\u001b[39m,\u001b[38;5;241m10\u001b[39m):\n\u001b[0;32m----> 4\u001b[0m         \u001b[38;5;28mprint\u001b[39m(j\u001b[38;5;241m/\u001b[39mi)\n",
      "\u001b[0;31mZeroDivisionError\u001b[0m: division by zero"
     ]
    }
   ],
   "source": [
    "#why zero division error came\n",
    "for i in range(-10,10):\n",
    "    for j in range(8,10):\n",
    "        print(j/i)\n"
   ]
  },
  {
   "cell_type": "code",
   "execution_count": 56,
   "id": "7f01efd8-680c-4666-bbd9-c163b404f359",
   "metadata": {},
   "outputs": [],
   "source": [
    "#steps of debugging\n",
    "\n",
    "#what is best practice for searching debugging?\n",
    "#always copy-paste the error and search on stackoverflow/google\n",
    "#if u dont find anything on stackoverflow please seach on official documentation\n",
    "\n",
    "#To identify the exact bug?\n",
    "#-Print statement for variable names\n",
    "#Logging\n",
    "#-Try except"
   ]
  },
  {
   "cell_type": "code",
   "execution_count": 58,
   "id": "b742ff8c-01c7-4056-8021-a0f95b315ada",
   "metadata": {},
   "outputs": [
    {
     "name": "stdout",
     "output_type": "stream",
     "text": [
      "-10\n",
      "-0.8\n",
      "-0.9\n",
      "-9\n",
      "-0.8888888888888888\n",
      "-1.0\n",
      "-8\n",
      "-1.0\n",
      "-1.125\n",
      "-7\n",
      "-1.1428571428571428\n",
      "-1.2857142857142858\n",
      "-6\n",
      "-1.3333333333333333\n",
      "-1.5\n",
      "-5\n",
      "-1.6\n",
      "-1.8\n",
      "-4\n",
      "-2.0\n",
      "-2.25\n",
      "-3\n",
      "-2.6666666666666665\n",
      "-3.0\n",
      "-2\n",
      "-4.0\n",
      "-4.5\n",
      "-1\n",
      "-8.0\n",
      "-9.0\n",
      "0\n"
     ]
    },
    {
     "ename": "ZeroDivisionError",
     "evalue": "division by zero",
     "output_type": "error",
     "traceback": [
      "\u001b[0;31m---------------------------------------------------------------------------\u001b[0m",
      "\u001b[0;31mZeroDivisionError\u001b[0m                         Traceback (most recent call last)",
      "Cell \u001b[0;32mIn[58], line 5\u001b[0m\n\u001b[1;32m      3\u001b[0m \u001b[38;5;28mprint\u001b[39m(i)\n\u001b[1;32m      4\u001b[0m \u001b[38;5;28;01mfor\u001b[39;00m j \u001b[38;5;129;01min\u001b[39;00m \u001b[38;5;28mrange\u001b[39m(\u001b[38;5;241m8\u001b[39m,\u001b[38;5;241m10\u001b[39m):\n\u001b[0;32m----> 5\u001b[0m     \u001b[38;5;28mprint\u001b[39m(j\u001b[38;5;241m/\u001b[39mi)\n",
      "\u001b[0;31mZeroDivisionError\u001b[0m: division by zero"
     ]
    }
   ],
   "source": [
    "#print the variable i to know the error \n",
    "for i in range(-10,10):\n",
    "    print(i)\n",
    "    for j in range(8,10):\n",
    "        print(j/i)"
   ]
  },
  {
   "cell_type": "code",
   "execution_count": 60,
   "id": "c5c5d301-c4ba-4c91-adf4-d7b7b115a61b",
   "metadata": {},
   "outputs": [],
   "source": [
    "#when i is 0, error is coming\n",
    "\n",
    "#comments\n",
    "#this i was a small program thats why it was easy to figure out the error\n",
    "#in real time, you will not find print statement  working with console\n",
    "#then comes the requirement of logging"
   ]
  },
  {
   "cell_type": "code",
   "execution_count": 62,
   "id": "64ebeda8-99b5-476f-ace9-971c446fb543",
   "metadata": {},
   "outputs": [],
   "source": [
    "#logging is like diary entry of the program"
   ]
  },
  {
   "cell_type": "code",
   "execution_count": 64,
   "id": "3a5a5e4d-028f-475f-b5f2-71441abda1ba",
   "metadata": {},
   "outputs": [],
   "source": [
    "#logging >> keeping track of\n",
    "#logging module keeps track of events in a software run"
   ]
  },
  {
   "cell_type": "code",
   "execution_count": 66,
   "id": "a797b5b2-7213-4a73-bd2c-45164daf9302",
   "metadata": {},
   "outputs": [],
   "source": [
    "#logging supports different levels of logging which helps to categorize\n",
    "#message based on severity"
   ]
  },
  {
   "cell_type": "code",
   "execution_count": 68,
   "id": "7b59a587-b3ec-46d2-9f31-2412c180f904",
   "metadata": {},
   "outputs": [],
   "source": [
    "import logging"
   ]
  },
  {
   "cell_type": "code",
   "execution_count": 70,
   "id": "7636a291-4e9c-4f53-81b8-61795983236c",
   "metadata": {},
   "outputs": [],
   "source": [
    "logging.basicConfig(filename = 'first.log',level = logging.INFO)\n"
   ]
  },
  {
   "cell_type": "code",
   "execution_count": 72,
   "id": "332d9fe9-58a3-4f90-a77e-6941128f2761",
   "metadata": {},
   "outputs": [],
   "source": [
    "logging.info('This is a normal information about a software run')\n",
    "logging.error(\"This is the error msg\")\n",
    "logging.warning(\"This is my warning\")"
   ]
  },
  {
   "cell_type": "code",
   "execution_count": 74,
   "id": "d505dfea-66ed-46e3-b541-bf15cea80c4b",
   "metadata": {},
   "outputs": [],
   "source": [
    "logging.critical(\"This is a critical msg\")\n",
    "logging.debug(\"Life is very good, eat date and sleep\")"
   ]
  },
  {
   "cell_type": "code",
   "execution_count": 76,
   "id": "2dc468fd-684c-4a51-a0b1-48c01342e1f1",
   "metadata": {},
   "outputs": [],
   "source": [
    "logging.shutdown()"
   ]
  },
  {
   "cell_type": "code",
   "execution_count": 78,
   "id": "f4b879c3-93f8-4c79-8c37-badb75da216d",
   "metadata": {},
   "outputs": [],
   "source": [
    "#everything got printted in the log but debug was not printed\n",
    "#why > the base level is info and only level above info will be logged\n"
   ]
  },
  {
   "cell_type": "code",
   "execution_count": 6,
   "id": "c96c8ab2-9381-4fee-be9c-f107cfda6728",
   "metadata": {},
   "outputs": [],
   "source": [
    "import logging\n",
    "logging.basicConfig(filename = 'first.log',level = logging.WARNING)\n",
    "logging.info('This is a normal information about a software run')\n",
    "logging.error(\"This is the error msg\")\n",
    "logging.warning(\"This is my warning\")\n",
    "logging.critical(\"This is a critical msg\")\n",
    "logging.debug(\"Life is very good, eat date and sleep\")\n",
    "logging.shutdown()"
   ]
  },
  {
   "cell_type": "code",
   "execution_count": null,
   "id": "b1c7d12c-23f0-4fd7-812f-cf87f7e1056a",
   "metadata": {},
   "outputs": [],
   "source": []
  },
  {
   "cell_type": "code",
   "execution_count": null,
   "id": "85b3d3ad-dcd2-432d-beb5-10ccf2a7314d",
   "metadata": {},
   "outputs": [],
   "source": [
    "#hierarchy of diff logs\n",
    "1. DEBUG >> lowest level, Detailed information about daignosing the problem\n",
    "2. INFO >> confirmation of that things are working as expected\n",
    "3. WARNING >> An indication that some potential issue can be there/unexpected happened\n",
    "4. ERROR >> A serious problem with program\n",
    "5. CRITICAL >> A very serious problem the program is terminated\n"
   ]
  },
  {
   "cell_type": "code",
   "execution_count": null,
   "id": "5d96699f-8c84-41a9-a4cd-9038792dca7b",
   "metadata": {},
   "outputs": [],
   "source": [
    "we have corresponding integer to the log levels, we can use either or\n",
    "1. DEBUG  ==>  10\n",
    "2. INFO  ===>  20\n",
    "3. WARNING  ==> 30\n",
    "4. Error  ===>  40\n",
    "5. CRITICAL  ==> 50"
   ]
  },
  {
   "cell_type": "code",
   "execution_count": 2,
   "id": "77beb5d4-2d81-4ac6-983a-07c30bf95335",
   "metadata": {},
   "outputs": [
    {
     "data": {
      "text/plain": [
       "[1, 4, 9, 16]"
      ]
     },
     "execution_count": 2,
     "metadata": {},
     "output_type": "execute_result"
    }
   ],
   "source": [
    "# industry use case example...\n",
    "# square of a list element\n",
    "import logging\n",
    "\n",
    "logging.basicConfig(filename = 'data_prep.log',level = logging.DEBUG)\n",
    "\n",
    "def process_data(data):\n",
    "    logging.info(\"Started the data process\")\n",
    "    if not isinstance(data,list):\n",
    "        logging.error(\"The data must be a list.\")\n",
    "        return None\n",
    "    logging.debug(f\"Data before preprocessing: {data}\")\n",
    "    #main logic\n",
    "    processed = [x**2 for x in data]\n",
    "    logging.debug(f\"Data after preprocessing {processed}\")\n",
    "    logging.info(\"Data processing completed successfully.\")\n",
    "    return processed\n",
    "\n",
    "\n",
    "data = [1,2,3,4]\n",
    "process_data(data)"
   ]
  },
  {
   "cell_type": "code",
   "execution_count": 4,
   "id": "b989129c-062e-4c89-80db-1ee0e8396992",
   "metadata": {},
   "outputs": [],
   "source": [
    "process_data(\"some invalid data\")"
   ]
  },
  {
   "cell_type": "code",
   "execution_count": 3,
   "id": "7b8b7e6f-3336-4bf3-a4c0-231f49c18096",
   "metadata": {},
   "outputs": [
    {
     "data": {
      "text/plain": [
       "[1, 4, 9, 16]"
      ]
     },
     "execution_count": 3,
     "metadata": {},
     "output_type": "execute_result"
    }
   ],
   "source": [
    "#logging with time, levelname, message\n",
    "\n",
    "import logging\n",
    "\n",
    "logging.basicConfig(filename = 'data_prep.log',level = logging.DEBUG, format = '%(asctime)s %(levelname)s %(message)s')\n",
    "\n",
    "def process_data(data):\n",
    "    logging.info(\"Started the data process\")\n",
    "    if not isinstance(data,list):\n",
    "        logging.error(\"The data must be a list.\")\n",
    "        return None\n",
    "    logging.debug(f\"Data before preprocessing: {data}\")\n",
    "    #main logic\n",
    "    processed = [x**2 for x in data]\n",
    "    logging.debug(f\"Data after preprocessing {processed}\")\n",
    "    logging.info(\"Data processing completed successfully.\")\n",
    "    return processed\n",
    "\n",
    "\n",
    "data = [1,2,3,4]\n",
    "process_data(data)"
   ]
  },
  {
   "cell_type": "code",
   "execution_count": 5,
   "id": "34872a48-52d1-4e65-945e-88504f49c400",
   "metadata": {},
   "outputs": [],
   "source": [
    "process_data(\"some invalid input\")"
   ]
  },
  {
   "cell_type": "code",
   "execution_count": 7,
   "id": "c337c77a-5356-48d7-b02a-ad47b7ea4470",
   "metadata": {},
   "outputs": [],
   "source": [
    "#further the above function can be enhanced by checking empty list and only elemets being strings\n"
   ]
  },
  {
   "cell_type": "code",
   "execution_count": 9,
   "id": "f657cfae-9abf-4abb-93dc-3cdc81521664",
   "metadata": {},
   "outputs": [],
   "source": [
    "#tips for logging\n",
    "#always intialise from the first level\n",
    "#always try to think edge cases\n",
    "#while debugging used devide and conquer"
   ]
  },
  {
   "cell_type": "code",
   "execution_count": 11,
   "id": "87f153cb-1ee7-4296-a2ae-0c0372e58fe1",
   "metadata": {},
   "outputs": [],
   "source": [
    "l = [100, 'career',[2,'Craft'],'helloWorld',4]\n",
    "#write a program to separate the integer and string into two list separatly  \n"
   ]
  },
  {
   "cell_type": "code",
   "execution_count": null,
   "id": "8170ed2f-4581-4717-86bc-336b84565f47",
   "metadata": {},
   "outputs": [],
   "source": [
    "import logging\n",
    "\n",
    "# Configure logging\n",
    "logging.basicConfig(\n",
    "    filename='data_prep.log',\n",
    "    level=logging.DEBUG,\n",
    "    format='%(asctime)s %(levelname)s %(message)s'\n",
    ")\n",
    "\n",
    "def separator(l):\n",
    "    logging.info(\"Started separating integers and strings.\")\n",
    "    \n",
    "    if not isinstance(l, list):\n",
    "        logging.error(\"Input must be a list.\")\n",
    "        return None\n",
    "\n",
    "    logging.debug(f\"Input data: {l}\")\n",
    "\n",
    "    intList = []\n",
    "    strList = []\n",
    "\n",
    "    for i in l:\n",
    "        if isinstance(i, int):\n",
    "            intList.append(i)\n",
    "            logging.debug(f\"Integer found: {i}\")\n",
    "        elif isinstance(i, str):\n",
    "            strList.append(i)\n",
    "            logging.debug(f\"String found: {i}\")\n",
    "        elif isinstance(i, list):\n",
    "            logging.debug(f\"Nested list found: {i}\")\n",
    "            for j in i:\n",
    "                if isinstance(j, int):\n",
    "                    intList.append(j)\n",
    "                    logging.debug(f\"Integer found in nested list: {j}\")\n",
    "                elif isinstance(j, str):\n",
    "                    strList.append(j)\n",
    "                    logging.debug(f\"String found in nested list: {j}\")\n",
    "                else:\n",
    "                    logging.warning(f\"Unsupported type in nested list: {j} ({type(j)})\")\n",
    "        else:\n",
    "            logging.warning(f\"Unsupported type in list: {i} ({type(i)})\")\n",
    "    \n",
    "    logging.info(\"Separation completed successfully.\")\n",
    "    logging.debug(f\"Integers: {intList}\")\n",
    "    logging.debug(f\"Strings: {strList}\")\n",
    "\n",
    "    return intList, strList\n",
    "\n",
    "\n",
    "# Example usage\n",
    "l = [100, 'career', [2, 'Craft'], 'helloWorld', 4]\n",
    "ints, strs = separator(l)\n",
    "\n",
    "print(\"Integers:\", ints)\n",
    "print(\"Strings:\", strs)\n"
   ]
  },
  {
   "cell_type": "markdown",
   "id": "b3354034-f98b-4e85-9c7b-880cab553122",
   "metadata": {},
   "source": [
    "# Exceptional Handling"
   ]
  },
  {
   "cell_type": "code",
   "execution_count": 14,
   "id": "df469895-fc39-4d18-87f4-4254f1a53b0d",
   "metadata": {},
   "outputs": [
    {
     "data": {
      "text/plain": [
       "5.0"
      ]
     },
     "execution_count": 14,
     "metadata": {},
     "output_type": "execute_result"
    }
   ],
   "source": [
    "10/2"
   ]
  },
  {
   "cell_type": "code",
   "execution_count": 16,
   "id": "43b361a0-237a-493a-9ab9-687709a9e663",
   "metadata": {},
   "outputs": [
    {
     "data": {
      "text/plain": [
       "2.5"
      ]
     },
     "execution_count": 16,
     "metadata": {},
     "output_type": "execute_result"
    }
   ],
   "source": [
    "5/2"
   ]
  },
  {
   "cell_type": "code",
   "execution_count": 18,
   "id": "0e13062e-7320-4dfb-954d-a5b9306d43f7",
   "metadata": {},
   "outputs": [
    {
     "ename": "ZeroDivisionError",
     "evalue": "division by zero",
     "output_type": "error",
     "traceback": [
      "\u001b[0;31m---------------------------------------------------------------------------\u001b[0m",
      "\u001b[0;31mZeroDivisionError\u001b[0m                         Traceback (most recent call last)",
      "Cell \u001b[0;32mIn[18], line 1\u001b[0m\n\u001b[0;32m----> 1\u001b[0m \u001b[38;5;241m10\u001b[39m\u001b[38;5;241m/\u001b[39m\u001b[38;5;241m0\u001b[39m\n",
      "\u001b[0;31mZeroDivisionError\u001b[0m: division by zero"
     ]
    }
   ],
   "source": [
    "10/0"
   ]
  },
  {
   "cell_type": "code",
   "execution_count": 20,
   "id": "8ae27cd7-30b5-41a7-8173-14584bb1a52c",
   "metadata": {},
   "outputs": [
    {
     "name": "stdout",
     "output_type": "stream",
     "text": [
      "0.6666666666666666\n",
      "0.8333333333333334\n",
      "I love monjolika\n"
     ]
    },
    {
     "ename": "ZeroDivisionError",
     "evalue": "division by zero",
     "output_type": "error",
     "traceback": [
      "\u001b[0;31m---------------------------------------------------------------------------\u001b[0m",
      "\u001b[0;31mZeroDivisionError\u001b[0m                         Traceback (most recent call last)",
      "Cell \u001b[0;32mIn[20], line 4\u001b[0m\n\u001b[1;32m      2\u001b[0m \u001b[38;5;28mprint\u001b[39m(\u001b[38;5;241m5\u001b[39m\u001b[38;5;241m/\u001b[39m\u001b[38;5;241m6\u001b[39m)\n\u001b[1;32m      3\u001b[0m \u001b[38;5;28mprint\u001b[39m(\u001b[38;5;124m\"\u001b[39m\u001b[38;5;124mI love monjolika\u001b[39m\u001b[38;5;124m\"\u001b[39m)\n\u001b[0;32m----> 4\u001b[0m \u001b[38;5;28mprint\u001b[39m(\u001b[38;5;241m100\u001b[39m\u001b[38;5;241m/\u001b[39m\u001b[38;5;241m0\u001b[39m)\n\u001b[1;32m      5\u001b[0m \u001b[38;5;28mprint\u001b[39m(\u001b[38;5;124m\"\u001b[39m\u001b[38;5;124mI want to go France\u001b[39m\u001b[38;5;124m\"\u001b[39m)\n",
      "\u001b[0;31mZeroDivisionError\u001b[0m: division by zero"
     ]
    }
   ],
   "source": [
    "print(2/3)\n",
    "print(5/6)\n",
    "print(\"I love monjolika\")\n",
    "print(100/0)\n",
    "print(\"I want to go France\")"
   ]
  },
  {
   "cell_type": "code",
   "execution_count": 24,
   "id": "566e8fee-de83-45c3-9ad2-650f4035e077",
   "metadata": {},
   "outputs": [],
   "source": [
    "#due to one error whole program exection stopped >> abnormal termination\n",
    "#why we need to handle ?\n",
    "# >> program should not executed abnormally\n",
    "#if error not handled, it reveals the information about the code to track which can be benificial for hacker\n"
   ]
  },
  {
   "cell_type": "code",
   "execution_count": 26,
   "id": "177ac29b-a15b-41e7-af69-40177f600979",
   "metadata": {},
   "outputs": [],
   "source": [
    "#solution ?? handle the error"
   ]
  },
  {
   "cell_type": "code",
   "execution_count": 28,
   "id": "1c64bc2a-2af9-4ae0-80c6-29c57b428f36",
   "metadata": {},
   "outputs": [],
   "source": [
    "#Types of error\n",
    "#syntax error >> during compilation\n",
    "#Exception >> during execution of a program/runtime"
   ]
  },
  {
   "cell_type": "code",
   "execution_count": 30,
   "id": "def1126e-7324-477e-81de-4268c5b75af0",
   "metadata": {},
   "outputs": [],
   "source": [
    "#syntx error"
   ]
  },
  {
   "cell_type": "code",
   "execution_count": 32,
   "id": "ad63ad93-50aa-487b-8217-ed580013ee80",
   "metadata": {},
   "outputs": [
    {
     "ename": "SyntaxError",
     "evalue": "unterminated string literal (detected at line 1) (1879130036.py, line 1)",
     "output_type": "error",
     "traceback": [
      "\u001b[0;36m  Cell \u001b[0;32mIn[32], line 1\u001b[0;36m\u001b[0m\n\u001b[0;31m    s = 'Ajay\u001b[0m\n\u001b[0m        ^\u001b[0m\n\u001b[0;31mSyntaxError\u001b[0m\u001b[0;31m:\u001b[0m unterminated string literal (detected at line 1)\n"
     ]
    }
   ],
   "source": [
    "s = 'Ajay"
   ]
  },
  {
   "cell_type": "code",
   "execution_count": 34,
   "id": "1327915e-dbd1-46ec-ac8b-3e2d0d4f9578",
   "metadata": {},
   "outputs": [
    {
     "ename": "SyntaxError",
     "evalue": "expected ':' (2001652193.py, line 1)",
     "output_type": "error",
     "traceback": [
      "\u001b[0;36m  Cell \u001b[0;32mIn[34], line 1\u001b[0;36m\u001b[0m\n\u001b[0;31m    for i in 'ajay'\u001b[0m\n\u001b[0m                   ^\u001b[0m\n\u001b[0;31mSyntaxError\u001b[0m\u001b[0;31m:\u001b[0m expected ':'\n"
     ]
    }
   ],
   "source": [
    "for i in 'ajay'\n",
    "print(i)"
   ]
  },
  {
   "cell_type": "code",
   "execution_count": 36,
   "id": "50e1a26c-339e-4a4d-85bc-929e7a7f2cc0",
   "metadata": {},
   "outputs": [
    {
     "ename": "SyntaxError",
     "evalue": "Missing parentheses in call to 'print'. Did you mean print(...)? (2628761421.py, line 1)",
     "output_type": "error",
     "traceback": [
      "\u001b[0;36m  Cell \u001b[0;32mIn[36], line 1\u001b[0;36m\u001b[0m\n\u001b[0;31m    print hello India\u001b[0m\n\u001b[0m    ^\u001b[0m\n\u001b[0;31mSyntaxError\u001b[0m\u001b[0;31m:\u001b[0m Missing parentheses in call to 'print'. Did you mean print(...)?\n"
     ]
    }
   ],
   "source": [
    "print hello India"
   ]
  },
  {
   "cell_type": "code",
   "execution_count": 43,
   "id": "f15650d2-c51d-498c-9dfc-22dc1bbbcfc4",
   "metadata": {},
   "outputs": [],
   "source": [
    "# examples of syntax error:\n",
    "#missing of colon, indentation,paranthesis/brackets"
   ]
  },
  {
   "cell_type": "code",
   "execution_count": 45,
   "id": "b351ff93-5805-4b2b-8554-8c2f7e50342e",
   "metadata": {},
   "outputs": [
    {
     "ename": "IndexError",
     "evalue": "list index out of range",
     "output_type": "error",
     "traceback": [
      "\u001b[0;31m---------------------------------------------------------------------------\u001b[0m",
      "\u001b[0;31mIndexError\u001b[0m                                Traceback (most recent call last)",
      "Cell \u001b[0;32mIn[45], line 3\u001b[0m\n\u001b[1;32m      1\u001b[0m \u001b[38;5;66;03m#index error >> trying to access an item at index which does not exist\u001b[39;00m\n\u001b[1;32m      2\u001b[0m l \u001b[38;5;241m=\u001b[39m [\u001b[38;5;241m1\u001b[39m,\u001b[38;5;241m2\u001b[39m,\u001b[38;5;241m3\u001b[39m,\u001b[38;5;241m4\u001b[39m]\n\u001b[0;32m----> 3\u001b[0m l[\u001b[38;5;241m89\u001b[39m]\n",
      "\u001b[0;31mIndexError\u001b[0m: list index out of range"
     ]
    }
   ],
   "source": [
    "#index error >> trying to access an item at index which does not exist\n",
    "l = [1,2,3,4]\n",
    "l[89]"
   ]
  },
  {
   "cell_type": "code",
   "execution_count": 47,
   "id": "61c59a86-b871-43e5-b84d-dca741b9aa18",
   "metadata": {},
   "outputs": [
    {
     "ename": "KeyError",
     "evalue": "'gender'",
     "output_type": "error",
     "traceback": [
      "\u001b[0;31m---------------------------------------------------------------------------\u001b[0m",
      "\u001b[0;31mKeyError\u001b[0m                                  Traceback (most recent call last)",
      "Cell \u001b[0;32mIn[47], line 3\u001b[0m\n\u001b[1;32m      1\u001b[0m \u001b[38;5;66;03m# key error >> when an identifier is not found\u001b[39;00m\n\u001b[1;32m      2\u001b[0m d \u001b[38;5;241m=\u001b[39m {\u001b[38;5;124m\"\u001b[39m\u001b[38;5;124mname\u001b[39m\u001b[38;5;124m\"\u001b[39m:\u001b[38;5;124m'\u001b[39m\u001b[38;5;124mcc\u001b[39m\u001b[38;5;124m'\u001b[39m}\n\u001b[0;32m----> 3\u001b[0m d[\u001b[38;5;124m'\u001b[39m\u001b[38;5;124mgender\u001b[39m\u001b[38;5;124m'\u001b[39m]\n",
      "\u001b[0;31mKeyError\u001b[0m: 'gender'"
     ]
    }
   ],
   "source": [
    "# key error >> when an identifier is not found\n",
    "d = {\"name\":'cc'}\n",
    "d['gender']"
   ]
  },
  {
   "cell_type": "code",
   "execution_count": 51,
   "id": "6e972b9b-fc1b-4bb5-beac-1cbec517e4e3",
   "metadata": {},
   "outputs": [
    {
     "ename": "ModuleNotFoundError",
     "evalue": "No module named 'loggingwa'",
     "output_type": "error",
     "traceback": [
      "\u001b[0;31m---------------------------------------------------------------------------\u001b[0m",
      "\u001b[0;31mModuleNotFoundError\u001b[0m                       Traceback (most recent call last)",
      "Cell \u001b[0;32mIn[51], line 2\u001b[0m\n\u001b[1;32m      1\u001b[0m \u001b[38;5;66;03m#no module exist in python\u001b[39;00m\n\u001b[0;32m----> 2\u001b[0m \u001b[38;5;28;01mimport\u001b[39;00m \u001b[38;5;21;01mloggingwa\u001b[39;00m\n",
      "\u001b[0;31mModuleNotFoundError\u001b[0m: No module named 'loggingwa'"
     ]
    }
   ],
   "source": [
    "#no module exist in python\n",
    "import loggingwa"
   ]
  },
  {
   "cell_type": "code",
   "execution_count": 55,
   "id": "2a789767-6c03-4af3-bb53-6c5efa2d1ee6",
   "metadata": {},
   "outputs": [
    {
     "ename": "NameError",
     "evalue": "name 'z' is not defined",
     "output_type": "error",
     "traceback": [
      "\u001b[0;31m---------------------------------------------------------------------------\u001b[0m",
      "\u001b[0;31mNameError\u001b[0m                                 Traceback (most recent call last)",
      "Cell \u001b[0;32mIn[55], line 2\u001b[0m\n\u001b[1;32m      1\u001b[0m \u001b[38;5;66;03m#name error >> if the identifier does not exist\u001b[39;00m\n\u001b[0;32m----> 2\u001b[0m \u001b[38;5;28mprint\u001b[39m(z)\n",
      "\u001b[0;31mNameError\u001b[0m: name 'z' is not defined"
     ]
    }
   ],
   "source": [
    "#name error >> if the identifier does not exist\n",
    "print(z)"
   ]
  },
  {
   "cell_type": "code",
   "execution_count": 59,
   "id": "e8e57f83-c1b1-414b-ba18-9cad08dd9deb",
   "metadata": {},
   "outputs": [
    {
     "ename": "ValueError",
     "evalue": "invalid literal for int() with base 10: 'Ram'",
     "output_type": "error",
     "traceback": [
      "\u001b[0;31m---------------------------------------------------------------------------\u001b[0m",
      "\u001b[0;31mValueError\u001b[0m                                Traceback (most recent call last)",
      "Cell \u001b[0;32mIn[59], line 2\u001b[0m\n\u001b[1;32m      1\u001b[0m \u001b[38;5;66;03m#value error >> when a function receives an argument of the right type but an inappropriate value\u001b[39;00m\n\u001b[0;32m----> 2\u001b[0m \u001b[38;5;28mint\u001b[39m(\u001b[38;5;124m\"\u001b[39m\u001b[38;5;124mRam\u001b[39m\u001b[38;5;124m\"\u001b[39m)\n",
      "\u001b[0;31mValueError\u001b[0m: invalid literal for int() with base 10: 'Ram'"
     ]
    }
   ],
   "source": [
    "#value error >> when a function receives an argument of the right type but an inappropriate value\n",
    "int(\"Ram\")"
   ]
  },
  {
   "cell_type": "code",
   "execution_count": 63,
   "id": "b98a9f38-1716-4f98-b650-12c857f1db5f",
   "metadata": {},
   "outputs": [
    {
     "ename": "AttributeError",
     "evalue": "'list' object has no attribute 'upper'",
     "output_type": "error",
     "traceback": [
      "\u001b[0;31m---------------------------------------------------------------------------\u001b[0m",
      "\u001b[0;31mAttributeError\u001b[0m                            Traceback (most recent call last)",
      "Cell \u001b[0;32mIn[63], line 3\u001b[0m\n\u001b[1;32m      1\u001b[0m \u001b[38;5;66;03m#attribute error >> when a method is not associated with the data structure\u001b[39;00m\n\u001b[1;32m      2\u001b[0m l \u001b[38;5;241m=\u001b[39m [\u001b[38;5;124m'\u001b[39m\u001b[38;5;124mram\u001b[39m\u001b[38;5;124m'\u001b[39m,\u001b[38;5;124m'\u001b[39m\u001b[38;5;124mshyam\u001b[39m\u001b[38;5;124m'\u001b[39m,\u001b[38;5;241m1\u001b[39m]\n\u001b[0;32m----> 3\u001b[0m l\u001b[38;5;241m.\u001b[39mupper()\n",
      "\u001b[0;31mAttributeError\u001b[0m: 'list' object has no attribute 'upper'"
     ]
    }
   ],
   "source": [
    "#attribute error >> when a method is not associated with the data structure\n",
    "l = ['ram','shyam',1]\n",
    "l.upper()"
   ]
  },
  {
   "cell_type": "code",
   "execution_count": 65,
   "id": "a77ca0bc-7ad6-4baf-9e11-dcd006421dc2",
   "metadata": {},
   "outputs": [],
   "source": [
    "# for detailed error and exceptions >> https://docs.python.org/3/tutorial/errors.html\n"
   ]
  },
  {
   "cell_type": "code",
   "execution_count": 67,
   "id": "ab62b77e-40ad-414e-acb4-2bd206969a33",
   "metadata": {},
   "outputs": [],
   "source": [
    "# exception >> somthing abnormal\n",
    "#some unexpexted event happed at runtime\n",
    "#raise in Python runtime and need to handle it"
   ]
  },
  {
   "cell_type": "code",
   "execution_count": 69,
   "id": "c210dfa7-2f4a-44b6-b4b9-22f71d85cc2c",
   "metadata": {},
   "outputs": [],
   "source": [
    "#example>>\n",
    "#zerodivisionerror >> logical error\n",
    "#execution time error\n",
    "#database error\n",
    "#file not found error\n"
   ]
  },
  {
   "cell_type": "code",
   "execution_count": 71,
   "id": "bf0c4493-0e50-465b-ac58-d784c206a23d",
   "metadata": {},
   "outputs": [],
   "source": [
    "#How to handle this type of error?\n",
    "#use try and except"
   ]
  },
  {
   "cell_type": "code",
   "execution_count": null,
   "id": "054b6882-5cfe-4603-b688-2473680bd44b",
   "metadata": {},
   "outputs": [],
   "source": [
    "#syntx\n",
    "#try:\n",
    "#suspicious code\n",
    "# except:\n",
    "# how to handle this case"
   ]
  },
  {
   "cell_type": "code",
   "execution_count": 75,
   "id": "b0335ba6-b018-4d7d-a48c-4995d79c981f",
   "metadata": {},
   "outputs": [
    {
     "name": "stdout",
     "output_type": "stream",
     "text": [
      "0.6666666666666666\n",
      "0.8333333333333334\n",
      "I love monjolika\n",
      "There is some error\n"
     ]
    }
   ],
   "source": [
    "try:\n",
    "    print(2/3)\n",
    "    print(5/6)\n",
    "    print(\"I love monjolika\")\n",
    "    print(100/0)\n",
    "    print(\"I want to go France\")\n",
    "except:\n",
    "    print(\"There is some error\")\n",
    "#here now we have handled an exception but this is not a best practice\n",
    "#always go for specific exception"
   ]
  },
  {
   "cell_type": "code",
   "execution_count": 79,
   "id": "b03aa413-0e33-4f99-b63b-8522c5213d09",
   "metadata": {},
   "outputs": [
    {
     "name": "stdout",
     "output_type": "stream",
     "text": [
      "division by zero\n"
     ]
    }
   ],
   "source": [
    "try:\n",
    "    100/0\n",
    "except Exception as e:# exception is the parent class of all different type of exception/error\n",
    "    print(e)"
   ]
  },
  {
   "cell_type": "code",
   "execution_count": 81,
   "id": "7e2bc446-fa52-4743-b40c-6048f2cf2642",
   "metadata": {},
   "outputs": [
    {
     "name": "stdout",
     "output_type": "stream",
     "text": [
      "I am handling zero divisio error, so assigning a=0 \n"
     ]
    }
   ],
   "source": [
    "#handling with specific exception\n",
    "try:\n",
    "    a=100/0\n",
    "except ZeroDivisionError as e:\n",
    "    print(\"I am handling zero divisio error, so assigning a=0 \")\n",
    "    a = 0"
   ]
  },
  {
   "cell_type": "code",
   "execution_count": 83,
   "id": "0bc31d24-8cf6-47d2-ad37-764abfad923d",
   "metadata": {},
   "outputs": [
    {
     "data": {
      "text/plain": [
       "0"
      ]
     },
     "execution_count": 83,
     "metadata": {},
     "output_type": "execute_result"
    }
   ],
   "source": [
    "a"
   ]
  },
  {
   "cell_type": "code",
   "execution_count": 85,
   "id": "f9e0bbb0-b171-41e1-abc1-a6c3a2fd7ac9",
   "metadata": {},
   "outputs": [
    {
     "name": "stdout",
     "output_type": "stream",
     "text": [
      "An error encountered -  [Errno 2] No such file or directory: 'file.txt'\n"
     ]
    }
   ],
   "source": [
    "try:\n",
    "    with open(\"file.txt\",'r') as file:\n",
    "        print(file.read())\n",
    "except Exception as e:\n",
    "    print(\"An error encountered - \",e)"
   ]
  },
  {
   "cell_type": "code",
   "execution_count": 89,
   "id": "a6555933-c942-499c-a169-4d6b018537d9",
   "metadata": {},
   "outputs": [
    {
     "name": "stdout",
     "output_type": "stream",
     "text": [
      "File not found, please check the database if file exist\n"
     ]
    }
   ],
   "source": [
    "try:\n",
    "    with open(\"file.txt\",'r') as file:\n",
    "        print(file.read())\n",
    "except FileNotFoundError:\n",
    "    print(\"File not found, please check the database if file exist\")"
   ]
  },
  {
   "cell_type": "code",
   "execution_count": 93,
   "id": "9710f577-1ad0-4c14-8ba2-65c84ab1dfac",
   "metadata": {},
   "outputs": [
    {
     "name": "stdout",
     "output_type": "stream",
     "text": [
      "The string can not be converted to integer:  invalid literal for int() with base 10: 'careercraft'\n"
     ]
    }
   ],
   "source": [
    "try:\n",
    "    int(\"careercraft\")\n",
    "except ValueError as e:\n",
    "    print(\"The string can not be converted to integer: \",e)"
   ]
  },
  {
   "cell_type": "code",
   "execution_count": 99,
   "id": "fd9f1775-1105-4a18-9f4d-d193ce315663",
   "metadata": {},
   "outputs": [
    {
     "name": "stdout",
     "output_type": "stream",
     "text": [
      "[Errno 2] No such file or directory: 'file.txt'\n"
     ]
    }
   ],
   "source": [
    "try:\n",
    "    p = 10\n",
    "    file = open(\"file.txt\",'r')\n",
    "    print(file.read())\n",
    "    print(p)\n",
    "    print(L1)\n",
    "    print(100/0)\n",
    "    L=[1,2,3,4]\n",
    "    l[100]\n",
    "except Exception as e:\n",
    "    print(e)\n",
    "except FileNotFoundError:\n",
    "    print(\"File not found, please check the database\")\n",
    "except NameError:\n",
    "    print(\"The object is not defined\")\n",
    "except ZeroDivisionError:\n",
    "    print(\"The denominator can not be 0\") \n",
    "\n",
    "#parent class will always be caught >> all the specific exception shoulf be written first then parent class"
   ]
  },
  {
   "cell_type": "code",
   "execution_count": 103,
   "id": "b7d31dd8-cea7-4c60-b0fd-d144027b459b",
   "metadata": {},
   "outputs": [
    {
     "name": "stdout",
     "output_type": "stream",
     "text": [
      "The string can not be converted to integer:  invalid literal for int() with base 10: 'careercraft'\n"
     ]
    }
   ],
   "source": [
    "try:\n",
    "    int(\"careercraft\")\n",
    "except (ValueError, TypeError) as e:\n",
    "    print(\"The string can not be converted to integer: \",e)"
   ]
  },
  {
   "cell_type": "code",
   "execution_count": 105,
   "id": "bca3d9f6-cdc9-4752-b01c-d04eb42b1292",
   "metadata": {},
   "outputs": [
    {
     "name": "stdout",
     "output_type": "stream",
     "text": [
      "name 'ttt' is not defined\n"
     ]
    }
   ],
   "source": [
    "try:\n",
    "    ttt\n",
    "except NameError as e:\n",
    "    print(e)"
   ]
  },
  {
   "cell_type": "code",
   "execution_count": 109,
   "id": "72a321f1-7609-4417-a4ea-32c40f3f9813",
   "metadata": {},
   "outputs": [
    {
     "name": "stdout",
     "output_type": "stream",
     "text": [
      "The key not found 'gender'\n"
     ]
    }
   ],
   "source": [
    "d = {\"name\":\"ajay\"}\n",
    "try:\n",
    "    d['gender']\n",
    "except KeyError as e:\n",
    "    print(\"The key not found\",e)"
   ]
  },
  {
   "cell_type": "code",
   "execution_count": 113,
   "id": "7c192e67-f64f-4b72-a3f2-12032b533b08",
   "metadata": {},
   "outputs": [
    {
     "name": "stdout",
     "output_type": "stream",
     "text": [
      "Index does't Exist:  list index out of range\n"
     ]
    }
   ],
   "source": [
    "try:\n",
    "    l = [1,2,3,4]\n",
    "    l[6]\n",
    "except IndexError as e:\n",
    "    print(\"Index does't Exist: \",e)"
   ]
  },
  {
   "cell_type": "code",
   "execution_count": 121,
   "id": "95afcf4e-80e5-4162-83f7-4b9985f14d2a",
   "metadata": {},
   "outputs": [
    {
     "name": "stdout",
     "output_type": "stream",
     "text": [
      "File not found, please check the data if file exist\n",
      "It will definately exdcutede\n"
     ]
    }
   ],
   "source": [
    "#else and finally with try except\n",
    "\n",
    "try:\n",
    "    with open(\"file.txt\",'r') as file:\n",
    "        print(file.read())\n",
    "except FileNotFoundError:\n",
    "    print(\"File not found, please check the data if file exist\")\n",
    "else:\n",
    "    # if try executes successfuly you can put your rest code in else block, you can also keep in try\n",
    "    print(file.read())\n",
    "finally:\n",
    "    # all the compulsory code irrespective of try block executed or not should be kep in finally\n",
    "    # example : database close, resource cleanup, any execution message\n",
    "    \n",
    "    print(\"It will definately exdcutede\")"
   ]
  },
  {
   "cell_type": "code",
   "execution_count": 131,
   "id": "234b7977-8f01-4722-9fa3-29459e17f803",
   "metadata": {},
   "outputs": [
    {
     "name": "stdout",
     "output_type": "stream",
     "text": [
      "My file not found [Errno 2] No such file or directory: 'file.txt'\n"
     ]
    }
   ],
   "source": [
    "#some more best practices\n",
    "#dont try to use unnecessary exception/multiple exception\n",
    "# in below example zero devision error does not make any sence here\n",
    "try :\n",
    "    with open('file.txt','r') as f:\n",
    "        f.read()\n",
    "except ZeroDivisionError as e:\n",
    "    print(\"first msg\",e)\n",
    "except FileNotFoundError as e:\n",
    "    print(\"My file not found\",e)\n"
   ]
  },
  {
   "cell_type": "code",
   "execution_count": 135,
   "id": "2d265131-5a04-4d4f-a258-52111abd3dfb",
   "metadata": {},
   "outputs": [],
   "source": [
    "# if u are not clear with the exception simply use parent class\n",
    "#conclusion\n",
    "#while writing code, try to think of edge/corner cases and use corresponding exceptions\n",
    "# if not able to think use Exception message"
   ]
  },
  {
   "cell_type": "code",
   "execution_count": 139,
   "id": "afdf0dcd-875a-4359-8bbc-8151da7076c1",
   "metadata": {},
   "outputs": [],
   "source": [
    "# always try to log the exception\n",
    "import logging\n",
    "logging.basicConfig(filename = 'data_prep.log',level = logging.DEBUG, format = '%(asctime)s %(levelname)s %(message)s')\n",
    "\n",
    "\n",
    "try :\n",
    "    with open('file.txt','r') as f:\n",
    "        f.read()\n",
    "\n",
    "except FileNotFoundError as e:\n",
    "    logging.error(f\"My file not found {e} \")\n"
   ]
  },
  {
   "cell_type": "code",
   "execution_count": 141,
   "id": "96d404d8-5719-4bd0-af7b-37537a0a909d",
   "metadata": {},
   "outputs": [],
   "source": [
    "#Avoid nested try except as its not a best practice, already you have a suspicious in the code\n"
   ]
  },
  {
   "cell_type": "code",
   "execution_count": 143,
   "id": "e4998a55-1ead-45eb-b85f-55c0986d1964",
   "metadata": {},
   "outputs": [],
   "source": [
    "#raise Exception\n",
    "#exception are raised when error occurs in runtime or even mannually using keyword\n",
    "# you can also pass a message as in why error has executed\n"
   ]
  },
  {
   "cell_type": "code",
   "execution_count": 145,
   "id": "0eadc603-a794-4332-b37b-be1da8ef55a4",
   "metadata": {},
   "outputs": [
    {
     "ename": "ZeroDivisionError",
     "evalue": "The denominator can not be 0",
     "output_type": "error",
     "traceback": [
      "\u001b[0;31m---------------------------------------------------------------------------\u001b[0m",
      "\u001b[0;31mZeroDivisionError\u001b[0m                         Traceback (most recent call last)",
      "Cell \u001b[0;32mIn[145], line 1\u001b[0m\n\u001b[0;32m----> 1\u001b[0m \u001b[38;5;28;01mraise\u001b[39;00m \u001b[38;5;167;01mZeroDivisionError\u001b[39;00m(\u001b[38;5;124m\"\u001b[39m\u001b[38;5;124mThe denominator can not be 0\u001b[39m\u001b[38;5;124m\"\u001b[39m)\n",
      "\u001b[0;31mZeroDivisionError\u001b[0m: The denominator can not be 0"
     ]
    }
   ],
   "source": [
    "raise ZeroDivisionError(\"The denominator can not be 0\")"
   ]
  },
  {
   "cell_type": "code",
   "execution_count": 147,
   "id": "1cab3163-81f2-4db7-8f61-9156788ec43c",
   "metadata": {},
   "outputs": [
    {
     "ename": "FileNotFoundError",
     "evalue": "The File is not present",
     "output_type": "error",
     "traceback": [
      "\u001b[0;31m---------------------------------------------------------------------------\u001b[0m",
      "\u001b[0;31mFileNotFoundError\u001b[0m                         Traceback (most recent call last)",
      "Cell \u001b[0;32mIn[147], line 1\u001b[0m\n\u001b[0;32m----> 1\u001b[0m \u001b[38;5;28;01mraise\u001b[39;00m \u001b[38;5;167;01mFileNotFoundError\u001b[39;00m(\u001b[38;5;124m\"\u001b[39m\u001b[38;5;124mThe File is not present\u001b[39m\u001b[38;5;124m\"\u001b[39m)\n",
      "\u001b[0;31mFileNotFoundError\u001b[0m: The File is not present"
     ]
    }
   ],
   "source": [
    "raise FileNotFoundError(\"The File is not present\")"
   ]
  },
  {
   "cell_type": "code",
   "execution_count": 149,
   "id": "55789c5c-740f-4d48-ab98-3abea6351354",
   "metadata": {},
   "outputs": [],
   "source": [
    "# in java u have try catch and throw\n",
    "#in python we have try except and raise"
   ]
  },
  {
   "cell_type": "code",
   "execution_count": 176,
   "id": "fbf4856d-28c2-4cdc-a5ba-fd8e25f3e7a2",
   "metadata": {},
   "outputs": [],
   "source": [
    "#application of raise\n",
    "class ATM:\n",
    "    def __init__(self, balance):\n",
    "        self.balance = balance\n",
    "    def withdraw(self, amount):\n",
    "        if self.balance < amount:\n",
    "            raise Exception(\"You dont have sufficient balance, please talk to your daddy.\")\n",
    "        if amount < 0:\n",
    "            raise Exception(\"Are you mad? how amount can be negative.\")\n",
    "        self.balance = self.balance-amount"
   ]
  },
  {
   "cell_type": "code",
   "execution_count": 178,
   "id": "8b6a230d-55e9-4ff1-b3f0-0ff69d9090b1",
   "metadata": {},
   "outputs": [
    {
     "name": "stdout",
     "output_type": "stream",
     "text": [
      "You dont have sufficient balance, please talk to your daddy.\n"
     ]
    }
   ],
   "source": [
    "t1 = ATM(1000)\n",
    "try:\n",
    "    t1.withdraw(2000)\n",
    "except Exception as e:\n",
    "    print(e)\n",
    "else:\n",
    "    print(t1.balance)\n",
    "\n",
    "# in the class you have raised the exception which is caught later in try except"
   ]
  },
  {
   "cell_type": "code",
   "execution_count": 180,
   "id": "eb86a907-3611-4d48-b74f-e5d7db066421",
   "metadata": {},
   "outputs": [],
   "source": [
    "#custom exception class"
   ]
  },
  {
   "cell_type": "code",
   "execution_count": 186,
   "id": "fb128ee4-92c4-43fc-9c64-a7f61878e5cd",
   "metadata": {},
   "outputs": [],
   "source": [
    "class CustomException(Exception):\n",
    "    def __init__(self,msg):\n",
    "        self.msg = msg"
   ]
  },
  {
   "cell_type": "code",
   "execution_count": 192,
   "id": "d37101f2-9ada-42b5-9341-3242c284a3f9",
   "metadata": {},
   "outputs": [],
   "source": [
    "class ATM:\n",
    "    def __init__(self, balance):\n",
    "        self.balance = balance\n",
    "    def withdraw(self, amount):\n",
    "        if self.balance < amount:\n",
    "            raise CustomException(\"You dont have sufficient balance, please talk to your daddy.\")\n",
    "        if amount < 0:\n",
    "            raise CustomException(\"Are you mad? how amount can be negative.\")\n",
    "        self.balance = self.balance-amount"
   ]
  },
  {
   "cell_type": "code",
   "execution_count": 194,
   "id": "52cb8d98-870d-486a-9c4e-ac78a7e91c98",
   "metadata": {},
   "outputs": [
    {
     "name": "stdout",
     "output_type": "stream",
     "text": [
      "You dont have sufficient balance, please talk to your daddy.\n"
     ]
    }
   ],
   "source": [
    "t1 = ATM(1000)\n",
    "try:\n",
    "    t1.withdraw(2000)\n",
    "except  CustomException as e: # here instead of exception you can use custom exception\n",
    "    print(e)\n",
    "else:\n",
    "    print(t1.balance)"
   ]
  },
  {
   "cell_type": "code",
   "execution_count": 202,
   "id": "8464a0b8-14c8-4f43-bf0a-cd4de0b53289",
   "metadata": {},
   "outputs": [],
   "source": [
    "#Example\n",
    "#you want to filter a transaction above a threshold\n",
    "\n",
    "import logging\n",
    "logging.basicConfig(filename = 'data_prep.log',level = logging.DEBUG, format = '%(asctime)s %(levelname)s %(message)s')\n",
    "\n",
    "def filter_transaction(transaction,threshold):\n",
    "    logging.info(f\"Filtering transaction has started for threshold {threshold}\")\n",
    "    if not isinstance(transaction,list):\n",
    "        logging.error(\"Transaction must be a list\")\n",
    "        return None\n",
    "    logging.debug(f\"Input transaction {transactions}\")\n",
    "\n",
    "    try:\n",
    "        filtered = [t for t in transactions if t>threshold]\n",
    "        logging.info(f\"Filtered {len(transactions)- len(filtered)} transactions below the threshold\")\n",
    "    except TypeError as e: #typeerror because a value in the transaction List can be string\n",
    "        logging.error(f\"Error during filtering {e}\")\n",
    "        return None\n",
    "    logging.debug(f\"Filtered transactions, (filtered)\")\n",
    "    return filtered\n",
    "    "
   ]
  },
  {
   "cell_type": "code",
   "execution_count": 204,
   "id": "ffe7f340-151e-4204-a4e8-e4a13de078c4",
   "metadata": {},
   "outputs": [
    {
     "data": {
      "text/plain": [
       "[12000]"
      ]
     },
     "execution_count": 204,
     "metadata": {},
     "output_type": "execute_result"
    }
   ],
   "source": [
    "transactions = [100,1000,12000,10000]\n",
    "filter_transaction(transactions,10000)"
   ]
  },
  {
   "cell_type": "code",
   "execution_count": 208,
   "id": "42ddbd41-25d5-4cca-9d7a-bccbb0bfee3d",
   "metadata": {},
   "outputs": [],
   "source": [
    "transactions = [100,1000,12000,10000,'invalid'] #due to string as element it will return none and log\n",
    "filter_transaction(transactions,10000)"
   ]
  },
  {
   "cell_type": "code",
   "execution_count": null,
   "id": "2383ab13-4faf-40d7-b6c8-a3256b691bfb",
   "metadata": {},
   "outputs": [],
   "source": []
  }
 ],
 "metadata": {
  "kernelspec": {
   "display_name": "Python 3 (ipykernel)",
   "language": "python",
   "name": "python3"
  },
  "language_info": {
   "codemirror_mode": {
    "name": "ipython",
    "version": 3
   },
   "file_extension": ".py",
   "mimetype": "text/x-python",
   "name": "python",
   "nbconvert_exporter": "python",
   "pygments_lexer": "ipython3",
   "version": "3.12.7"
  }
 },
 "nbformat": 4,
 "nbformat_minor": 5
}
